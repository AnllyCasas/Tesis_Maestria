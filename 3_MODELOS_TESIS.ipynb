{
  "nbformat": 4,
  "nbformat_minor": 0,
  "metadata": {
    "colab": {
      "provenance": []
    },
    "kernelspec": {
      "name": "python3",
      "display_name": "Python 3"
    },
    "language_info": {
      "name": "python"
    }
  },
  "cells": [
    {
      "cell_type": "markdown",
      "source": [
        "**PREDICCIÓN DEL ESTADIO EN PACIENTES DIAGNÓSTICADOS CON ENFERMEDAD RENAL CRÓNICA EN UN SUBSISTEMA DE SALUD EN COLOMBIA MEDIANTE ALGORITMOS DE APRENDIZAJE SUPERVISADO**"
      ],
      "metadata": {
        "id": "vrYCtseM0XhV"
      }
    },
    {
      "cell_type": "markdown",
      "source": [
        "**MODELOS**"
      ],
      "metadata": {
        "id": "tvT279F70bGn"
      }
    },
    {
      "cell_type": "code",
      "source": [
        "import pandas as pd #Manipulacion data\n",
        "import seaborn as sns # Graficas mejoradas\n",
        "import datetime as dt #Fechas\n",
        "import matplotlib.pyplot as plt #Graficas por defecto\n",
        "import matplotlib.ticker as ticker # matplotly interactivo\n",
        "from sklearn.model_selection import train_test_split\n",
        "from sklearn.preprocessing import LabelEncoder"
      ],
      "metadata": {
        "id": "bHDxFoqvIMcc"
      },
      "execution_count": null,
      "outputs": []
    },
    {
      "cell_type": "code",
      "execution_count": null,
      "metadata": {
        "id": "gAIU6zGfHkZa"
      },
      "outputs": [],
      "source": [
        "df = pd.read_csv('/content/ERC 2023_FINAL.csv',sep=\";\",encoding='latin-1')"
      ]
    },
    {
      "cell_type": "code",
      "source": [
        "num_registros_df = len(df)\n",
        "num_registros_df"
      ],
      "metadata": {
        "colab": {
          "base_uri": "https://localhost:8080/"
        },
        "id": "os12RNV4Fg-e",
        "outputId": "a9b047f3-694e-413d-8850-24e7254cc0a4"
      },
      "execution_count": null,
      "outputs": [
        {
          "output_type": "execute_result",
          "data": {
            "text/plain": [
              "4968"
            ]
          },
          "metadata": {},
          "execution_count": 153
        }
      ]
    },
    {
      "cell_type": "code",
      "source": [
        "df = df.dropna(subset=['TASA_FILTRACION'])\n",
        "#,'COLES','CREA ','ALB/CREA','TA'\n",
        "\n"
      ],
      "metadata": {
        "id": "Auv7rsw9C1P8"
      },
      "execution_count": null,
      "outputs": []
    },
    {
      "cell_type": "code",
      "source": [
        "num_registros_df = len(df)\n",
        "num_registros_df"
      ],
      "metadata": {
        "colab": {
          "base_uri": "https://localhost:8080/"
        },
        "id": "ACGN1CuEFWWh",
        "outputId": "320ac41d-9d2f-48c9-d426-e41dd2ffc3d2"
      },
      "execution_count": null,
      "outputs": [
        {
          "output_type": "execute_result",
          "data": {
            "text/plain": [
              "3189"
            ]
          },
          "metadata": {},
          "execution_count": 155
        }
      ]
    },
    {
      "cell_type": "code",
      "source": [
        "print(df)"
      ],
      "metadata": {
        "id": "xM7UQlw1bQdC",
        "colab": {
          "base_uri": "https://localhost:8080/"
        },
        "outputId": "5b14cea6-c0e3-4cb3-abbd-d344cf2fdaae"
      },
      "execution_count": null,
      "outputs": [
        {
          "output_type": "stream",
          "name": "stdout",
          "text": [
            "                      TIPO_REG    DAT_BARN  EDAD Sexo AFILIACION COD_EPS  \\\n",
            "0                          HTA  30/08/1949    74    M          P  RES003   \n",
            "1                          HTA  21/09/1935    88    M          P  RES003   \n",
            "2                     HTA-DIAB  20/12/1934    89    M          P  RES003   \n",
            "3                          HTA  13/08/1936    87    M          P  RES003   \n",
            "4                          HTA  20/05/1939    84    M          P  RES003   \n",
            "...                        ...         ...   ...  ...        ...     ...   \n",
            "4745                       HTA  30/11/1968    55    M          P  RES003   \n",
            "4746                       HTA  30/01/1969    54    M          P  RES003   \n",
            "4747  NO HTA/DIAB CON DAÑO REL  18/11/1961    62    M          P  RES003   \n",
            "4748  NO HTA/DIAB CON DAÑO REL  24/07/1963    60    M          P  RES003   \n",
            "4926                      DIAB  11/07/1997    26    M          P  RES003   \n",
            "\n",
            "     COD_ETNICA               G_POB  MUN.        DATE_  ...  N_TRANS_REL  \\\n",
            "0       Ninguna        Adulto Mayor  50001   2/05/1988  ...          NaN   \n",
            "1       Ninguna        Adulto Mayor  50001   1/07/1979  ...          NaN   \n",
            "2       Ninguna        Adulto Mayor  50001   1/05/1990  ...          NaN   \n",
            "3       Ninguna        Adulto Mayor  50001  16/06/1961  ...          NaN   \n",
            "4       Ninguna        Adulto Mayor  50001   1/03/1960  ...          NaN   \n",
            "...         ...                 ...    ...         ...  ...          ...   \n",
            "4745    Ninguna  Trabajador Urbano   11001   1/04/2012  ...          NaN   \n",
            "4746    Ninguna                Otro  11001  31/08/2011  ...          NaN   \n",
            "4747    Ninguna                Otro  11001   1/11/2018  ...          NaN   \n",
            "4748    Ninguna                Otro  11001   1/07/2024  ...          NaN   \n",
            "4926    Ninguna                Otro  25572  21/12/2016  ...          NaN   \n",
            "\n",
            "     COST_TRANS  TIEMP_SERVI COST_TOTAL  COD EPS  NOV_REPORAMTE CAU_MUERTE  \\\n",
            "0           NaN           12   794113.0      NaN            NaN        NaN   \n",
            "1           NaN           12        NaN      NaN            7.0        NaN   \n",
            "2           NaN           10  2304515.0      NaN            NaN        NaN   \n",
            "3           NaN           12  1336759.0      NaN            NaN        NaN   \n",
            "4           NaN            8  1336759.0      NaN            NaN        NaN   \n",
            "...         ...          ...        ...      ...            ...        ...   \n",
            "4745        NaN           12   794113.0      NaN            NaN        NaN   \n",
            "4746        NaN           12  1336759.0      NaN            NaN        NaN   \n",
            "4747        NaN           12   250000.0      NaN            NaN        NaN   \n",
            "4748        NaN           12   250000.0      NaN            NaN        NaN   \n",
            "4926        NaN            6   714078.0      NaN            NaN        NaN   \n",
            "\n",
            "      DAT_MUERTE      CUI   DAT_CORTE  \n",
            "0            NaN    57959  30/06/2023  \n",
            "1            NaN   507499  30/06/2023  \n",
            "2            NaN   175624  30/06/2023  \n",
            "3            NaN   399569  30/06/2023  \n",
            "4            NaN   403006  30/06/2023  \n",
            "...          ...      ...         ...  \n",
            "4745         NaN  3634652  30/06/2023  \n",
            "4746         NaN   399824  30/06/2023  \n",
            "4747         NaN  2863534  30/06/2023  \n",
            "4748         NaN   317487  30/06/2023  \n",
            "4926         NaN  3454106  30/06/2023  \n",
            "\n",
            "[3189 rows x 114 columns]\n"
          ]
        }
      ]
    },
    {
      "cell_type": "code",
      "source": [
        "df.info()"
      ],
      "metadata": {
        "colab": {
          "base_uri": "https://localhost:8080/"
        },
        "id": "3BvxEa9Ll4mk",
        "outputId": "8bf770bf-d020-4b67-e22a-db379e533a0f"
      },
      "execution_count": null,
      "outputs": [
        {
          "output_type": "stream",
          "name": "stdout",
          "text": [
            "<class 'pandas.core.frame.DataFrame'>\n",
            "Int64Index: 3189 entries, 0 to 4926\n",
            "Columns: 114 entries, TIPO_REG to DAT_CORTE\n",
            "dtypes: float64(75), int64(11), object(28)\n",
            "memory usage: 2.8+ MB\n"
          ]
        }
      ]
    },
    {
      "cell_type": "code",
      "source": [
        "# Subconjunto de variables para la ejecucion de los modelos\n",
        "df2=df[['EDAD',\n",
        "  'CREA ',\n",
        "  'IMC',\n",
        "  'ETIO_ERC',\n",
        "  'Sexo',\n",
        "  'G_POB',\n",
        "  'COLES',\n",
        "  'TA',\n",
        "  'DX_ERC',\n",
        "  'ALB/CREA',\n",
        "  'TIEMP_SERVI',\n",
        "  'PROG_ERC',\n",
        "  'ANTAGONISTA',\n",
        "  'RECIBIO_TRANS','TASA_FILTRACION']]\n",
        "df2\n"
      ],
      "metadata": {
        "colab": {
          "base_uri": "https://localhost:8080/",
          "height": 424
        },
        "id": "agG25IKLjbB7",
        "outputId": "736dee0d-02e6-4365-d592-4c9743bfaa9b"
      },
      "execution_count": null,
      "outputs": [
        {
          "output_type": "execute_result",
          "data": {
            "text/plain": [
              "      EDAD  CREA   IMC      ETIO_ERC Sexo               G_POB  COLES     TA  \\\n",
              "0       74   0.74   27         Otras    M        Adulto Mayor  181.0  120.0   \n",
              "1       88    NaN   26         Otras    M        Adulto Mayor    NaN  130.0   \n",
              "2       89   1.38   28         Otras    M        Adulto Mayor  187.0  110.0   \n",
              "3       87   0.86   24         Otras    M        Adulto Mayor  153.0  100.0   \n",
              "4       84   1.44   26         Otras    M        Adulto Mayor  276.0  160.0   \n",
              "...    ...    ...  ...           ...  ...                 ...    ...    ...   \n",
              "4745    55   1.46   32           NaN    M  Trabajador Urbano   179.0  122.0   \n",
              "4746    54   1.78   24           NaN    M                Otro  108.0  110.0   \n",
              "4747    62   1.57   28         Otras    M                Otro    NaN  105.0   \n",
              "4748    60   1.32   25           NaN    M                Otro  219.0  110.0   \n",
              "4926    26   0.90   22  No tiene ERC    M                Otro  166.0  104.0   \n",
              "\n",
              "      DX_ERC  ALB/CREA  TIEMP_SERVI  PROG_ERC  ANTAGONISTA  RECIBIO_TRANS  \\\n",
              "0          1      9.00           12       2.0          2.0              5   \n",
              "1          1      9.00           12       2.0          2.0              5   \n",
              "2          1      9.00           10       2.0          2.0              5   \n",
              "3          1      9.00           12       2.0          2.0              5   \n",
              "4          1      9.00            8       2.0          1.0              5   \n",
              "...      ...       ...          ...       ...          ...            ...   \n",
              "4745       1      3.93           12       1.0          2.0              5   \n",
              "4746       1     57.93           12       1.0          1.0              5   \n",
              "4747       1    429.70           12       1.0          1.0              5   \n",
              "4748       1      1.30           12       1.0          2.0              5   \n",
              "4926       2      9.00            6       2.0          2.0              5   \n",
              "\n",
              "      TASA_FILTRACION  \n",
              "0               82.00  \n",
              "1               43.00  \n",
              "2               34.00  \n",
              "3               47.00  \n",
              "4               45.00  \n",
              "...               ...  \n",
              "4745            74.85  \n",
              "4746            52.34  \n",
              "4747            52.97  \n",
              "4748            63.92  \n",
              "4926           109.00  \n",
              "\n",
              "[3189 rows x 15 columns]"
            ],
            "text/html": [
              "\n",
              "  <div id=\"df-65058a86-04b3-48c9-afe9-82b17d26a003\" class=\"colab-df-container\">\n",
              "    <div>\n",
              "<style scoped>\n",
              "    .dataframe tbody tr th:only-of-type {\n",
              "        vertical-align: middle;\n",
              "    }\n",
              "\n",
              "    .dataframe tbody tr th {\n",
              "        vertical-align: top;\n",
              "    }\n",
              "\n",
              "    .dataframe thead th {\n",
              "        text-align: right;\n",
              "    }\n",
              "</style>\n",
              "<table border=\"1\" class=\"dataframe\">\n",
              "  <thead>\n",
              "    <tr style=\"text-align: right;\">\n",
              "      <th></th>\n",
              "      <th>EDAD</th>\n",
              "      <th>CREA</th>\n",
              "      <th>IMC</th>\n",
              "      <th>ETIO_ERC</th>\n",
              "      <th>Sexo</th>\n",
              "      <th>G_POB</th>\n",
              "      <th>COLES</th>\n",
              "      <th>TA</th>\n",
              "      <th>DX_ERC</th>\n",
              "      <th>ALB/CREA</th>\n",
              "      <th>TIEMP_SERVI</th>\n",
              "      <th>PROG_ERC</th>\n",
              "      <th>ANTAGONISTA</th>\n",
              "      <th>RECIBIO_TRANS</th>\n",
              "      <th>TASA_FILTRACION</th>\n",
              "    </tr>\n",
              "  </thead>\n",
              "  <tbody>\n",
              "    <tr>\n",
              "      <th>0</th>\n",
              "      <td>74</td>\n",
              "      <td>0.74</td>\n",
              "      <td>27</td>\n",
              "      <td>Otras</td>\n",
              "      <td>M</td>\n",
              "      <td>Adulto Mayor</td>\n",
              "      <td>181.0</td>\n",
              "      <td>120.0</td>\n",
              "      <td>1</td>\n",
              "      <td>9.00</td>\n",
              "      <td>12</td>\n",
              "      <td>2.0</td>\n",
              "      <td>2.0</td>\n",
              "      <td>5</td>\n",
              "      <td>82.00</td>\n",
              "    </tr>\n",
              "    <tr>\n",
              "      <th>1</th>\n",
              "      <td>88</td>\n",
              "      <td>NaN</td>\n",
              "      <td>26</td>\n",
              "      <td>Otras</td>\n",
              "      <td>M</td>\n",
              "      <td>Adulto Mayor</td>\n",
              "      <td>NaN</td>\n",
              "      <td>130.0</td>\n",
              "      <td>1</td>\n",
              "      <td>9.00</td>\n",
              "      <td>12</td>\n",
              "      <td>2.0</td>\n",
              "      <td>2.0</td>\n",
              "      <td>5</td>\n",
              "      <td>43.00</td>\n",
              "    </tr>\n",
              "    <tr>\n",
              "      <th>2</th>\n",
              "      <td>89</td>\n",
              "      <td>1.38</td>\n",
              "      <td>28</td>\n",
              "      <td>Otras</td>\n",
              "      <td>M</td>\n",
              "      <td>Adulto Mayor</td>\n",
              "      <td>187.0</td>\n",
              "      <td>110.0</td>\n",
              "      <td>1</td>\n",
              "      <td>9.00</td>\n",
              "      <td>10</td>\n",
              "      <td>2.0</td>\n",
              "      <td>2.0</td>\n",
              "      <td>5</td>\n",
              "      <td>34.00</td>\n",
              "    </tr>\n",
              "    <tr>\n",
              "      <th>3</th>\n",
              "      <td>87</td>\n",
              "      <td>0.86</td>\n",
              "      <td>24</td>\n",
              "      <td>Otras</td>\n",
              "      <td>M</td>\n",
              "      <td>Adulto Mayor</td>\n",
              "      <td>153.0</td>\n",
              "      <td>100.0</td>\n",
              "      <td>1</td>\n",
              "      <td>9.00</td>\n",
              "      <td>12</td>\n",
              "      <td>2.0</td>\n",
              "      <td>2.0</td>\n",
              "      <td>5</td>\n",
              "      <td>47.00</td>\n",
              "    </tr>\n",
              "    <tr>\n",
              "      <th>4</th>\n",
              "      <td>84</td>\n",
              "      <td>1.44</td>\n",
              "      <td>26</td>\n",
              "      <td>Otras</td>\n",
              "      <td>M</td>\n",
              "      <td>Adulto Mayor</td>\n",
              "      <td>276.0</td>\n",
              "      <td>160.0</td>\n",
              "      <td>1</td>\n",
              "      <td>9.00</td>\n",
              "      <td>8</td>\n",
              "      <td>2.0</td>\n",
              "      <td>1.0</td>\n",
              "      <td>5</td>\n",
              "      <td>45.00</td>\n",
              "    </tr>\n",
              "    <tr>\n",
              "      <th>...</th>\n",
              "      <td>...</td>\n",
              "      <td>...</td>\n",
              "      <td>...</td>\n",
              "      <td>...</td>\n",
              "      <td>...</td>\n",
              "      <td>...</td>\n",
              "      <td>...</td>\n",
              "      <td>...</td>\n",
              "      <td>...</td>\n",
              "      <td>...</td>\n",
              "      <td>...</td>\n",
              "      <td>...</td>\n",
              "      <td>...</td>\n",
              "      <td>...</td>\n",
              "      <td>...</td>\n",
              "    </tr>\n",
              "    <tr>\n",
              "      <th>4745</th>\n",
              "      <td>55</td>\n",
              "      <td>1.46</td>\n",
              "      <td>32</td>\n",
              "      <td>NaN</td>\n",
              "      <td>M</td>\n",
              "      <td>Trabajador Urbano</td>\n",
              "      <td>179.0</td>\n",
              "      <td>122.0</td>\n",
              "      <td>1</td>\n",
              "      <td>3.93</td>\n",
              "      <td>12</td>\n",
              "      <td>1.0</td>\n",
              "      <td>2.0</td>\n",
              "      <td>5</td>\n",
              "      <td>74.85</td>\n",
              "    </tr>\n",
              "    <tr>\n",
              "      <th>4746</th>\n",
              "      <td>54</td>\n",
              "      <td>1.78</td>\n",
              "      <td>24</td>\n",
              "      <td>NaN</td>\n",
              "      <td>M</td>\n",
              "      <td>Otro</td>\n",
              "      <td>108.0</td>\n",
              "      <td>110.0</td>\n",
              "      <td>1</td>\n",
              "      <td>57.93</td>\n",
              "      <td>12</td>\n",
              "      <td>1.0</td>\n",
              "      <td>1.0</td>\n",
              "      <td>5</td>\n",
              "      <td>52.34</td>\n",
              "    </tr>\n",
              "    <tr>\n",
              "      <th>4747</th>\n",
              "      <td>62</td>\n",
              "      <td>1.57</td>\n",
              "      <td>28</td>\n",
              "      <td>Otras</td>\n",
              "      <td>M</td>\n",
              "      <td>Otro</td>\n",
              "      <td>NaN</td>\n",
              "      <td>105.0</td>\n",
              "      <td>1</td>\n",
              "      <td>429.70</td>\n",
              "      <td>12</td>\n",
              "      <td>1.0</td>\n",
              "      <td>1.0</td>\n",
              "      <td>5</td>\n",
              "      <td>52.97</td>\n",
              "    </tr>\n",
              "    <tr>\n",
              "      <th>4748</th>\n",
              "      <td>60</td>\n",
              "      <td>1.32</td>\n",
              "      <td>25</td>\n",
              "      <td>NaN</td>\n",
              "      <td>M</td>\n",
              "      <td>Otro</td>\n",
              "      <td>219.0</td>\n",
              "      <td>110.0</td>\n",
              "      <td>1</td>\n",
              "      <td>1.30</td>\n",
              "      <td>12</td>\n",
              "      <td>1.0</td>\n",
              "      <td>2.0</td>\n",
              "      <td>5</td>\n",
              "      <td>63.92</td>\n",
              "    </tr>\n",
              "    <tr>\n",
              "      <th>4926</th>\n",
              "      <td>26</td>\n",
              "      <td>0.90</td>\n",
              "      <td>22</td>\n",
              "      <td>No tiene ERC</td>\n",
              "      <td>M</td>\n",
              "      <td>Otro</td>\n",
              "      <td>166.0</td>\n",
              "      <td>104.0</td>\n",
              "      <td>2</td>\n",
              "      <td>9.00</td>\n",
              "      <td>6</td>\n",
              "      <td>2.0</td>\n",
              "      <td>2.0</td>\n",
              "      <td>5</td>\n",
              "      <td>109.00</td>\n",
              "    </tr>\n",
              "  </tbody>\n",
              "</table>\n",
              "<p>3189 rows × 15 columns</p>\n",
              "</div>\n",
              "    <div class=\"colab-df-buttons\">\n",
              "\n",
              "  <div class=\"colab-df-container\">\n",
              "    <button class=\"colab-df-convert\" onclick=\"convertToInteractive('df-65058a86-04b3-48c9-afe9-82b17d26a003')\"\n",
              "            title=\"Convert this dataframe to an interactive table.\"\n",
              "            style=\"display:none;\">\n",
              "\n",
              "  <svg xmlns=\"http://www.w3.org/2000/svg\" height=\"24px\" viewBox=\"0 -960 960 960\">\n",
              "    <path d=\"M120-120v-720h720v720H120Zm60-500h600v-160H180v160Zm220 220h160v-160H400v160Zm0 220h160v-160H400v160ZM180-400h160v-160H180v160Zm440 0h160v-160H620v160ZM180-180h160v-160H180v160Zm440 0h160v-160H620v160Z\"/>\n",
              "  </svg>\n",
              "    </button>\n",
              "\n",
              "  <style>\n",
              "    .colab-df-container {\n",
              "      display:flex;\n",
              "      gap: 12px;\n",
              "    }\n",
              "\n",
              "    .colab-df-convert {\n",
              "      background-color: #E8F0FE;\n",
              "      border: none;\n",
              "      border-radius: 50%;\n",
              "      cursor: pointer;\n",
              "      display: none;\n",
              "      fill: #1967D2;\n",
              "      height: 32px;\n",
              "      padding: 0 0 0 0;\n",
              "      width: 32px;\n",
              "    }\n",
              "\n",
              "    .colab-df-convert:hover {\n",
              "      background-color: #E2EBFA;\n",
              "      box-shadow: 0px 1px 2px rgba(60, 64, 67, 0.3), 0px 1px 3px 1px rgba(60, 64, 67, 0.15);\n",
              "      fill: #174EA6;\n",
              "    }\n",
              "\n",
              "    .colab-df-buttons div {\n",
              "      margin-bottom: 4px;\n",
              "    }\n",
              "\n",
              "    [theme=dark] .colab-df-convert {\n",
              "      background-color: #3B4455;\n",
              "      fill: #D2E3FC;\n",
              "    }\n",
              "\n",
              "    [theme=dark] .colab-df-convert:hover {\n",
              "      background-color: #434B5C;\n",
              "      box-shadow: 0px 1px 3px 1px rgba(0, 0, 0, 0.15);\n",
              "      filter: drop-shadow(0px 1px 2px rgba(0, 0, 0, 0.3));\n",
              "      fill: #FFFFFF;\n",
              "    }\n",
              "  </style>\n",
              "\n",
              "    <script>\n",
              "      const buttonEl =\n",
              "        document.querySelector('#df-65058a86-04b3-48c9-afe9-82b17d26a003 button.colab-df-convert');\n",
              "      buttonEl.style.display =\n",
              "        google.colab.kernel.accessAllowed ? 'block' : 'none';\n",
              "\n",
              "      async function convertToInteractive(key) {\n",
              "        const element = document.querySelector('#df-65058a86-04b3-48c9-afe9-82b17d26a003');\n",
              "        const dataTable =\n",
              "          await google.colab.kernel.invokeFunction('convertToInteractive',\n",
              "                                                    [key], {});\n",
              "        if (!dataTable) return;\n",
              "\n",
              "        const docLinkHtml = 'Like what you see? Visit the ' +\n",
              "          '<a target=\"_blank\" href=https://colab.research.google.com/notebooks/data_table.ipynb>data table notebook</a>'\n",
              "          + ' to learn more about interactive tables.';\n",
              "        element.innerHTML = '';\n",
              "        dataTable['output_type'] = 'display_data';\n",
              "        await google.colab.output.renderOutput(dataTable, element);\n",
              "        const docLink = document.createElement('div');\n",
              "        docLink.innerHTML = docLinkHtml;\n",
              "        element.appendChild(docLink);\n",
              "      }\n",
              "    </script>\n",
              "  </div>\n",
              "\n",
              "\n",
              "<div id=\"df-d7ccb656-fc18-471b-a987-046e48f3beb2\">\n",
              "  <button class=\"colab-df-quickchart\" onclick=\"quickchart('df-d7ccb656-fc18-471b-a987-046e48f3beb2')\"\n",
              "            title=\"Suggest charts\"\n",
              "            style=\"display:none;\">\n",
              "\n",
              "<svg xmlns=\"http://www.w3.org/2000/svg\" height=\"24px\"viewBox=\"0 0 24 24\"\n",
              "     width=\"24px\">\n",
              "    <g>\n",
              "        <path d=\"M19 3H5c-1.1 0-2 .9-2 2v14c0 1.1.9 2 2 2h14c1.1 0 2-.9 2-2V5c0-1.1-.9-2-2-2zM9 17H7v-7h2v7zm4 0h-2V7h2v10zm4 0h-2v-4h2v4z\"/>\n",
              "    </g>\n",
              "</svg>\n",
              "  </button>\n",
              "\n",
              "<style>\n",
              "  .colab-df-quickchart {\n",
              "      --bg-color: #E8F0FE;\n",
              "      --fill-color: #1967D2;\n",
              "      --hover-bg-color: #E2EBFA;\n",
              "      --hover-fill-color: #174EA6;\n",
              "      --disabled-fill-color: #AAA;\n",
              "      --disabled-bg-color: #DDD;\n",
              "  }\n",
              "\n",
              "  [theme=dark] .colab-df-quickchart {\n",
              "      --bg-color: #3B4455;\n",
              "      --fill-color: #D2E3FC;\n",
              "      --hover-bg-color: #434B5C;\n",
              "      --hover-fill-color: #FFFFFF;\n",
              "      --disabled-bg-color: #3B4455;\n",
              "      --disabled-fill-color: #666;\n",
              "  }\n",
              "\n",
              "  .colab-df-quickchart {\n",
              "    background-color: var(--bg-color);\n",
              "    border: none;\n",
              "    border-radius: 50%;\n",
              "    cursor: pointer;\n",
              "    display: none;\n",
              "    fill: var(--fill-color);\n",
              "    height: 32px;\n",
              "    padding: 0;\n",
              "    width: 32px;\n",
              "  }\n",
              "\n",
              "  .colab-df-quickchart:hover {\n",
              "    background-color: var(--hover-bg-color);\n",
              "    box-shadow: 0 1px 2px rgba(60, 64, 67, 0.3), 0 1px 3px 1px rgba(60, 64, 67, 0.15);\n",
              "    fill: var(--button-hover-fill-color);\n",
              "  }\n",
              "\n",
              "  .colab-df-quickchart-complete:disabled,\n",
              "  .colab-df-quickchart-complete:disabled:hover {\n",
              "    background-color: var(--disabled-bg-color);\n",
              "    fill: var(--disabled-fill-color);\n",
              "    box-shadow: none;\n",
              "  }\n",
              "\n",
              "  .colab-df-spinner {\n",
              "    border: 2px solid var(--fill-color);\n",
              "    border-color: transparent;\n",
              "    border-bottom-color: var(--fill-color);\n",
              "    animation:\n",
              "      spin 1s steps(1) infinite;\n",
              "  }\n",
              "\n",
              "  @keyframes spin {\n",
              "    0% {\n",
              "      border-color: transparent;\n",
              "      border-bottom-color: var(--fill-color);\n",
              "      border-left-color: var(--fill-color);\n",
              "    }\n",
              "    20% {\n",
              "      border-color: transparent;\n",
              "      border-left-color: var(--fill-color);\n",
              "      border-top-color: var(--fill-color);\n",
              "    }\n",
              "    30% {\n",
              "      border-color: transparent;\n",
              "      border-left-color: var(--fill-color);\n",
              "      border-top-color: var(--fill-color);\n",
              "      border-right-color: var(--fill-color);\n",
              "    }\n",
              "    40% {\n",
              "      border-color: transparent;\n",
              "      border-right-color: var(--fill-color);\n",
              "      border-top-color: var(--fill-color);\n",
              "    }\n",
              "    60% {\n",
              "      border-color: transparent;\n",
              "      border-right-color: var(--fill-color);\n",
              "    }\n",
              "    80% {\n",
              "      border-color: transparent;\n",
              "      border-right-color: var(--fill-color);\n",
              "      border-bottom-color: var(--fill-color);\n",
              "    }\n",
              "    90% {\n",
              "      border-color: transparent;\n",
              "      border-bottom-color: var(--fill-color);\n",
              "    }\n",
              "  }\n",
              "</style>\n",
              "\n",
              "  <script>\n",
              "    async function quickchart(key) {\n",
              "      const quickchartButtonEl =\n",
              "        document.querySelector('#' + key + ' button');\n",
              "      quickchartButtonEl.disabled = true;  // To prevent multiple clicks.\n",
              "      quickchartButtonEl.classList.add('colab-df-spinner');\n",
              "      try {\n",
              "        const charts = await google.colab.kernel.invokeFunction(\n",
              "            'suggestCharts', [key], {});\n",
              "      } catch (error) {\n",
              "        console.error('Error during call to suggestCharts:', error);\n",
              "      }\n",
              "      quickchartButtonEl.classList.remove('colab-df-spinner');\n",
              "      quickchartButtonEl.classList.add('colab-df-quickchart-complete');\n",
              "    }\n",
              "    (() => {\n",
              "      let quickchartButtonEl =\n",
              "        document.querySelector('#df-d7ccb656-fc18-471b-a987-046e48f3beb2 button');\n",
              "      quickchartButtonEl.style.display =\n",
              "        google.colab.kernel.accessAllowed ? 'block' : 'none';\n",
              "    })();\n",
              "  </script>\n",
              "</div>\n",
              "    </div>\n",
              "  </div>\n"
            ]
          },
          "metadata": {},
          "execution_count": 158
        }
      ]
    },
    {
      "cell_type": "code",
      "source": [
        "missing_values_count = df2.isnull().mean()* 100\n",
        "\n",
        "missing_values_count[0:30]"
      ],
      "metadata": {
        "colab": {
          "base_uri": "https://localhost:8080/"
        },
        "id": "U4lAbvsrRZrQ",
        "outputId": "032f3103-1484-4d73-ef91-7f46254bd07d"
      },
      "execution_count": null,
      "outputs": [
        {
          "output_type": "execute_result",
          "data": {
            "text/plain": [
              "EDAD                0.000000\n",
              "CREA                4.829100\n",
              "IMC                 0.000000\n",
              "ETIO_ERC           27.626215\n",
              "Sexo                0.000000\n",
              "G_POB               0.000000\n",
              "COLES              14.048291\n",
              "TA                  0.595798\n",
              "DX_ERC              0.000000\n",
              "ALB/CREA            0.501725\n",
              "TIEMP_SERVI         0.000000\n",
              "PROG_ERC            0.972092\n",
              "ANTAGONISTA         1.411101\n",
              "RECIBIO_TRANS       0.000000\n",
              "TASA_FILTRACION     0.000000\n",
              "dtype: float64"
            ]
          },
          "metadata": {},
          "execution_count": 159
        }
      ]
    },
    {
      "cell_type": "code",
      "source": [
        "#Creación de la variable \"TASAFILTRACION\", para poder clasificar los estadios de acuerdo a los rangos definidos\n",
        "import pandas as pd\n",
        "\n",
        "def crear_columna_estadio(df):\n",
        "    \"\"\"\n",
        "    Crea una columna llamada \"estadio\" con los valores de la variable \"TASAFILTRACION\" clasificados en cuatro categorías.\n",
        "\n",
        "    Args:\n",
        "      df: Un DataFrame de pandas.\n",
        "\n",
        "    Returns:\n",
        "      El DataFrame original con una nueva columna llamada \"estadio\".\n",
        "    \"\"\"\n",
        "    # Crear una función para asignar una categoría a cada valor de TASAFILTRACION\n",
        "    def clasificar_estadio(TASA_FILTRACION):\n",
        "        if TASA_FILTRACION >= 90:\n",
        "            return \"estadio 1\"\n",
        "        elif TASA_FILTRACION >= 60:\n",
        "            return \"estadio 2\"\n",
        "        elif TASA_FILTRACION >= 30:\n",
        "            return \"estadio 3\"\n",
        "        elif TASA_FILTRACION >= 15:\n",
        "            return \"estadio 4\"\n",
        "        else:\n",
        "            return \"estadio 5\"\n",
        "\n",
        "    # Agregar la columna\n",
        "    df[\"estadio\"] = df[\"TASA_FILTRACION\"].apply(clasificar_estadio)\n",
        "\n",
        "    return df\n",
        "\n"
      ],
      "metadata": {
        "id": "3CMLNSHIWJtd"
      },
      "execution_count": null,
      "outputs": []
    },
    {
      "cell_type": "code",
      "source": [
        "# Ahora, 'data' contendrá la columna adicional 'estadio' con los valores clasificados en cuatro categorías.\n",
        "data = crear_columna_estadio(df2)\n",
        "\n"
      ],
      "metadata": {
        "id": "WSziXAILpjGF",
        "colab": {
          "base_uri": "https://localhost:8080/"
        },
        "outputId": "033524ae-df68-483e-e36e-ed606ce4c0af"
      },
      "execution_count": null,
      "outputs": [
        {
          "output_type": "stream",
          "name": "stderr",
          "text": [
            "<ipython-input-160-df86f8389c9e>:28: SettingWithCopyWarning: \n",
            "A value is trying to be set on a copy of a slice from a DataFrame.\n",
            "Try using .loc[row_indexer,col_indexer] = value instead\n",
            "\n",
            "See the caveats in the documentation: https://pandas.pydata.org/pandas-docs/stable/user_guide/indexing.html#returning-a-view-versus-a-copy\n",
            "  df[\"estadio\"] = df[\"TASA_FILTRACION\"].apply(clasificar_estadio)\n"
          ]
        }
      ]
    },
    {
      "cell_type": "code",
      "source": [
        "#Visualización de la estrcutura de los datos\n",
        "df.info()"
      ],
      "metadata": {
        "colab": {
          "base_uri": "https://localhost:8080/"
        },
        "id": "zzmxJ9ZWod0v",
        "outputId": "964c37c9-118b-493a-d1ad-eb83102b1ba6"
      },
      "execution_count": null,
      "outputs": [
        {
          "output_type": "stream",
          "name": "stdout",
          "text": [
            "<class 'pandas.core.frame.DataFrame'>\n",
            "Int64Index: 3189 entries, 0 to 4926\n",
            "Columns: 114 entries, TIPO_REG to DAT_CORTE\n",
            "dtypes: float64(75), int64(11), object(28)\n",
            "memory usage: 2.8+ MB\n"
          ]
        }
      ]
    },
    {
      "cell_type": "code",
      "source": [
        "# Se eliminan las variable COST_HTA,TALLA y COST_TOTAL\n",
        "df2=df2[['EDAD',\n",
        "  'CREA ',\n",
        "  'IMC',\n",
        "  'ETIO_ERC',\n",
        "  'Sexo',\n",
        "  'G_POB',\n",
        "  'COLES',\n",
        "  'TA',\n",
        "  'DX_ERC',\n",
        "  'ALB/CREA',\n",
        "  'TIEMP_SERVI',\n",
        "  'PROG_ERC',\n",
        "  'ANTAGONISTA',\n",
        "  'RECIBIO_TRANS','estadio']]\n",
        "df2"
      ],
      "metadata": {
        "colab": {
          "base_uri": "https://localhost:8080/",
          "height": 424
        },
        "id": "M0DK87jPqTlW",
        "outputId": "e1dd4efe-0b86-4c8d-9c64-2b4e20bd5afa"
      },
      "execution_count": null,
      "outputs": [
        {
          "output_type": "execute_result",
          "data": {
            "text/plain": [
              "      EDAD  CREA   IMC      ETIO_ERC Sexo               G_POB  COLES     TA  \\\n",
              "0       74   0.74   27         Otras    M        Adulto Mayor  181.0  120.0   \n",
              "1       88    NaN   26         Otras    M        Adulto Mayor    NaN  130.0   \n",
              "2       89   1.38   28         Otras    M        Adulto Mayor  187.0  110.0   \n",
              "3       87   0.86   24         Otras    M        Adulto Mayor  153.0  100.0   \n",
              "4       84   1.44   26         Otras    M        Adulto Mayor  276.0  160.0   \n",
              "...    ...    ...  ...           ...  ...                 ...    ...    ...   \n",
              "4745    55   1.46   32           NaN    M  Trabajador Urbano   179.0  122.0   \n",
              "4746    54   1.78   24           NaN    M                Otro  108.0  110.0   \n",
              "4747    62   1.57   28         Otras    M                Otro    NaN  105.0   \n",
              "4748    60   1.32   25           NaN    M                Otro  219.0  110.0   \n",
              "4926    26   0.90   22  No tiene ERC    M                Otro  166.0  104.0   \n",
              "\n",
              "      DX_ERC  ALB/CREA  TIEMP_SERVI  PROG_ERC  ANTAGONISTA  RECIBIO_TRANS  \\\n",
              "0          1      9.00           12       2.0          2.0              5   \n",
              "1          1      9.00           12       2.0          2.0              5   \n",
              "2          1      9.00           10       2.0          2.0              5   \n",
              "3          1      9.00           12       2.0          2.0              5   \n",
              "4          1      9.00            8       2.0          1.0              5   \n",
              "...      ...       ...          ...       ...          ...            ...   \n",
              "4745       1      3.93           12       1.0          2.0              5   \n",
              "4746       1     57.93           12       1.0          1.0              5   \n",
              "4747       1    429.70           12       1.0          1.0              5   \n",
              "4748       1      1.30           12       1.0          2.0              5   \n",
              "4926       2      9.00            6       2.0          2.0              5   \n",
              "\n",
              "        estadio  \n",
              "0     estadio 2  \n",
              "1     estadio 3  \n",
              "2     estadio 3  \n",
              "3     estadio 3  \n",
              "4     estadio 3  \n",
              "...         ...  \n",
              "4745  estadio 2  \n",
              "4746  estadio 3  \n",
              "4747  estadio 3  \n",
              "4748  estadio 2  \n",
              "4926  estadio 1  \n",
              "\n",
              "[3189 rows x 15 columns]"
            ],
            "text/html": [
              "\n",
              "  <div id=\"df-71a67c77-095b-423a-b8b3-536086c8e1df\" class=\"colab-df-container\">\n",
              "    <div>\n",
              "<style scoped>\n",
              "    .dataframe tbody tr th:only-of-type {\n",
              "        vertical-align: middle;\n",
              "    }\n",
              "\n",
              "    .dataframe tbody tr th {\n",
              "        vertical-align: top;\n",
              "    }\n",
              "\n",
              "    .dataframe thead th {\n",
              "        text-align: right;\n",
              "    }\n",
              "</style>\n",
              "<table border=\"1\" class=\"dataframe\">\n",
              "  <thead>\n",
              "    <tr style=\"text-align: right;\">\n",
              "      <th></th>\n",
              "      <th>EDAD</th>\n",
              "      <th>CREA</th>\n",
              "      <th>IMC</th>\n",
              "      <th>ETIO_ERC</th>\n",
              "      <th>Sexo</th>\n",
              "      <th>G_POB</th>\n",
              "      <th>COLES</th>\n",
              "      <th>TA</th>\n",
              "      <th>DX_ERC</th>\n",
              "      <th>ALB/CREA</th>\n",
              "      <th>TIEMP_SERVI</th>\n",
              "      <th>PROG_ERC</th>\n",
              "      <th>ANTAGONISTA</th>\n",
              "      <th>RECIBIO_TRANS</th>\n",
              "      <th>estadio</th>\n",
              "    </tr>\n",
              "  </thead>\n",
              "  <tbody>\n",
              "    <tr>\n",
              "      <th>0</th>\n",
              "      <td>74</td>\n",
              "      <td>0.74</td>\n",
              "      <td>27</td>\n",
              "      <td>Otras</td>\n",
              "      <td>M</td>\n",
              "      <td>Adulto Mayor</td>\n",
              "      <td>181.0</td>\n",
              "      <td>120.0</td>\n",
              "      <td>1</td>\n",
              "      <td>9.00</td>\n",
              "      <td>12</td>\n",
              "      <td>2.0</td>\n",
              "      <td>2.0</td>\n",
              "      <td>5</td>\n",
              "      <td>estadio 2</td>\n",
              "    </tr>\n",
              "    <tr>\n",
              "      <th>1</th>\n",
              "      <td>88</td>\n",
              "      <td>NaN</td>\n",
              "      <td>26</td>\n",
              "      <td>Otras</td>\n",
              "      <td>M</td>\n",
              "      <td>Adulto Mayor</td>\n",
              "      <td>NaN</td>\n",
              "      <td>130.0</td>\n",
              "      <td>1</td>\n",
              "      <td>9.00</td>\n",
              "      <td>12</td>\n",
              "      <td>2.0</td>\n",
              "      <td>2.0</td>\n",
              "      <td>5</td>\n",
              "      <td>estadio 3</td>\n",
              "    </tr>\n",
              "    <tr>\n",
              "      <th>2</th>\n",
              "      <td>89</td>\n",
              "      <td>1.38</td>\n",
              "      <td>28</td>\n",
              "      <td>Otras</td>\n",
              "      <td>M</td>\n",
              "      <td>Adulto Mayor</td>\n",
              "      <td>187.0</td>\n",
              "      <td>110.0</td>\n",
              "      <td>1</td>\n",
              "      <td>9.00</td>\n",
              "      <td>10</td>\n",
              "      <td>2.0</td>\n",
              "      <td>2.0</td>\n",
              "      <td>5</td>\n",
              "      <td>estadio 3</td>\n",
              "    </tr>\n",
              "    <tr>\n",
              "      <th>3</th>\n",
              "      <td>87</td>\n",
              "      <td>0.86</td>\n",
              "      <td>24</td>\n",
              "      <td>Otras</td>\n",
              "      <td>M</td>\n",
              "      <td>Adulto Mayor</td>\n",
              "      <td>153.0</td>\n",
              "      <td>100.0</td>\n",
              "      <td>1</td>\n",
              "      <td>9.00</td>\n",
              "      <td>12</td>\n",
              "      <td>2.0</td>\n",
              "      <td>2.0</td>\n",
              "      <td>5</td>\n",
              "      <td>estadio 3</td>\n",
              "    </tr>\n",
              "    <tr>\n",
              "      <th>4</th>\n",
              "      <td>84</td>\n",
              "      <td>1.44</td>\n",
              "      <td>26</td>\n",
              "      <td>Otras</td>\n",
              "      <td>M</td>\n",
              "      <td>Adulto Mayor</td>\n",
              "      <td>276.0</td>\n",
              "      <td>160.0</td>\n",
              "      <td>1</td>\n",
              "      <td>9.00</td>\n",
              "      <td>8</td>\n",
              "      <td>2.0</td>\n",
              "      <td>1.0</td>\n",
              "      <td>5</td>\n",
              "      <td>estadio 3</td>\n",
              "    </tr>\n",
              "    <tr>\n",
              "      <th>...</th>\n",
              "      <td>...</td>\n",
              "      <td>...</td>\n",
              "      <td>...</td>\n",
              "      <td>...</td>\n",
              "      <td>...</td>\n",
              "      <td>...</td>\n",
              "      <td>...</td>\n",
              "      <td>...</td>\n",
              "      <td>...</td>\n",
              "      <td>...</td>\n",
              "      <td>...</td>\n",
              "      <td>...</td>\n",
              "      <td>...</td>\n",
              "      <td>...</td>\n",
              "      <td>...</td>\n",
              "    </tr>\n",
              "    <tr>\n",
              "      <th>4745</th>\n",
              "      <td>55</td>\n",
              "      <td>1.46</td>\n",
              "      <td>32</td>\n",
              "      <td>NaN</td>\n",
              "      <td>M</td>\n",
              "      <td>Trabajador Urbano</td>\n",
              "      <td>179.0</td>\n",
              "      <td>122.0</td>\n",
              "      <td>1</td>\n",
              "      <td>3.93</td>\n",
              "      <td>12</td>\n",
              "      <td>1.0</td>\n",
              "      <td>2.0</td>\n",
              "      <td>5</td>\n",
              "      <td>estadio 2</td>\n",
              "    </tr>\n",
              "    <tr>\n",
              "      <th>4746</th>\n",
              "      <td>54</td>\n",
              "      <td>1.78</td>\n",
              "      <td>24</td>\n",
              "      <td>NaN</td>\n",
              "      <td>M</td>\n",
              "      <td>Otro</td>\n",
              "      <td>108.0</td>\n",
              "      <td>110.0</td>\n",
              "      <td>1</td>\n",
              "      <td>57.93</td>\n",
              "      <td>12</td>\n",
              "      <td>1.0</td>\n",
              "      <td>1.0</td>\n",
              "      <td>5</td>\n",
              "      <td>estadio 3</td>\n",
              "    </tr>\n",
              "    <tr>\n",
              "      <th>4747</th>\n",
              "      <td>62</td>\n",
              "      <td>1.57</td>\n",
              "      <td>28</td>\n",
              "      <td>Otras</td>\n",
              "      <td>M</td>\n",
              "      <td>Otro</td>\n",
              "      <td>NaN</td>\n",
              "      <td>105.0</td>\n",
              "      <td>1</td>\n",
              "      <td>429.70</td>\n",
              "      <td>12</td>\n",
              "      <td>1.0</td>\n",
              "      <td>1.0</td>\n",
              "      <td>5</td>\n",
              "      <td>estadio 3</td>\n",
              "    </tr>\n",
              "    <tr>\n",
              "      <th>4748</th>\n",
              "      <td>60</td>\n",
              "      <td>1.32</td>\n",
              "      <td>25</td>\n",
              "      <td>NaN</td>\n",
              "      <td>M</td>\n",
              "      <td>Otro</td>\n",
              "      <td>219.0</td>\n",
              "      <td>110.0</td>\n",
              "      <td>1</td>\n",
              "      <td>1.30</td>\n",
              "      <td>12</td>\n",
              "      <td>1.0</td>\n",
              "      <td>2.0</td>\n",
              "      <td>5</td>\n",
              "      <td>estadio 2</td>\n",
              "    </tr>\n",
              "    <tr>\n",
              "      <th>4926</th>\n",
              "      <td>26</td>\n",
              "      <td>0.90</td>\n",
              "      <td>22</td>\n",
              "      <td>No tiene ERC</td>\n",
              "      <td>M</td>\n",
              "      <td>Otro</td>\n",
              "      <td>166.0</td>\n",
              "      <td>104.0</td>\n",
              "      <td>2</td>\n",
              "      <td>9.00</td>\n",
              "      <td>6</td>\n",
              "      <td>2.0</td>\n",
              "      <td>2.0</td>\n",
              "      <td>5</td>\n",
              "      <td>estadio 1</td>\n",
              "    </tr>\n",
              "  </tbody>\n",
              "</table>\n",
              "<p>3189 rows × 15 columns</p>\n",
              "</div>\n",
              "    <div class=\"colab-df-buttons\">\n",
              "\n",
              "  <div class=\"colab-df-container\">\n",
              "    <button class=\"colab-df-convert\" onclick=\"convertToInteractive('df-71a67c77-095b-423a-b8b3-536086c8e1df')\"\n",
              "            title=\"Convert this dataframe to an interactive table.\"\n",
              "            style=\"display:none;\">\n",
              "\n",
              "  <svg xmlns=\"http://www.w3.org/2000/svg\" height=\"24px\" viewBox=\"0 -960 960 960\">\n",
              "    <path d=\"M120-120v-720h720v720H120Zm60-500h600v-160H180v160Zm220 220h160v-160H400v160Zm0 220h160v-160H400v160ZM180-400h160v-160H180v160Zm440 0h160v-160H620v160ZM180-180h160v-160H180v160Zm440 0h160v-160H620v160Z\"/>\n",
              "  </svg>\n",
              "    </button>\n",
              "\n",
              "  <style>\n",
              "    .colab-df-container {\n",
              "      display:flex;\n",
              "      gap: 12px;\n",
              "    }\n",
              "\n",
              "    .colab-df-convert {\n",
              "      background-color: #E8F0FE;\n",
              "      border: none;\n",
              "      border-radius: 50%;\n",
              "      cursor: pointer;\n",
              "      display: none;\n",
              "      fill: #1967D2;\n",
              "      height: 32px;\n",
              "      padding: 0 0 0 0;\n",
              "      width: 32px;\n",
              "    }\n",
              "\n",
              "    .colab-df-convert:hover {\n",
              "      background-color: #E2EBFA;\n",
              "      box-shadow: 0px 1px 2px rgba(60, 64, 67, 0.3), 0px 1px 3px 1px rgba(60, 64, 67, 0.15);\n",
              "      fill: #174EA6;\n",
              "    }\n",
              "\n",
              "    .colab-df-buttons div {\n",
              "      margin-bottom: 4px;\n",
              "    }\n",
              "\n",
              "    [theme=dark] .colab-df-convert {\n",
              "      background-color: #3B4455;\n",
              "      fill: #D2E3FC;\n",
              "    }\n",
              "\n",
              "    [theme=dark] .colab-df-convert:hover {\n",
              "      background-color: #434B5C;\n",
              "      box-shadow: 0px 1px 3px 1px rgba(0, 0, 0, 0.15);\n",
              "      filter: drop-shadow(0px 1px 2px rgba(0, 0, 0, 0.3));\n",
              "      fill: #FFFFFF;\n",
              "    }\n",
              "  </style>\n",
              "\n",
              "    <script>\n",
              "      const buttonEl =\n",
              "        document.querySelector('#df-71a67c77-095b-423a-b8b3-536086c8e1df button.colab-df-convert');\n",
              "      buttonEl.style.display =\n",
              "        google.colab.kernel.accessAllowed ? 'block' : 'none';\n",
              "\n",
              "      async function convertToInteractive(key) {\n",
              "        const element = document.querySelector('#df-71a67c77-095b-423a-b8b3-536086c8e1df');\n",
              "        const dataTable =\n",
              "          await google.colab.kernel.invokeFunction('convertToInteractive',\n",
              "                                                    [key], {});\n",
              "        if (!dataTable) return;\n",
              "\n",
              "        const docLinkHtml = 'Like what you see? Visit the ' +\n",
              "          '<a target=\"_blank\" href=https://colab.research.google.com/notebooks/data_table.ipynb>data table notebook</a>'\n",
              "          + ' to learn more about interactive tables.';\n",
              "        element.innerHTML = '';\n",
              "        dataTable['output_type'] = 'display_data';\n",
              "        await google.colab.output.renderOutput(dataTable, element);\n",
              "        const docLink = document.createElement('div');\n",
              "        docLink.innerHTML = docLinkHtml;\n",
              "        element.appendChild(docLink);\n",
              "      }\n",
              "    </script>\n",
              "  </div>\n",
              "\n",
              "\n",
              "<div id=\"df-5b94a7e0-a671-41d5-aa83-f133aa97280a\">\n",
              "  <button class=\"colab-df-quickchart\" onclick=\"quickchart('df-5b94a7e0-a671-41d5-aa83-f133aa97280a')\"\n",
              "            title=\"Suggest charts\"\n",
              "            style=\"display:none;\">\n",
              "\n",
              "<svg xmlns=\"http://www.w3.org/2000/svg\" height=\"24px\"viewBox=\"0 0 24 24\"\n",
              "     width=\"24px\">\n",
              "    <g>\n",
              "        <path d=\"M19 3H5c-1.1 0-2 .9-2 2v14c0 1.1.9 2 2 2h14c1.1 0 2-.9 2-2V5c0-1.1-.9-2-2-2zM9 17H7v-7h2v7zm4 0h-2V7h2v10zm4 0h-2v-4h2v4z\"/>\n",
              "    </g>\n",
              "</svg>\n",
              "  </button>\n",
              "\n",
              "<style>\n",
              "  .colab-df-quickchart {\n",
              "      --bg-color: #E8F0FE;\n",
              "      --fill-color: #1967D2;\n",
              "      --hover-bg-color: #E2EBFA;\n",
              "      --hover-fill-color: #174EA6;\n",
              "      --disabled-fill-color: #AAA;\n",
              "      --disabled-bg-color: #DDD;\n",
              "  }\n",
              "\n",
              "  [theme=dark] .colab-df-quickchart {\n",
              "      --bg-color: #3B4455;\n",
              "      --fill-color: #D2E3FC;\n",
              "      --hover-bg-color: #434B5C;\n",
              "      --hover-fill-color: #FFFFFF;\n",
              "      --disabled-bg-color: #3B4455;\n",
              "      --disabled-fill-color: #666;\n",
              "  }\n",
              "\n",
              "  .colab-df-quickchart {\n",
              "    background-color: var(--bg-color);\n",
              "    border: none;\n",
              "    border-radius: 50%;\n",
              "    cursor: pointer;\n",
              "    display: none;\n",
              "    fill: var(--fill-color);\n",
              "    height: 32px;\n",
              "    padding: 0;\n",
              "    width: 32px;\n",
              "  }\n",
              "\n",
              "  .colab-df-quickchart:hover {\n",
              "    background-color: var(--hover-bg-color);\n",
              "    box-shadow: 0 1px 2px rgba(60, 64, 67, 0.3), 0 1px 3px 1px rgba(60, 64, 67, 0.15);\n",
              "    fill: var(--button-hover-fill-color);\n",
              "  }\n",
              "\n",
              "  .colab-df-quickchart-complete:disabled,\n",
              "  .colab-df-quickchart-complete:disabled:hover {\n",
              "    background-color: var(--disabled-bg-color);\n",
              "    fill: var(--disabled-fill-color);\n",
              "    box-shadow: none;\n",
              "  }\n",
              "\n",
              "  .colab-df-spinner {\n",
              "    border: 2px solid var(--fill-color);\n",
              "    border-color: transparent;\n",
              "    border-bottom-color: var(--fill-color);\n",
              "    animation:\n",
              "      spin 1s steps(1) infinite;\n",
              "  }\n",
              "\n",
              "  @keyframes spin {\n",
              "    0% {\n",
              "      border-color: transparent;\n",
              "      border-bottom-color: var(--fill-color);\n",
              "      border-left-color: var(--fill-color);\n",
              "    }\n",
              "    20% {\n",
              "      border-color: transparent;\n",
              "      border-left-color: var(--fill-color);\n",
              "      border-top-color: var(--fill-color);\n",
              "    }\n",
              "    30% {\n",
              "      border-color: transparent;\n",
              "      border-left-color: var(--fill-color);\n",
              "      border-top-color: var(--fill-color);\n",
              "      border-right-color: var(--fill-color);\n",
              "    }\n",
              "    40% {\n",
              "      border-color: transparent;\n",
              "      border-right-color: var(--fill-color);\n",
              "      border-top-color: var(--fill-color);\n",
              "    }\n",
              "    60% {\n",
              "      border-color: transparent;\n",
              "      border-right-color: var(--fill-color);\n",
              "    }\n",
              "    80% {\n",
              "      border-color: transparent;\n",
              "      border-right-color: var(--fill-color);\n",
              "      border-bottom-color: var(--fill-color);\n",
              "    }\n",
              "    90% {\n",
              "      border-color: transparent;\n",
              "      border-bottom-color: var(--fill-color);\n",
              "    }\n",
              "  }\n",
              "</style>\n",
              "\n",
              "  <script>\n",
              "    async function quickchart(key) {\n",
              "      const quickchartButtonEl =\n",
              "        document.querySelector('#' + key + ' button');\n",
              "      quickchartButtonEl.disabled = true;  // To prevent multiple clicks.\n",
              "      quickchartButtonEl.classList.add('colab-df-spinner');\n",
              "      try {\n",
              "        const charts = await google.colab.kernel.invokeFunction(\n",
              "            'suggestCharts', [key], {});\n",
              "      } catch (error) {\n",
              "        console.error('Error during call to suggestCharts:', error);\n",
              "      }\n",
              "      quickchartButtonEl.classList.remove('colab-df-spinner');\n",
              "      quickchartButtonEl.classList.add('colab-df-quickchart-complete');\n",
              "    }\n",
              "    (() => {\n",
              "      let quickchartButtonEl =\n",
              "        document.querySelector('#df-5b94a7e0-a671-41d5-aa83-f133aa97280a button');\n",
              "      quickchartButtonEl.style.display =\n",
              "        google.colab.kernel.accessAllowed ? 'block' : 'none';\n",
              "    })();\n",
              "  </script>\n",
              "</div>\n",
              "    </div>\n",
              "  </div>\n"
            ]
          },
          "metadata": {},
          "execution_count": 163
        }
      ]
    },
    {
      "cell_type": "code",
      "source": [
        "#Estructura dataframe nuevo\n",
        "df2.info()"
      ],
      "metadata": {
        "colab": {
          "base_uri": "https://localhost:8080/"
        },
        "id": "KfMKr5Kcwpao",
        "outputId": "0a075b09-2177-4423-aeae-adabbf2def61"
      },
      "execution_count": null,
      "outputs": [
        {
          "output_type": "stream",
          "name": "stdout",
          "text": [
            "<class 'pandas.core.frame.DataFrame'>\n",
            "Int64Index: 3189 entries, 0 to 4926\n",
            "Data columns (total 15 columns):\n",
            " #   Column         Non-Null Count  Dtype  \n",
            "---  ------         --------------  -----  \n",
            " 0   EDAD           3189 non-null   int64  \n",
            " 1   CREA           3035 non-null   float64\n",
            " 2   IMC            3189 non-null   int64  \n",
            " 3   ETIO_ERC       2308 non-null   object \n",
            " 4   Sexo           3189 non-null   object \n",
            " 5   G_POB          3189 non-null   object \n",
            " 6   COLES          2741 non-null   float64\n",
            " 7   TA             3170 non-null   float64\n",
            " 8   DX_ERC         3189 non-null   int64  \n",
            " 9   ALB/CREA       3173 non-null   float64\n",
            " 10  TIEMP_SERVI    3189 non-null   int64  \n",
            " 11  PROG_ERC       3158 non-null   float64\n",
            " 12  ANTAGONISTA    3144 non-null   float64\n",
            " 13  RECIBIO_TRANS  3189 non-null   int64  \n",
            " 14  estadio        3189 non-null   object \n",
            "dtypes: float64(6), int64(5), object(4)\n",
            "memory usage: 398.6+ KB\n"
          ]
        }
      ]
    },
    {
      "cell_type": "code",
      "source": [
        "df2.fillna(0, inplace=True)"
      ],
      "metadata": {
        "colab": {
          "base_uri": "https://localhost:8080/"
        },
        "id": "98vY0c7mRD9B",
        "outputId": "24f2f848-c3b4-4692-d578-66b050d6acdb"
      },
      "execution_count": null,
      "outputs": [
        {
          "output_type": "stream",
          "name": "stderr",
          "text": [
            "<ipython-input-166-32f74130add2>:1: SettingWithCopyWarning: \n",
            "A value is trying to be set on a copy of a slice from a DataFrame\n",
            "\n",
            "See the caveats in the documentation: https://pandas.pydata.org/pandas-docs/stable/user_guide/indexing.html#returning-a-view-versus-a-copy\n",
            "  df2.fillna(0, inplace=True)\n"
          ]
        }
      ]
    },
    {
      "cell_type": "code",
      "source": [
        "#Se crea X contiene todas las columnas de df2 excepto la columna 'estadio', la cual es la variable objetivo. y contiene solo la columna 'estadio'.\n",
        "X = df2.drop('estadio', axis=1).values\n",
        "y = df2['estadio'].values"
      ],
      "metadata": {
        "id": "BxIN4GUdr9Yy"
      },
      "execution_count": null,
      "outputs": []
    },
    {
      "cell_type": "code",
      "source": [
        "# Se divide el Dataframe en datos de prueba y entrenamiento\n",
        "X_train, X_test, y_train, y_test = train_test_split(X, y, test_size=0.3, random_state=0)\n",
        "print('x_train and x_test shapes are {} and {}'.format(X_train.shape, X_test.shape))\n",
        "print('y_train and y_test shapes are {} and {}'.format(y_train.shape, y_test.shape))"
      ],
      "metadata": {
        "colab": {
          "base_uri": "https://localhost:8080/"
        },
        "id": "iCFvWtOmrmwU",
        "outputId": "ccb3429b-d744-40d7-f7f6-7dfc4069a251"
      },
      "execution_count": null,
      "outputs": [
        {
          "output_type": "stream",
          "name": "stdout",
          "text": [
            "x_train and x_test shapes are (2232, 14) and (957, 14)\n",
            "y_train and y_test shapes are (2232,) and (957,)\n"
          ]
        }
      ]
    },
    {
      "cell_type": "code",
      "source": [
        "df2['estadio']"
      ],
      "metadata": {
        "colab": {
          "base_uri": "https://localhost:8080/"
        },
        "id": "TwZ8hjpXN_hb",
        "outputId": "7474352d-4f9f-4740-fccd-63610c1695b0"
      },
      "execution_count": null,
      "outputs": [
        {
          "output_type": "execute_result",
          "data": {
            "text/plain": [
              "0       1\n",
              "1       2\n",
              "2       2\n",
              "3       2\n",
              "4       2\n",
              "       ..\n",
              "4745    1\n",
              "4746    2\n",
              "4747    2\n",
              "4748    1\n",
              "4926    0\n",
              "Name: estadio, Length: 3189, dtype: int64"
            ]
          },
          "metadata": {},
          "execution_count": 170
        }
      ]
    },
    {
      "cell_type": "code",
      "source": [
        "df2.info()"
      ],
      "metadata": {
        "colab": {
          "base_uri": "https://localhost:8080/"
        },
        "id": "gp35VkKSRL9d",
        "outputId": "a448714c-3f9d-4ae3-b3e9-87ca38acea81"
      },
      "execution_count": null,
      "outputs": [
        {
          "output_type": "stream",
          "name": "stdout",
          "text": [
            "<class 'pandas.core.frame.DataFrame'>\n",
            "Int64Index: 3189 entries, 0 to 4926\n",
            "Data columns (total 15 columns):\n",
            " #   Column         Non-Null Count  Dtype  \n",
            "---  ------         --------------  -----  \n",
            " 0   EDAD           3189 non-null   int64  \n",
            " 1   CREA           3189 non-null   float64\n",
            " 2   IMC            3189 non-null   int64  \n",
            " 3   ETIO_ERC       3189 non-null   int64  \n",
            " 4   Sexo           3189 non-null   int64  \n",
            " 5   G_POB          3189 non-null   int64  \n",
            " 6   COLES          3189 non-null   float64\n",
            " 7   TA             3189 non-null   float64\n",
            " 8   DX_ERC         3189 non-null   int64  \n",
            " 9   ALB/CREA       3189 non-null   float64\n",
            " 10  TIEMP_SERVI    3189 non-null   int64  \n",
            " 11  PROG_ERC       3189 non-null   int64  \n",
            " 12  ANTAGONISTA    3189 non-null   int64  \n",
            " 13  RECIBIO_TRANS  3189 non-null   int64  \n",
            " 14  estadio        3189 non-null   int64  \n",
            "dtypes: float64(4), int64(11)\n",
            "memory usage: 398.6 KB\n"
          ]
        }
      ]
    },
    {
      "cell_type": "markdown",
      "source": [
        "**Regresion logistica multinomial**"
      ],
      "metadata": {
        "id": "73T8Kkvb0v5P"
      }
    },
    {
      "cell_type": "code",
      "source": [
        "from numpy import mean\n",
        "from numpy import std\n",
        "from sklearn.datasets import make_classification\n",
        "from sklearn.model_selection import cross_val_score\n",
        "from sklearn.model_selection import RepeatedStratifiedKFold\n",
        "from sklearn.linear_model import LogisticRegression\n",
        "\n",
        "# Define el modelo de regresión logística multinomial\n",
        "model = LogisticRegression(multi_class='multinomial', solver='lbfgs')\n",
        "\n",
        "# Define el procedimiento de evaluación del modelo\n",
        "cv = RepeatedStratifiedKFold(n_splits=10, n_repeats=3, random_state=1)\n",
        "\n",
        "# Evalúa el modelo y recopila los puntajes\n",
        "n_scores = cross_val_score(model, X, y, scoring='accuracy', cv=cv, n_jobs=-1)\n",
        "\n",
        "# Reporta el rendimiento del modelo\n",
        "print('Mean Accuracy: %.3f (%.3f)' % (mean(n_scores), std(n_scores)))\n",
        "\n",
        "\n",
        "\n",
        "\n"
      ],
      "metadata": {
        "colab": {
          "base_uri": "https://localhost:8080/"
        },
        "id": "FcISTpvdp5Q6",
        "outputId": "1c247698-ef01-4be6-d794-c836cc78cfa0"
      },
      "execution_count": null,
      "outputs": [
        {
          "output_type": "stream",
          "name": "stdout",
          "text": [
            "Mean Accuracy: 0.612 (0.021)\n"
          ]
        }
      ]
    },
    {
      "cell_type": "code",
      "source": [
        "from sklearn.metrics import accuracy_score\n",
        "from sklearn.metrics import classification_report\n",
        "from sklearn.metrics import confusion_matrix\n",
        "\n",
        "\n",
        "\n",
        "# Ajustar el modelo utilizando los datos de entrenamiento\n",
        "model.fit(X_train, y_train)\n",
        "\n",
        "# Predecir las etiquetas en el conjunto de prueba\n",
        "y_pred = model.predict(X_test)\n",
        "\n",
        "# Calcular y mostrar la precisión del modelo\n",
        "accuracy = accuracy_score(y_test, y_pred)\n",
        "print(f'Precisión del Modelo: {accuracy:.3f}')\n",
        "\n",
        "# Definir un mapeo de renombre de clases\n",
        "class_mapping = {\n",
        "    0: 'estadio 1',\n",
        "    1: 'estadio 2',\n",
        "    2: 'estadio 3',\n",
        "    3: 'estadio 4',\n",
        "    4: 'estadio 5'\n",
        "}\n",
        "\n",
        "# Aplicar el renombre de clases a las etiquetas reales y predichas\n",
        "y_test_mapped = [class_mapping[cl] for cl in y_test]\n",
        "y_pred_mapped = [class_mapping[cl] for cl in y_pred]\n",
        "\n",
        "# Mostrar el reporte de clasificación con las clases renombradas\n",
        "print('Reporte de Clasificación:')\n",
        "print(classification_report(y_test_mapped, y_pred_mapped))\n",
        "\n",
        "# Calcular y mostrar la matriz de confusión con nombres de estadio\n",
        "conf_matrix = confusion_matrix(y_test_mapped, y_pred_mapped)\n",
        "plt.figure(figsize=(8, 6))\n",
        "sns.heatmap(conf_matrix, annot=True, fmt='g', cmap='Blues', xticklabels=class_mapping.values(), yticklabels=class_mapping.values())\n",
        "plt.xlabel('Etiquetas Predichas')\n",
        "plt.ylabel('Etiquetas Verdaderas')\n",
        "plt.title('Matriz de Confusión')\n",
        "plt.show()\n",
        "import numpy as np\n",
        "# Suponiendo que 'y_true' son los valores reales y 'y_pred' son las predicciones del modelo en el conjunto de validación\n",
        "residuals = y_test - y_pred\n",
        "variance = np.mean(residuals**2)\n",
        "print(\"variance del Modelo:\", variance)\n",
        "\n",
        "\n",
        "bias = np.mean(y_pred - y_test)\n",
        "print(\"sesgo del Modelo:\", bias)"
      ],
      "metadata": {
        "colab": {
          "base_uri": "https://localhost:8080/",
          "height": 1000
        },
        "id": "3k-Azz8EbsHS",
        "outputId": "3b691e84-7a21-47b6-fcbb-9ec4c9758295"
      },
      "execution_count": null,
      "outputs": [
        {
          "output_type": "stream",
          "name": "stderr",
          "text": [
            "/usr/local/lib/python3.10/dist-packages/sklearn/linear_model/_logistic.py:458: ConvergenceWarning: lbfgs failed to converge (status=1):\n",
            "STOP: TOTAL NO. of ITERATIONS REACHED LIMIT.\n",
            "\n",
            "Increase the number of iterations (max_iter) or scale the data as shown in:\n",
            "    https://scikit-learn.org/stable/modules/preprocessing.html\n",
            "Please also refer to the documentation for alternative solver options:\n",
            "    https://scikit-learn.org/stable/modules/linear_model.html#logistic-regression\n",
            "  n_iter_i = _check_optimize_result(\n",
            "/usr/local/lib/python3.10/dist-packages/sklearn/metrics/_classification.py:1344: UndefinedMetricWarning: Precision and F-score are ill-defined and being set to 0.0 in labels with no predicted samples. Use `zero_division` parameter to control this behavior.\n",
            "  _warn_prf(average, modifier, msg_start, len(result))\n",
            "/usr/local/lib/python3.10/dist-packages/sklearn/metrics/_classification.py:1344: UndefinedMetricWarning: Precision and F-score are ill-defined and being set to 0.0 in labels with no predicted samples. Use `zero_division` parameter to control this behavior.\n",
            "  _warn_prf(average, modifier, msg_start, len(result))\n",
            "/usr/local/lib/python3.10/dist-packages/sklearn/metrics/_classification.py:1344: UndefinedMetricWarning: Precision and F-score are ill-defined and being set to 0.0 in labels with no predicted samples. Use `zero_division` parameter to control this behavior.\n",
            "  _warn_prf(average, modifier, msg_start, len(result))\n"
          ]
        },
        {
          "output_type": "stream",
          "name": "stdout",
          "text": [
            "Precisión del Modelo: 0.610\n",
            "Reporte de Clasificación:\n",
            "              precision    recall  f1-score   support\n",
            "\n",
            "   estadio 1       0.66      0.65      0.65       240\n",
            "   estadio 2       0.59      0.61      0.60       401\n",
            "   estadio 3       0.60      0.67      0.63       278\n",
            "   estadio 4       0.00      0.00      0.00        36\n",
            "   estadio 5       0.00      0.00      0.00         2\n",
            "\n",
            "    accuracy                           0.61       957\n",
            "   macro avg       0.37      0.38      0.38       957\n",
            "weighted avg       0.59      0.61      0.60       957\n",
            "\n"
          ]
        },
        {
          "output_type": "display_data",
          "data": {
            "text/plain": [
              "<Figure size 800x600 with 2 Axes>"
            ],
            "image/png": "[encoded data removed]"
          },
          "metadata": {}
        },
        {
          "output_type": "stream",
          "name": "stdout",
          "text": [
            "variance del Modelo: 0.438871473354232\n",
            "sesgo del Modelo: -0.04597701149425287\n"
          ]
        }
      ]
    },
    {
      "cell_type": "markdown",
      "source": [
        "**Random forest**"
      ],
      "metadata": {
        "id": "JGN2spEaWn1C"
      }
    },
    {
      "cell_type": "code",
      "source": [
        "from sklearn.ensemble import RandomForestClassifier\n",
        "from sklearn.model_selection import cross_val_score\n",
        "import numpy as np\n",
        "# Initiate model\n",
        "rf = RandomForestClassifier()\n",
        "\n",
        "# Fit the model\n",
        "rf.fit(X_train, y_train)\n",
        "\n",
        "# Cross validation\n",
        "rf_cv_results_train = cross_val_score(rf, X_train, y_train, cv=5)\n",
        "print(\"Random Forest (Train): \", np.mean(rf_cv_results_train))\n",
        "\n",
        "rf_cv_results_test = cross_val_score(rf, X_test, y_test, cv=5)\n",
        "print(\"Random Forest (Test): \", np.mean(rf_cv_results_test))"
      ],
      "metadata": {
        "colab": {
          "base_uri": "https://localhost:8080/"
        },
        "outputId": "936c6fae-458f-49c4-82e7-9e378519c999",
        "id": "4HLWT5nMWn1j"
      },
      "execution_count": null,
      "outputs": [
        {
          "output_type": "stream",
          "name": "stdout",
          "text": [
            "Random Forest (Train):  0.747294870637333\n"
          ]
        },
        {
          "output_type": "stream",
          "name": "stderr",
          "text": [
            "/usr/local/lib/python3.10/dist-packages/sklearn/model_selection/_split.py:700: UserWarning: The least populated class in y has only 2 members, which is less than n_splits=5.\n",
            "  warnings.warn(\n"
          ]
        },
        {
          "output_type": "stream",
          "name": "stdout",
          "text": [
            "Random Forest (Test):  0.7461496509598604\n"
          ]
        }
      ]
    },
    {
      "cell_type": "code",
      "source": [
        "# Obtener predicciones para el conjunto de prueba\n",
        "y_pred = rf.predict(X_test)\n",
        "\n",
        "# Definir un mapeo de renombre de clases\n",
        "class_mapping = {\n",
        "    0: 'estadio 1',\n",
        "    1: 'estadio 2',\n",
        "    2: 'estadio 3',\n",
        "    3: 'estadio 4',\n",
        "    4: 'estadio 5'\n",
        "}\n",
        "\n",
        "# Aplicar el renombre de clases a las etiquetas reales y predichas\n",
        "y_test_mapped = [class_mapping[cl] for cl in y_test]\n",
        "y_pred_mapped = [class_mapping[cl] for cl in y_pred]\n",
        "\n",
        "# Mostrar el reporte de clasificación con las clases renombradas\n",
        "print('Reporte de Clasificación:')\n",
        "print(classification_report(y_test_mapped, y_pred_mapped))\n",
        "\n",
        "# Calcular y mostrar la matriz de confusión con nombres de estadio\n",
        "conf_matrix = confusion_matrix(y_test_mapped, y_pred_mapped)\n",
        "plt.figure(figsize=(8, 6))\n",
        "sns.heatmap(conf_matrix, annot=True, fmt='g', cmap='Blues', xticklabels=class_mapping.values(), yticklabels=class_mapping.values())\n",
        "plt.xlabel('Etiquetas Predichas')\n",
        "plt.ylabel('Etiquetas Verdaderas')\n",
        "plt.title('Matriz de Confusión')\n",
        "plt.show()\n",
        "import numpy as np\n",
        "# Suponiendo que 'y_true' son los valores reales y 'y_pred' son las predicciones del modelo en el conjunto de validación\n",
        "residuals = y_test - y_pred\n",
        "variance = np.mean(residuals**2)\n",
        "print(\"variance del Modelo:\", variance)\n",
        "\n",
        "\n",
        "bias = np.mean(y_pred - y_test)\n",
        "print(\"sesgo del Modelo:\", bias)"
      ],
      "metadata": {
        "colab": {
          "base_uri": "https://localhost:8080/",
          "height": 824
        },
        "id": "-TfR5R9pcSUH",
        "outputId": "e76a8694-2b2a-479a-e90b-b4606b863fba"
      },
      "execution_count": null,
      "outputs": [
        {
          "output_type": "stream",
          "name": "stdout",
          "text": [
            "Reporte de Clasificación:\n",
            "              precision    recall  f1-score   support\n",
            "\n",
            "   estadio 1       0.79      0.80      0.79       240\n",
            "   estadio 2       0.75      0.76      0.75       401\n",
            "   estadio 3       0.75      0.78      0.76       278\n",
            "   estadio 4       0.80      0.33      0.47        36\n",
            "   estadio 5       1.00      1.00      1.00         2\n",
            "\n",
            "    accuracy                           0.76       957\n",
            "   macro avg       0.82      0.73      0.76       957\n",
            "weighted avg       0.76      0.76      0.76       957\n",
            "\n"
          ]
        },
        {
          "output_type": "display_data",
          "data": {
            "text/plain": [
              "<Figure size 800x600 with 2 Axes>"
            ],
            "image/png": "[encoded data removed]"
          },
          "metadata": {}
        },
        {
          "output_type": "stream",
          "name": "stdout",
          "text": [
            "variance del Modelo: 0.26541274817136884\n",
            "sesgo del Modelo: -0.03343782654127482\n"
          ]
        }
      ]
    },
    {
      "cell_type": "markdown",
      "source": [
        "**XGBoost clasifier**"
      ],
      "metadata": {
        "id": "SFq9mbzeDnhx"
      }
    },
    {
      "cell_type": "code",
      "source": [
        "from numpy import loadtxt\n",
        "from xgboost import XGBClassifier\n",
        "from sklearn.model_selection import train_test_split\n",
        "from sklearn.metrics import accuracy_score"
      ],
      "metadata": {
        "id": "2nBuxvqVDkjd"
      },
      "execution_count": null,
      "outputs": []
    },
    {
      "cell_type": "code",
      "source": [
        "# fit model no training data\n",
        "model = XGBClassifier()\n",
        "model.fit(X_train, y_train)"
      ],
      "metadata": {
        "colab": {
          "base_uri": "https://localhost:8080/",
          "height": 248
        },
        "id": "XaRFncJLEHAg",
        "outputId": "a0ad922d-c126-4b34-c600-81eb5e31ae4b"
      },
      "execution_count": null,
      "outputs": [
        {
          "output_type": "execute_result",
          "data": {
            "text/plain": [
              "XGBClassifier(base_score=None, booster=None, callbacks=None,\n",
              "              colsample_bylevel=None, colsample_bynode=None,\n",
              "              colsample_bytree=None, device=None, early_stopping_rounds=None,\n",
              "              enable_categorical=False, eval_metric=None, feature_types=None,\n",
              "              gamma=None, grow_policy=None, importance_type=None,\n",
              "              interaction_constraints=None, learning_rate=None, max_bin=None,\n",
              "              max_cat_threshold=None, max_cat_to_onehot=None,\n",
              "              max_delta_step=None, max_depth=None, max_leaves=None,\n",
              "              min_child_weight=None, missing=nan, monotone_constraints=None,\n",
              "              multi_strategy=None, n_estimators=None, n_jobs=None,\n",
              "              num_parallel_tree=None, objective='multi:softprob', ...)"
            ],
            "text/html": [
              "<style>#sk-container-id-1 {color: black;background-color: white;}#sk-container-id-1 pre{padding: 0;}#sk-container-id-1 div.sk-toggleable {background-color: white;}#sk-container-id-1 label.sk-toggleable__label {cursor: pointer;display: block;width: 100%;margin-bottom: 0;padding: 0.3em;box-sizing: border-box;text-align: center;}#sk-container-id-1 label.sk-toggleable__label-arrow:before {content: \"▸\";float: left;margin-right: 0.25em;color: #696969;}#sk-container-id-1 label.sk-toggleable__label-arrow:hover:before {color: black;}#sk-container-id-1 div.sk-estimator:hover label.sk-toggleable__label-arrow:before {color: black;}#sk-container-id-1 div.sk-toggleable__content {max-height: 0;max-width: 0;overflow: hidden;text-align: left;background-color: #f0f8ff;}#sk-container-id-1 div.sk-toggleable__content pre {margin: 0.2em;color: black;border-radius: 0.25em;background-color: #f0f8ff;}#sk-container-id-1 input.sk-toggleable__control:checked~div.sk-toggleable__content {max-height: 200px;max-width: 100%;overflow: auto;}#sk-container-id-1 input.sk-toggleable__control:checked~label.sk-toggleable__label-arrow:before {content: \"▾\";}#sk-container-id-1 div.sk-estimator input.sk-toggleable__control:checked~label.sk-toggleable__label {background-color: #d4ebff;}#sk-container-id-1 div.sk-label input.sk-toggleable__control:checked~label.sk-toggleable__label {background-color: #d4ebff;}#sk-container-id-1 input.sk-hidden--visually {border: 0;clip: rect(1px 1px 1px 1px);clip: rect(1px, 1px, 1px, 1px);height: 1px;margin: -1px;overflow: hidden;padding: 0;position: absolute;width: 1px;}#sk-container-id-1 div.sk-estimator {font-family: monospace;background-color: #f0f8ff;border: 1px dotted black;border-radius: 0.25em;box-sizing: border-box;margin-bottom: 0.5em;}#sk-container-id-1 div.sk-estimator:hover {background-color: #d4ebff;}#sk-container-id-1 div.sk-parallel-item::after {content: \"\";width: 100%;border-bottom: 1px solid gray;flex-grow: 1;}#sk-container-id-1 div.sk-label:hover label.sk-toggleable__label {background-color: #d4ebff;}#sk-container-id-1 div.sk-serial::before {content: \"\";position: absolute;border-left: 1px solid gray;box-sizing: border-box;top: 0;bottom: 0;left: 50%;z-index: 0;}#sk-container-id-1 div.sk-serial {display: flex;flex-direction: column;align-items: center;background-color: white;padding-right: 0.2em;padding-left: 0.2em;position: relative;}#sk-container-id-1 div.sk-item {position: relative;z-index: 1;}#sk-container-id-1 div.sk-parallel {display: flex;align-items: stretch;justify-content: center;background-color: white;position: relative;}#sk-container-id-1 div.sk-item::before, #sk-container-id-1 div.sk-parallel-item::before {content: \"\";position: absolute;border-left: 1px solid gray;box-sizing: border-box;top: 0;bottom: 0;left: 50%;z-index: -1;}#sk-container-id-1 div.sk-parallel-item {display: flex;flex-direction: column;z-index: 1;position: relative;background-color: white;}#sk-container-id-1 div.sk-parallel-item:first-child::after {align-self: flex-end;width: 50%;}#sk-container-id-1 div.sk-parallel-item:last-child::after {align-self: flex-start;width: 50%;}#sk-container-id-1 div.sk-parallel-item:only-child::after {width: 0;}#sk-container-id-1 div.sk-dashed-wrapped {border: 1px dashed gray;margin: 0 0.4em 0.5em 0.4em;box-sizing: border-box;padding-bottom: 0.4em;background-color: white;}#sk-container-id-1 div.sk-label label {font-family: monospace;font-weight: bold;display: inline-block;line-height: 1.2em;}#sk-container-id-1 div.sk-label-container {text-align: center;}#sk-container-id-1 div.sk-container {/* jupyter's `normalize.less` sets `[hidden] { display: none; }` but bootstrap.min.css set `[hidden] { display: none !important; }` so we also need the `!important` here to be able to override the default hidden behavior on the sphinx rendered scikit-learn.org. See: https://github.com/scikit-learn/scikit-learn/issues/21755 */display: inline-block !important;position: relative;}#sk-container-id-1 div.sk-text-repr-fallback {display: none;}</style><div id=\"sk-container-id-1\" class=\"sk-top-container\"><div class=\"sk-text-repr-fallback\"><pre>XGBClassifier(base_score=None, booster=None, callbacks=None,\n",
              "              colsample_bylevel=None, colsample_bynode=None,\n",
              "              colsample_bytree=None, device=None, early_stopping_rounds=None,\n",
              "              enable_categorical=False, eval_metric=None, feature_types=None,\n",
              "              gamma=None, grow_policy=None, importance_type=None,\n",
              "              interaction_constraints=None, learning_rate=None, max_bin=None,\n",
              "              max_cat_threshold=None, max_cat_to_onehot=None,\n",
              "              max_delta_step=None, max_depth=None, max_leaves=None,\n",
              "              min_child_weight=None, missing=nan, monotone_constraints=None,\n",
              "              multi_strategy=None, n_estimators=None, n_jobs=None,\n",
              "              num_parallel_tree=None, objective=&#x27;multi:softprob&#x27;, ...)</pre><b>In a Jupyter environment, please rerun this cell to show the HTML representation or trust the notebook. <br />On GitHub, the HTML representation is unable to render, please try loading this page with nbviewer.org.</b></div><div class=\"sk-container\" hidden><div class=\"sk-item\"><div class=\"sk-estimator sk-toggleable\"><input class=\"sk-toggleable__control sk-hidden--visually\" id=\"sk-estimator-id-1\" type=\"checkbox\" checked><label for=\"sk-estimator-id-1\" class=\"sk-toggleable__label sk-toggleable__label-arrow\">XGBClassifier</label><div class=\"sk-toggleable__content\"><pre>XGBClassifier(base_score=None, booster=None, callbacks=None,\n",
              "              colsample_bylevel=None, colsample_bynode=None,\n",
              "              colsample_bytree=None, device=None, early_stopping_rounds=None,\n",
              "              enable_categorical=False, eval_metric=None, feature_types=None,\n",
              "              gamma=None, grow_policy=None, importance_type=None,\n",
              "              interaction_constraints=None, learning_rate=None, max_bin=None,\n",
              "              max_cat_threshold=None, max_cat_to_onehot=None,\n",
              "              max_delta_step=None, max_depth=None, max_leaves=None,\n",
              "              min_child_weight=None, missing=nan, monotone_constraints=None,\n",
              "              multi_strategy=None, n_estimators=None, n_jobs=None,\n",
              "              num_parallel_tree=None, objective=&#x27;multi:softprob&#x27;, ...)</pre></div></div></div></div></div>"
            ]
          },
          "metadata": {},
          "execution_count": 34
        }
      ]
    },
    {
      "cell_type": "code",
      "source": [
        "print(model)"
      ],
      "metadata": {
        "colab": {
          "base_uri": "https://localhost:8080/"
        },
        "id": "H-jlEydIEO0R",
        "outputId": "5e278fe1-bacb-4249-c0a6-ae56432c2a84"
      },
      "execution_count": null,
      "outputs": [
        {
          "output_type": "stream",
          "name": "stdout",
          "text": [
            "XGBClassifier(base_score=None, booster=None, callbacks=None,\n",
            "              colsample_bylevel=None, colsample_bynode=None,\n",
            "              colsample_bytree=None, device=None, early_stopping_rounds=None,\n",
            "              enable_categorical=False, eval_metric=None, feature_types=None,\n",
            "              gamma=None, grow_policy=None, importance_type=None,\n",
            "              interaction_constraints=None, learning_rate=None, max_bin=None,\n",
            "              max_cat_threshold=None, max_cat_to_onehot=None,\n",
            "              max_delta_step=None, max_depth=None, max_leaves=None,\n",
            "              min_child_weight=None, missing=nan, monotone_constraints=None,\n",
            "              multi_strategy=None, n_estimators=None, n_jobs=None,\n",
            "              num_parallel_tree=None, objective='multi:softprob', ...)\n"
          ]
        }
      ]
    },
    {
      "cell_type": "code",
      "source": [
        "y_pred = model.predict(X_test)\n",
        "predictions = [round(value) for value in y_pred]"
      ],
      "metadata": {
        "id": "YaCTzWnwEXps"
      },
      "execution_count": null,
      "outputs": []
    },
    {
      "cell_type": "code",
      "source": [
        "# evaluate predictions\n",
        "accuracy = accuracy_score(y_test, predictions)\n",
        "print(\"Accuracy: %.2f%%\" % (accuracy * 100.0))"
      ],
      "metadata": {
        "colab": {
          "base_uri": "https://localhost:8080/"
        },
        "id": "2ilQB18OEcHm",
        "outputId": "4ba13ea2-46e6-4944-9a52-45026f88aadc"
      },
      "execution_count": null,
      "outputs": [
        {
          "output_type": "stream",
          "name": "stdout",
          "text": [
            "Accuracy: 78.06%\n"
          ]
        }
      ]
    },
    {
      "cell_type": "code",
      "source": [
        "# Calcular y mostrar la precisión del modelo\n",
        "accuracy = accuracy_score(y_test, predictions)\n",
        "print(\"Precisión del Modelo: %.2f%%\" % (accuracy * 100.0))\n",
        "\n",
        "# Definir un mapeo de renombre de clases\n",
        "class_mapping = {\n",
        "    0: 'estadio 1',\n",
        "    1: 'estadio 2',\n",
        "    2: 'estadio 3',\n",
        "    3: 'estadio 4',\n",
        "    4: 'estadio 5'\n",
        "}\n",
        "\n",
        "# Aplicar el renombre de clases a las etiquetas reales y predichas\n",
        "y_test_mapped = [class_mapping[cl] for cl in y_test]\n",
        "y_pred_mapped = [class_mapping[cl] for cl in y_pred]\n",
        "\n",
        "# Mostrar el reporte de clasificación con las clases renombradas\n",
        "print('Reporte de Clasificación:')\n",
        "print(classification_report(y_test_mapped, y_pred_mapped))\n",
        "\n",
        "# Calcular y mostrar la matriz de confusión con nombres de estadio\n",
        "conf_matrix = confusion_matrix(y_test_mapped, y_pred_mapped)\n",
        "plt.figure(figsize=(8, 6))\n",
        "sns.heatmap(conf_matrix, annot=True, fmt='g', cmap='Blues', xticklabels=class_mapping.values(), yticklabels=class_mapping.values())\n",
        "plt.xlabel('Etiquetas Predichas')\n",
        "plt.ylabel('Etiquetas Verdaderas')\n",
        "plt.title('Matriz de Confusión')\n",
        "plt.show()\n",
        "import numpy as np\n",
        "# Suponiendo que 'y_true' son los valores reales y 'y_pred' son las predicciones del modelo en el conjunto de validación\n",
        "residuals = y_test - y_pred\n",
        "variance = np.mean(residuals**2)\n",
        "print(\"variance del Modelo:\", variance)\n",
        "\n",
        "\n",
        "bias = np.mean(y_pred - y_test)\n",
        "print(\"sesgo del Modelo:\", bias)"
      ],
      "metadata": {
        "colab": {
          "base_uri": "https://localhost:8080/",
          "height": 842
        },
        "id": "nNcqdNWXfnYn",
        "outputId": "06e722d9-936c-4cb7-c9ab-5dc983dcc4ce"
      },
      "execution_count": null,
      "outputs": [
        {
          "output_type": "stream",
          "name": "stdout",
          "text": [
            "Precisión del Modelo: 78.06%\n",
            "Reporte de Clasificación:\n",
            "              precision    recall  f1-score   support\n",
            "\n",
            "   estadio 1       0.81      0.80      0.80       240\n",
            "   estadio 2       0.78      0.77      0.77       401\n",
            "   estadio 3       0.76      0.81      0.78       278\n",
            "   estadio 4       0.79      0.53      0.63        36\n",
            "   estadio 5       1.00      1.00      1.00         2\n",
            "\n",
            "    accuracy                           0.78       957\n",
            "   macro avg       0.83      0.78      0.80       957\n",
            "weighted avg       0.78      0.78      0.78       957\n",
            "\n"
          ]
        },
        {
          "output_type": "display_data",
          "data": {
            "text/plain": [
              "<Figure size 800x600 with 2 Axes>"
            ],
            "image/png": "[encoded data removed]"
          },
          "metadata": {}
        },
        {
          "output_type": "stream",
          "name": "stdout",
          "text": [
            "variance del Modelo: 0.2445141065830721\n",
            "sesgo del Modelo: -0.0020898641588296763\n"
          ]
        }
      ]
    },
    {
      "cell_type": "markdown",
      "source": [
        "**Optimizacion xgboost**\n"
      ],
      "metadata": {
        "id": "5oLPLhCPNhei"
      }
    },
    {
      "cell_type": "markdown",
      "source": [
        "Grid search"
      ],
      "metadata": {
        "id": "UfZXrNZcNz82"
      }
    },
    {
      "cell_type": "code",
      "source": [
        "import xgboost as xgb\n",
        "from sklearn.model_selection import GridSearchCV\n",
        "\n",
        "# Define the hyperparameter grid\n",
        "param_grid = {\n",
        "    'max_depth': [3, 5, 7],\n",
        "    'learning_rate': [0.1, 0.01, 0.001],\n",
        "    'subsample': [0.5, 0.7, 1]\n",
        "}\n",
        "\n",
        "# Create the XGBoost model object\n",
        "xgb_model = xgb.XGBClassifier()\n",
        "\n",
        "# Create the GridSearchCV object\n",
        "grid_search = GridSearchCV(xgb_model, param_grid, cv=5, scoring='accuracy')\n",
        "\n",
        "# Fit the GridSearchCV object to the training data\n",
        "grid_search.fit(X_train, y_train)\n",
        "\n",
        "# Print the best set of hyperparameters and the corresponding score\n",
        "print(\"Best set of hyperparameters: \", grid_search.best_params_)\n",
        "print(\"Best score: \", grid_search.best_score_)"
      ],
      "metadata": {
        "colab": {
          "base_uri": "https://localhost:8080/"
        },
        "id": "E5H34rdrNgf_",
        "outputId": "ca939100-d583-457a-e3db-bb42da149a84"
      },
      "execution_count": null,
      "outputs": [
        {
          "output_type": "stream",
          "name": "stdout",
          "text": [
            "Best set of hyperparameters:  {'learning_rate': 0.1, 'max_depth': 3, 'subsample': 0.5}\n",
            "Best score:  0.7836036957895687\n"
          ]
        }
      ]
    },
    {
      "cell_type": "markdown",
      "source": [
        "Random search"
      ],
      "metadata": {
        "id": "VSkYHt22OL_T"
      }
    },
    {
      "cell_type": "code",
      "source": [
        "import xgboost as xgb\n",
        "from sklearn.model_selection import RandomizedSearchCV\n",
        "import scipy.stats as stats\n",
        "\n",
        "# Define the hyperparameter distributions\n",
        "param_dist = {\n",
        "    'max_depth': stats.randint(3, 10),\n",
        "    'learning_rate': stats.uniform(0.01, 0.1),\n",
        "    'subsample': stats.uniform(0.5, 0.5),\n",
        "    'n_estimators':stats.randint(50, 200)\n",
        "}\n",
        "\n",
        "# Create the XGBoost model object\n",
        "xgb_model = xgb.XGBClassifier()\n",
        "\n",
        "# Create the RandomizedSearchCV object\n",
        "random_search = RandomizedSearchCV(xgb_model, param_distributions=param_dist, n_iter=10, cv=5, scoring='accuracy')\n",
        "\n",
        "# Fit the RandomizedSearchCV object to the training data\n",
        "random_search.fit(X_train, y_train)\n",
        "\n",
        "# Print the best set of hyperparameters and the corresponding score\n",
        "print(\"Best set of hyperparameters: \", random_search.best_params_)\n",
        "print(\"Best score: \", random_search.best_score_)"
      ],
      "metadata": {
        "colab": {
          "base_uri": "https://localhost:8080/"
        },
        "id": "2kpNBM6KN2tP",
        "outputId": "8b0ec3f4-f7e0-411d-9f35-a19c7f6ce126"
      },
      "execution_count": null,
      "outputs": [
        {
          "output_type": "stream",
          "name": "stdout",
          "text": [
            "Best set of hyperparameters:  {'learning_rate': 0.07633567068193642, 'max_depth': 5, 'n_estimators': 132, 'subsample': 0.6774486235829926}\n",
            "Best score:  0.7791244068578765\n"
          ]
        }
      ]
    },
    {
      "cell_type": "markdown",
      "source": [
        "Bayesian optimization"
      ],
      "metadata": {
        "id": "2Ob_ZmkwOXNZ"
      }
    },
    {
      "cell_type": "code",
      "source": [
        "import xgboost as xgb\n",
        "from hyperopt import fmin, tpe, hp,STATUS_OK\n",
        "\n",
        "\n",
        "# Define the hyperparameter space\n",
        "space = {\n",
        "    'max_depth': hp.choice('max_depth', range(1, 10)),\n",
        "    'learning_rate': hp.loguniform('learning_rate', -5, -2),\n",
        "    'subsample': hp.uniform('subsample', 0.5, 1)\n",
        "}\n",
        "\n",
        "# Define the objective function to minimize\n",
        "def objective(params):\n",
        "    xgb_model = xgb.XGBClassifier(**params)\n",
        "    xgb_model.fit(X_train, y_train)\n",
        "    y_pred = xgb_model.predict(X_test)\n",
        "    score = accuracy_score(y_test, y_pred)\n",
        "    return {'loss': -score, 'status': STATUS_OK}\n",
        "\n",
        "# Perform the optimization\n",
        "best_params = fmin(objective, space, algo=tpe.suggest, max_evals=100)\n",
        "print(\"Best set of hyperparameters: \", best_params)"
      ],
      "metadata": {
        "colab": {
          "base_uri": "https://localhost:8080/"
        },
        "id": "exa9VOFAOYEj",
        "outputId": "9eed8ebf-4067-40f3-9bd6-c1a50faec888"
      },
      "execution_count": null,
      "outputs": [
        {
          "output_type": "stream",
          "name": "stdout",
          "text": [
            "100%|██████████| 100/100 [01:02<00:00,  1.61trial/s, best loss: -0.8014629049111808]\n",
            "Best set of hyperparameters:  {'learning_rate': 0.11736381270689193, 'max_depth': 7, 'subsample': 0.9400304583110031}\n"
          ]
        }
      ]
    },
    {
      "cell_type": "markdown",
      "source": [
        "**XGBoost clasifier Optimizado**"
      ],
      "metadata": {
        "id": "ukQd52lgqYLx"
      }
    },
    {
      "cell_type": "code",
      "source": [
        "from numpy import loadtxt\n",
        "from xgboost import XGBClassifier\n",
        "from sklearn.model_selection import train_test_split\n",
        "from sklearn.metrics import accuracy_score"
      ],
      "metadata": {
        "id": "fY3EmuLDrU5U"
      },
      "execution_count": null,
      "outputs": []
    },
    {
      "cell_type": "code",
      "source": [
        "# Definir los hiperparámetros\n",
        "parametros = {'learning_rate': 0.07633567068193642, 'max_depth': 5, 'n_estimators': 132, 'subsample': 0.6774486235829926}\n",
        "\n",
        "# Inicializar el modelo XGBoost con los hiperparámetros\n",
        "model = XGBClassifier(**parametros)\n",
        "\n",
        "model.fit(X_train, y_train)"
      ],
      "metadata": {
        "colab": {
          "base_uri": "https://localhost:8080/",
          "height": 248
        },
        "outputId": "779f5c8d-f286-4936-fa98-4da956cc46a1",
        "id": "QaO0qWWYrU5W"
      },
      "execution_count": null,
      "outputs": [
        {
          "output_type": "execute_result",
          "data": {
            "text/plain": [
              "XGBClassifier(base_score=None, booster=None, callbacks=None,\n",
              "              colsample_bylevel=None, colsample_bynode=None,\n",
              "              colsample_bytree=None, device=None, early_stopping_rounds=None,\n",
              "              enable_categorical=False, eval_metric=None, feature_types=None,\n",
              "              gamma=None, grow_policy=None, importance_type=None,\n",
              "              interaction_constraints=None, learning_rate=0.07633567068193642,\n",
              "              max_bin=None, max_cat_threshold=None, max_cat_to_onehot=None,\n",
              "              max_delta_step=None, max_depth=5, max_leaves=None,\n",
              "              min_child_weight=None, missing=nan, monotone_constraints=None,\n",
              "              multi_strategy=None, n_estimators=132, n_jobs=None,\n",
              "              num_parallel_tree=None, objective='multi:softprob', ...)"
            ],
            "text/html": [
              "<style>#sk-container-id-3 {color: black;background-color: white;}#sk-container-id-3 pre{padding: 0;}#sk-container-id-3 div.sk-toggleable {background-color: white;}#sk-container-id-3 label.sk-toggleable__label {cursor: pointer;display: block;width: 100%;margin-bottom: 0;padding: 0.3em;box-sizing: border-box;text-align: center;}#sk-container-id-3 label.sk-toggleable__label-arrow:before {content: \"▸\";float: left;margin-right: 0.25em;color: #696969;}#sk-container-id-3 label.sk-toggleable__label-arrow:hover:before {color: black;}#sk-container-id-3 div.sk-estimator:hover label.sk-toggleable__label-arrow:before {color: black;}#sk-container-id-3 div.sk-toggleable__content {max-height: 0;max-width: 0;overflow: hidden;text-align: left;background-color: #f0f8ff;}#sk-container-id-3 div.sk-toggleable__content pre {margin: 0.2em;color: black;border-radius: 0.25em;background-color: #f0f8ff;}#sk-container-id-3 input.sk-toggleable__control:checked~div.sk-toggleable__content {max-height: 200px;max-width: 100%;overflow: auto;}#sk-container-id-3 input.sk-toggleable__control:checked~label.sk-toggleable__label-arrow:before {content: \"▾\";}#sk-container-id-3 div.sk-estimator input.sk-toggleable__control:checked~label.sk-toggleable__label {background-color: #d4ebff;}#sk-container-id-3 div.sk-label input.sk-toggleable__control:checked~label.sk-toggleable__label {background-color: #d4ebff;}#sk-container-id-3 input.sk-hidden--visually {border: 0;clip: rect(1px 1px 1px 1px);clip: rect(1px, 1px, 1px, 1px);height: 1px;margin: -1px;overflow: hidden;padding: 0;position: absolute;width: 1px;}#sk-container-id-3 div.sk-estimator {font-family: monospace;background-color: #f0f8ff;border: 1px dotted black;border-radius: 0.25em;box-sizing: border-box;margin-bottom: 0.5em;}#sk-container-id-3 div.sk-estimator:hover {background-color: #d4ebff;}#sk-container-id-3 div.sk-parallel-item::after {content: \"\";width: 100%;border-bottom: 1px solid gray;flex-grow: 1;}#sk-container-id-3 div.sk-label:hover label.sk-toggleable__label {background-color: #d4ebff;}#sk-container-id-3 div.sk-serial::before {content: \"\";position: absolute;border-left: 1px solid gray;box-sizing: border-box;top: 0;bottom: 0;left: 50%;z-index: 0;}#sk-container-id-3 div.sk-serial {display: flex;flex-direction: column;align-items: center;background-color: white;padding-right: 0.2em;padding-left: 0.2em;position: relative;}#sk-container-id-3 div.sk-item {position: relative;z-index: 1;}#sk-container-id-3 div.sk-parallel {display: flex;align-items: stretch;justify-content: center;background-color: white;position: relative;}#sk-container-id-3 div.sk-item::before, #sk-container-id-3 div.sk-parallel-item::before {content: \"\";position: absolute;border-left: 1px solid gray;box-sizing: border-box;top: 0;bottom: 0;left: 50%;z-index: -1;}#sk-container-id-3 div.sk-parallel-item {display: flex;flex-direction: column;z-index: 1;position: relative;background-color: white;}#sk-container-id-3 div.sk-parallel-item:first-child::after {align-self: flex-end;width: 50%;}#sk-container-id-3 div.sk-parallel-item:last-child::after {align-self: flex-start;width: 50%;}#sk-container-id-3 div.sk-parallel-item:only-child::after {width: 0;}#sk-container-id-3 div.sk-dashed-wrapped {border: 1px dashed gray;margin: 0 0.4em 0.5em 0.4em;box-sizing: border-box;padding-bottom: 0.4em;background-color: white;}#sk-container-id-3 div.sk-label label {font-family: monospace;font-weight: bold;display: inline-block;line-height: 1.2em;}#sk-container-id-3 div.sk-label-container {text-align: center;}#sk-container-id-3 div.sk-container {/* jupyter's `normalize.less` sets `[hidden] { display: none; }` but bootstrap.min.css set `[hidden] { display: none !important; }` so we also need the `!important` here to be able to override the default hidden behavior on the sphinx rendered scikit-learn.org. See: https://github.com/scikit-learn/scikit-learn/issues/21755 */display: inline-block !important;position: relative;}#sk-container-id-3 div.sk-text-repr-fallback {display: none;}</style><div id=\"sk-container-id-3\" class=\"sk-top-container\"><div class=\"sk-text-repr-fallback\"><pre>XGBClassifier(base_score=None, booster=None, callbacks=None,\n",
              "              colsample_bylevel=None, colsample_bynode=None,\n",
              "              colsample_bytree=None, device=None, early_stopping_rounds=None,\n",
              "              enable_categorical=False, eval_metric=None, feature_types=None,\n",
              "              gamma=None, grow_policy=None, importance_type=None,\n",
              "              interaction_constraints=None, learning_rate=0.07633567068193642,\n",
              "              max_bin=None, max_cat_threshold=None, max_cat_to_onehot=None,\n",
              "              max_delta_step=None, max_depth=5, max_leaves=None,\n",
              "              min_child_weight=None, missing=nan, monotone_constraints=None,\n",
              "              multi_strategy=None, n_estimators=132, n_jobs=None,\n",
              "              num_parallel_tree=None, objective=&#x27;multi:softprob&#x27;, ...)</pre><b>In a Jupyter environment, please rerun this cell to show the HTML representation or trust the notebook. <br />On GitHub, the HTML representation is unable to render, please try loading this page with nbviewer.org.</b></div><div class=\"sk-container\" hidden><div class=\"sk-item\"><div class=\"sk-estimator sk-toggleable\"><input class=\"sk-toggleable__control sk-hidden--visually\" id=\"sk-estimator-id-3\" type=\"checkbox\" checked><label for=\"sk-estimator-id-3\" class=\"sk-toggleable__label sk-toggleable__label-arrow\">XGBClassifier</label><div class=\"sk-toggleable__content\"><pre>XGBClassifier(base_score=None, booster=None, callbacks=None,\n",
              "              colsample_bylevel=None, colsample_bynode=None,\n",
              "              colsample_bytree=None, device=None, early_stopping_rounds=None,\n",
              "              enable_categorical=False, eval_metric=None, feature_types=None,\n",
              "              gamma=None, grow_policy=None, importance_type=None,\n",
              "              interaction_constraints=None, learning_rate=0.07633567068193642,\n",
              "              max_bin=None, max_cat_threshold=None, max_cat_to_onehot=None,\n",
              "              max_delta_step=None, max_depth=5, max_leaves=None,\n",
              "              min_child_weight=None, missing=nan, monotone_constraints=None,\n",
              "              multi_strategy=None, n_estimators=132, n_jobs=None,\n",
              "              num_parallel_tree=None, objective=&#x27;multi:softprob&#x27;, ...)</pre></div></div></div></div></div>"
            ]
          },
          "metadata": {},
          "execution_count": 71
        }
      ]
    },
    {
      "cell_type": "code",
      "source": [
        "print(model)"
      ],
      "metadata": {
        "colab": {
          "base_uri": "https://localhost:8080/"
        },
        "outputId": "7d88a7c2-0f5b-4ae7-981e-0844f597ea7c",
        "id": "7-QvvHbBrU5X"
      },
      "execution_count": null,
      "outputs": [
        {
          "output_type": "stream",
          "name": "stdout",
          "text": [
            "XGBClassifier(base_score=None, booster=None, callbacks=None,\n",
            "              colsample_bylevel=None, colsample_bynode=None,\n",
            "              colsample_bytree=None, device=None, early_stopping_rounds=None,\n",
            "              enable_categorical=False, eval_metric=None, feature_types=None,\n",
            "              gamma=None, grow_policy=None, importance_type=None,\n",
            "              interaction_constraints=None, learning_rate=0.07633567068193642,\n",
            "              max_bin=None, max_cat_threshold=None, max_cat_to_onehot=None,\n",
            "              max_delta_step=None, max_depth=5, max_leaves=None,\n",
            "              min_child_weight=None, missing=nan, monotone_constraints=None,\n",
            "              multi_strategy=None, n_estimators=132, n_jobs=None,\n",
            "              num_parallel_tree=None, objective='multi:softprob', ...)\n"
          ]
        }
      ]
    },
    {
      "cell_type": "code",
      "source": [
        "y_pred = model.predict(X_test)\n",
        "predictions = [round(value) for value in y_pred]"
      ],
      "metadata": {
        "id": "g8p8oDcHrU5Y"
      },
      "execution_count": null,
      "outputs": []
    },
    {
      "cell_type": "code",
      "source": [
        "# evaluate predictions\n",
        "accuracy = accuracy_score(y_test, predictions)\n",
        "print(\"Accuracy: %.2f%%\" % (accuracy * 100.0))"
      ],
      "metadata": {
        "colab": {
          "base_uri": "https://localhost:8080/",
          "height": 355
        },
        "outputId": "72f4b464-1548-4f5a-c96c-1eef570a384c",
        "id": "3JG8vTP1rU5Y"
      },
      "execution_count": null,
      "outputs": [
        {
          "output_type": "error",
          "ename": "ValueError",
          "evalue": "ignored",
          "traceback": [
            "\u001b[0;31m---------------------------------------------------------------------------\u001b[0m",
            "\u001b[0;31mValueError\u001b[0m                                Traceback (most recent call last)",
            "\u001b[0;32m<ipython-input-238-43b4e8fa9456>\u001b[0m in \u001b[0;36m<cell line: 2>\u001b[0;34m()\u001b[0m\n\u001b[1;32m      1\u001b[0m \u001b[0;31m# evaluate predictions\u001b[0m\u001b[0;34m\u001b[0m\u001b[0;34m\u001b[0m\u001b[0m\n\u001b[0;32m----> 2\u001b[0;31m \u001b[0maccuracy\u001b[0m \u001b[0;34m=\u001b[0m \u001b[0maccuracy_score\u001b[0m\u001b[0;34m(\u001b[0m\u001b[0my_test\u001b[0m\u001b[0;34m,\u001b[0m \u001b[0mpredictions\u001b[0m\u001b[0;34m)\u001b[0m\u001b[0;34m\u001b[0m\u001b[0;34m\u001b[0m\u001b[0m\n\u001b[0m\u001b[1;32m      3\u001b[0m \u001b[0mprint\u001b[0m\u001b[0;34m(\u001b[0m\u001b[0;34m\"Accuracy: %.2f%%\"\u001b[0m \u001b[0;34m%\u001b[0m \u001b[0;34m(\u001b[0m\u001b[0maccuracy\u001b[0m \u001b[0;34m*\u001b[0m \u001b[0;36m100.0\u001b[0m\u001b[0;34m)\u001b[0m\u001b[0;34m)\u001b[0m\u001b[0;34m\u001b[0m\u001b[0;34m\u001b[0m\u001b[0m\n",
            "\u001b[0;32m/usr/local/lib/python3.10/dist-packages/sklearn/utils/_param_validation.py\u001b[0m in \u001b[0;36mwrapper\u001b[0;34m(*args, **kwargs)\u001b[0m\n\u001b[1;32m    190\u001b[0m \u001b[0;34m\u001b[0m\u001b[0m\n\u001b[1;32m    191\u001b[0m             \u001b[0;32mtry\u001b[0m\u001b[0;34m:\u001b[0m\u001b[0;34m\u001b[0m\u001b[0;34m\u001b[0m\u001b[0m\n\u001b[0;32m--> 192\u001b[0;31m                 \u001b[0;32mreturn\u001b[0m \u001b[0mfunc\u001b[0m\u001b[0;34m(\u001b[0m\u001b[0;34m*\u001b[0m\u001b[0margs\u001b[0m\u001b[0;34m,\u001b[0m \u001b[0;34m**\u001b[0m\u001b[0mkwargs\u001b[0m\u001b[0;34m)\u001b[0m\u001b[0;34m\u001b[0m\u001b[0;34m\u001b[0m\u001b[0m\n\u001b[0m\u001b[1;32m    193\u001b[0m             \u001b[0;32mexcept\u001b[0m \u001b[0mInvalidParameterError\u001b[0m \u001b[0;32mas\u001b[0m \u001b[0me\u001b[0m\u001b[0;34m:\u001b[0m\u001b[0;34m\u001b[0m\u001b[0;34m\u001b[0m\u001b[0m\n\u001b[1;32m    194\u001b[0m                 \u001b[0;31m# When the function is just a wrapper around an estimator, we allow\u001b[0m\u001b[0;34m\u001b[0m\u001b[0;34m\u001b[0m\u001b[0m\n",
            "\u001b[0;32m/usr/local/lib/python3.10/dist-packages/sklearn/metrics/_classification.py\u001b[0m in \u001b[0;36maccuracy_score\u001b[0;34m(y_true, y_pred, normalize, sample_weight)\u001b[0m\n\u001b[1;32m    219\u001b[0m \u001b[0;34m\u001b[0m\u001b[0m\n\u001b[1;32m    220\u001b[0m     \u001b[0;31m# Compute accuracy for each possible representation\u001b[0m\u001b[0;34m\u001b[0m\u001b[0;34m\u001b[0m\u001b[0m\n\u001b[0;32m--> 221\u001b[0;31m     \u001b[0my_type\u001b[0m\u001b[0;34m,\u001b[0m \u001b[0my_true\u001b[0m\u001b[0;34m,\u001b[0m \u001b[0my_pred\u001b[0m \u001b[0;34m=\u001b[0m \u001b[0m_check_targets\u001b[0m\u001b[0;34m(\u001b[0m\u001b[0my_true\u001b[0m\u001b[0;34m,\u001b[0m \u001b[0my_pred\u001b[0m\u001b[0;34m)\u001b[0m\u001b[0;34m\u001b[0m\u001b[0;34m\u001b[0m\u001b[0m\n\u001b[0m\u001b[1;32m    222\u001b[0m     \u001b[0mcheck_consistent_length\u001b[0m\u001b[0;34m(\u001b[0m\u001b[0my_true\u001b[0m\u001b[0;34m,\u001b[0m \u001b[0my_pred\u001b[0m\u001b[0;34m,\u001b[0m \u001b[0msample_weight\u001b[0m\u001b[0;34m)\u001b[0m\u001b[0;34m\u001b[0m\u001b[0;34m\u001b[0m\u001b[0m\n\u001b[1;32m    223\u001b[0m     \u001b[0;32mif\u001b[0m \u001b[0my_type\u001b[0m\u001b[0;34m.\u001b[0m\u001b[0mstartswith\u001b[0m\u001b[0;34m(\u001b[0m\u001b[0;34m\"multilabel\"\u001b[0m\u001b[0;34m)\u001b[0m\u001b[0;34m:\u001b[0m\u001b[0;34m\u001b[0m\u001b[0;34m\u001b[0m\u001b[0m\n",
            "\u001b[0;32m/usr/local/lib/python3.10/dist-packages/sklearn/metrics/_classification.py\u001b[0m in \u001b[0;36m_check_targets\u001b[0;34m(y_true, y_pred)\u001b[0m\n\u001b[1;32m     84\u001b[0m     \u001b[0my_pred\u001b[0m \u001b[0;34m:\u001b[0m \u001b[0marray\u001b[0m \u001b[0;32mor\u001b[0m \u001b[0mindicator\u001b[0m \u001b[0mmatrix\u001b[0m\u001b[0;34m\u001b[0m\u001b[0;34m\u001b[0m\u001b[0m\n\u001b[1;32m     85\u001b[0m     \"\"\"\n\u001b[0;32m---> 86\u001b[0;31m     \u001b[0mcheck_consistent_length\u001b[0m\u001b[0;34m(\u001b[0m\u001b[0my_true\u001b[0m\u001b[0;34m,\u001b[0m \u001b[0my_pred\u001b[0m\u001b[0;34m)\u001b[0m\u001b[0;34m\u001b[0m\u001b[0;34m\u001b[0m\u001b[0m\n\u001b[0m\u001b[1;32m     87\u001b[0m     \u001b[0mtype_true\u001b[0m \u001b[0;34m=\u001b[0m \u001b[0mtype_of_target\u001b[0m\u001b[0;34m(\u001b[0m\u001b[0my_true\u001b[0m\u001b[0;34m,\u001b[0m \u001b[0minput_name\u001b[0m\u001b[0;34m=\u001b[0m\u001b[0;34m\"y_true\"\u001b[0m\u001b[0;34m)\u001b[0m\u001b[0;34m\u001b[0m\u001b[0;34m\u001b[0m\u001b[0m\n\u001b[1;32m     88\u001b[0m     \u001b[0mtype_pred\u001b[0m \u001b[0;34m=\u001b[0m \u001b[0mtype_of_target\u001b[0m\u001b[0;34m(\u001b[0m\u001b[0my_pred\u001b[0m\u001b[0;34m,\u001b[0m \u001b[0minput_name\u001b[0m\u001b[0;34m=\u001b[0m\u001b[0;34m\"y_pred\"\u001b[0m\u001b[0;34m)\u001b[0m\u001b[0;34m\u001b[0m\u001b[0;34m\u001b[0m\u001b[0m\n",
            "\u001b[0;32m/usr/local/lib/python3.10/dist-packages/sklearn/utils/validation.py\u001b[0m in \u001b[0;36mcheck_consistent_length\u001b[0;34m(*arrays)\u001b[0m\n\u001b[1;32m    395\u001b[0m     \u001b[0muniques\u001b[0m \u001b[0;34m=\u001b[0m \u001b[0mnp\u001b[0m\u001b[0;34m.\u001b[0m\u001b[0munique\u001b[0m\u001b[0;34m(\u001b[0m\u001b[0mlengths\u001b[0m\u001b[0;34m)\u001b[0m\u001b[0;34m\u001b[0m\u001b[0;34m\u001b[0m\u001b[0m\n\u001b[1;32m    396\u001b[0m     \u001b[0;32mif\u001b[0m \u001b[0mlen\u001b[0m\u001b[0;34m(\u001b[0m\u001b[0muniques\u001b[0m\u001b[0;34m)\u001b[0m \u001b[0;34m>\u001b[0m \u001b[0;36m1\u001b[0m\u001b[0;34m:\u001b[0m\u001b[0;34m\u001b[0m\u001b[0;34m\u001b[0m\u001b[0m\n\u001b[0;32m--> 397\u001b[0;31m         raise ValueError(\n\u001b[0m\u001b[1;32m    398\u001b[0m             \u001b[0;34m\"Found input variables with inconsistent numbers of samples: %r\"\u001b[0m\u001b[0;34m\u001b[0m\u001b[0;34m\u001b[0m\u001b[0m\n\u001b[1;32m    399\u001b[0m             \u001b[0;34m%\u001b[0m \u001b[0;34m[\u001b[0m\u001b[0mint\u001b[0m\u001b[0;34m(\u001b[0m\u001b[0ml\u001b[0m\u001b[0;34m)\u001b[0m \u001b[0;32mfor\u001b[0m \u001b[0ml\u001b[0m \u001b[0;32min\u001b[0m \u001b[0mlengths\u001b[0m\u001b[0;34m]\u001b[0m\u001b[0;34m\u001b[0m\u001b[0;34m\u001b[0m\u001b[0m\n",
            "\u001b[0;31mValueError\u001b[0m: Found input variables with inconsistent numbers of samples: [638, 957]"
          ]
        }
      ]
    },
    {
      "cell_type": "code",
      "source": [
        "# Calcular y mostrar la precisión del modelo\n",
        "accuracy = accuracy_score(y_test, predictions)\n",
        "print(\"Precisión del Modelo: %.2f%%\" % (accuracy * 100.0))\n",
        "\n",
        "# Definir un mapeo de renombre de clases\n",
        "class_mapping = {\n",
        "    0: 'estadio 1',\n",
        "    1: 'estadio 2',\n",
        "    2: 'estadio 3',\n",
        "    3: 'estadio 4',\n",
        "    4: 'estadio 5'\n",
        "}\n",
        "\n",
        "# Aplicar el renombre de clases a las etiquetas reales y predichas\n",
        "y_test_mapped = [class_mapping[cl] for cl in y_test]\n",
        "y_pred_mapped = [class_mapping[cl] for cl in y_pred]\n",
        "\n",
        "# Mostrar el reporte de clasificación con las clases renombradas\n",
        "print('Reporte de Clasificación:')\n",
        "print(classification_report(y_test_mapped, y_pred_mapped))\n",
        "\n",
        "# Calcular y mostrar la matriz de confusión con nombres de estadio\n",
        "conf_matrix = confusion_matrix(y_test_mapped, y_pred_mapped)\n",
        "plt.figure(figsize=(8, 6))\n",
        "sns.heatmap(conf_matrix, annot=True, fmt='g', cmap='Blues', xticklabels=class_mapping.values(), yticklabels=class_mapping.values())\n",
        "plt.xlabel('Etiquetas Predichas')\n",
        "plt.ylabel('Etiquetas Verdaderas')\n",
        "plt.title('Matriz de Confusión')\n",
        "plt.show()\n",
        "import numpy as np\n",
        "# Suponiendo que 'y_true' son los valores reales y 'y_pred' son las predicciones del modelo en el conjunto de validación\n",
        "residuals = y_test - y_pred\n",
        "variance = np.mean(residuals**2)\n",
        "print(\"variance del Modelo:\", variance)\n",
        "\n",
        "\n",
        "bias = np.mean(y_pred - y_test)\n",
        "print(\"sesgo del Modelo:\", bias)"
      ],
      "metadata": {
        "colab": {
          "base_uri": "https://localhost:8080/",
          "height": 842
        },
        "outputId": "b6697c83-cb58-489a-eb61-66cafbf38a40",
        "id": "nBE_E1iKrU5Z"
      },
      "execution_count": null,
      "outputs": [
        {
          "output_type": "stream",
          "name": "stdout",
          "text": [
            "Precisión del Modelo: 84.85%\n",
            "Reporte de Clasificación:\n",
            "              precision    recall  f1-score   support\n",
            "\n",
            "   estadio 1       0.85      0.88      0.87       240\n",
            "   estadio 2       0.86      0.83      0.84       401\n",
            "   estadio 3       0.83      0.87      0.85       278\n",
            "   estadio 4       0.92      0.67      0.77        36\n",
            "   estadio 5       1.00      1.00      1.00         2\n",
            "\n",
            "    accuracy                           0.85       957\n",
            "   macro avg       0.89      0.85      0.87       957\n",
            "weighted avg       0.85      0.85      0.85       957\n",
            "\n"
          ]
        },
        {
          "output_type": "display_data",
          "data": {
            "text/plain": [
              "<Figure size 800x600 with 2 Axes>"
            ],
            "image/png": "[encoded data removed]"
          },
          "metadata": {}
        },
        {
          "output_type": "stream",
          "name": "stdout",
          "text": [
            "variance del Modelo: 0.17972831765935215\n",
            "sesgo del Modelo: -0.018808777429467086\n"
          ]
        }
      ]
    },
    {
      "cell_type": "markdown",
      "source": [
        "**Catboost**"
      ],
      "metadata": {
        "id": "RKmrHwPHVhXX"
      }
    },
    {
      "cell_type": "code",
      "source": [
        "# transformacion de las variables categóricas en valores numéricos\n",
        "label_encoder = LabelEncoder()\n",
        "df2['estadio'] = label_encoder.fit_transform(df2['estadio'])\n",
        "df2['CREA '] = label_encoder.fit_transform(df2['CREA '])\n",
        "df2['Sexo'] = label_encoder.fit_transform(df2['Sexo'])\n",
        "df2['G_POB'] = label_encoder.fit_transform(df2['G_POB'])\n",
        "df2['ETIO_ERC'] = label_encoder.fit_transform(df2['ETIO_ERC'])\n",
        "df2['TA'] = label_encoder.fit_transform(df2['TA'])\n",
        "df2['ANTAGONISTA'] = label_encoder.fit_transform(df2['ANTAGONISTA'])\n",
        "df2['COLES'] = label_encoder.fit_transform(df2['COLES'])\n",
        "df2['ALB/CREA'] = label_encoder.fit_transform(df2['ALB/CREA'])\n",
        "df2['PROG_ERC'] = label_encoder.fit_transform(df2['PROG_ERC'])\n"
      ],
      "metadata": {
        "colab": {
          "base_uri": "https://localhost:8080/"
        },
        "id": "u0k3eyGLIZsz",
        "outputId": "1d278b4b-1e36-4408-e401-74edd1eefa83"
      },
      "execution_count": null,
      "outputs": [
        {
          "output_type": "stream",
          "name": "stderr",
          "text": [
            "<ipython-input-48-d6c9135a11f6>:3: SettingWithCopyWarning: \n",
            "A value is trying to be set on a copy of a slice from a DataFrame.\n",
            "Try using .loc[row_indexer,col_indexer] = value instead\n",
            "\n",
            "See the caveats in the documentation: https://pandas.pydata.org/pandas-docs/stable/user_guide/indexing.html#returning-a-view-versus-a-copy\n",
            "  df2['estadio'] = label_encoder.fit_transform(df2['estadio'])\n",
            "<ipython-input-48-d6c9135a11f6>:4: SettingWithCopyWarning: \n",
            "A value is trying to be set on a copy of a slice from a DataFrame.\n",
            "Try using .loc[row_indexer,col_indexer] = value instead\n",
            "\n",
            "See the caveats in the documentation: https://pandas.pydata.org/pandas-docs/stable/user_guide/indexing.html#returning-a-view-versus-a-copy\n",
            "  df2['CREA '] = label_encoder.fit_transform(df2['CREA '])\n",
            "<ipython-input-48-d6c9135a11f6>:5: SettingWithCopyWarning: \n",
            "A value is trying to be set on a copy of a slice from a DataFrame.\n",
            "Try using .loc[row_indexer,col_indexer] = value instead\n",
            "\n",
            "See the caveats in the documentation: https://pandas.pydata.org/pandas-docs/stable/user_guide/indexing.html#returning-a-view-versus-a-copy\n",
            "  df2['Sexo'] = label_encoder.fit_transform(df2['Sexo'])\n",
            "<ipython-input-48-d6c9135a11f6>:6: SettingWithCopyWarning: \n",
            "A value is trying to be set on a copy of a slice from a DataFrame.\n",
            "Try using .loc[row_indexer,col_indexer] = value instead\n",
            "\n",
            "See the caveats in the documentation: https://pandas.pydata.org/pandas-docs/stable/user_guide/indexing.html#returning-a-view-versus-a-copy\n",
            "  df2['G_POB'] = label_encoder.fit_transform(df2['G_POB'])\n",
            "<ipython-input-48-d6c9135a11f6>:7: SettingWithCopyWarning: \n",
            "A value is trying to be set on a copy of a slice from a DataFrame.\n",
            "Try using .loc[row_indexer,col_indexer] = value instead\n",
            "\n",
            "See the caveats in the documentation: https://pandas.pydata.org/pandas-docs/stable/user_guide/indexing.html#returning-a-view-versus-a-copy\n",
            "  df2['ETIO_ERC'] = label_encoder.fit_transform(df2['ETIO_ERC'])\n",
            "<ipython-input-48-d6c9135a11f6>:8: SettingWithCopyWarning: \n",
            "A value is trying to be set on a copy of a slice from a DataFrame.\n",
            "Try using .loc[row_indexer,col_indexer] = value instead\n",
            "\n",
            "See the caveats in the documentation: https://pandas.pydata.org/pandas-docs/stable/user_guide/indexing.html#returning-a-view-versus-a-copy\n",
            "  df2['TA'] = label_encoder.fit_transform(df2['TA'])\n",
            "<ipython-input-48-d6c9135a11f6>:9: SettingWithCopyWarning: \n",
            "A value is trying to be set on a copy of a slice from a DataFrame.\n",
            "Try using .loc[row_indexer,col_indexer] = value instead\n",
            "\n",
            "See the caveats in the documentation: https://pandas.pydata.org/pandas-docs/stable/user_guide/indexing.html#returning-a-view-versus-a-copy\n",
            "  df2['ANTAGONISTA'] = label_encoder.fit_transform(df2['ANTAGONISTA'])\n",
            "<ipython-input-48-d6c9135a11f6>:10: SettingWithCopyWarning: \n",
            "A value is trying to be set on a copy of a slice from a DataFrame.\n",
            "Try using .loc[row_indexer,col_indexer] = value instead\n",
            "\n",
            "See the caveats in the documentation: https://pandas.pydata.org/pandas-docs/stable/user_guide/indexing.html#returning-a-view-versus-a-copy\n",
            "  df2['COLES'] = label_encoder.fit_transform(df2['COLES'])\n",
            "<ipython-input-48-d6c9135a11f6>:11: SettingWithCopyWarning: \n",
            "A value is trying to be set on a copy of a slice from a DataFrame.\n",
            "Try using .loc[row_indexer,col_indexer] = value instead\n",
            "\n",
            "See the caveats in the documentation: https://pandas.pydata.org/pandas-docs/stable/user_guide/indexing.html#returning-a-view-versus-a-copy\n",
            "  df2['ALB/CREA'] = label_encoder.fit_transform(df2['ALB/CREA'])\n",
            "<ipython-input-48-d6c9135a11f6>:12: SettingWithCopyWarning: \n",
            "A value is trying to be set on a copy of a slice from a DataFrame.\n",
            "Try using .loc[row_indexer,col_indexer] = value instead\n",
            "\n",
            "See the caveats in the documentation: https://pandas.pydata.org/pandas-docs/stable/user_guide/indexing.html#returning-a-view-versus-a-copy\n",
            "  df2['PROG_ERC'] = label_encoder.fit_transform(df2['PROG_ERC'])\n"
          ]
        }
      ]
    },
    {
      "cell_type": "code",
      "source": [
        "#Se crea X contiene todas las columnas de df2 excepto la columna 'estadio', la cual es la variable objetivo. y contiene solo la columna 'estadio'.\n",
        "X = df2.drop('estadio', axis=1).values\n",
        "y = df2['estadio'].values"
      ],
      "metadata": {
        "id": "ULXKUyNYJMBc"
      },
      "execution_count": null,
      "outputs": []
    },
    {
      "cell_type": "code",
      "source": [
        "# Se divide el Dataframe en datos de prueba y entrenamiento\n",
        "X_train, X_test, y_train, y_test = train_test_split(X, y, test_size=0.3, random_state=0)\n",
        "print('x_train and x_test shapes are {} and {}'.format(X_train.shape, X_test.shape))\n",
        "print('y_train and y_test shapes are {} and {}'.format(y_train.shape, y_test.shape))"
      ],
      "metadata": {
        "colab": {
          "base_uri": "https://localhost:8080/"
        },
        "id": "yOg3WtkWJXeA",
        "outputId": "58004272-b38b-4d3d-8ade-c261effd8a78"
      },
      "execution_count": null,
      "outputs": [
        {
          "output_type": "stream",
          "name": "stdout",
          "text": [
            "x_train and x_test shapes are (2232, 14) and (957, 14)\n",
            "y_train and y_test shapes are (2232,) and (957,)\n"
          ]
        }
      ]
    },
    {
      "cell_type": "code",
      "source": [
        "pip install catboost"
      ],
      "metadata": {
        "colab": {
          "base_uri": "https://localhost:8080/"
        },
        "id": "cvI3M4U6V9hM",
        "outputId": "1cfc260d-708c-4201-ece5-cfe2cc084bc9"
      },
      "execution_count": null,
      "outputs": [
        {
          "output_type": "stream",
          "name": "stdout",
          "text": [
            "Requirement already satisfied: catboost in /usr/local/lib/python3.10/dist-packages (1.2.2)\n",
            "Requirement already satisfied: graphviz in /usr/local/lib/python3.10/dist-packages (from catboost) (0.20.1)\n",
            "Requirement already satisfied: matplotlib in /usr/local/lib/python3.10/dist-packages (from catboost) (3.7.1)\n",
            "Requirement already satisfied: numpy>=1.16.0 in /usr/local/lib/python3.10/dist-packages (from catboost) (1.23.5)\n",
            "Requirement already satisfied: pandas>=0.24 in /usr/local/lib/python3.10/dist-packages (from catboost) (1.5.3)\n",
            "Requirement already satisfied: scipy in /usr/local/lib/python3.10/dist-packages (from catboost) (1.11.4)\n",
            "Requirement already satisfied: plotly in /usr/local/lib/python3.10/dist-packages (from catboost) (5.15.0)\n",
            "Requirement already satisfied: six in /usr/local/lib/python3.10/dist-packages (from catboost) (1.16.0)\n",
            "Requirement already satisfied: python-dateutil>=2.8.1 in /usr/local/lib/python3.10/dist-packages (from pandas>=0.24->catboost) (2.8.2)\n",
            "Requirement already satisfied: pytz>=2020.1 in /usr/local/lib/python3.10/dist-packages (from pandas>=0.24->catboost) (2023.3.post1)\n",
            "Requirement already satisfied: contourpy>=1.0.1 in /usr/local/lib/python3.10/dist-packages (from matplotlib->catboost) (1.2.0)\n",
            "Requirement already satisfied: cycler>=0.10 in /usr/local/lib/python3.10/dist-packages (from matplotlib->catboost) (0.12.1)\n",
            "Requirement already satisfied: fonttools>=4.22.0 in /usr/local/lib/python3.10/dist-packages (from matplotlib->catboost) (4.46.0)\n",
            "Requirement already satisfied: kiwisolver>=1.0.1 in /usr/local/lib/python3.10/dist-packages (from matplotlib->catboost) (1.4.5)\n",
            "Requirement already satisfied: packaging>=20.0 in /usr/local/lib/python3.10/dist-packages (from matplotlib->catboost) (23.2)\n",
            "Requirement already satisfied: pillow>=6.2.0 in /usr/local/lib/python3.10/dist-packages (from matplotlib->catboost) (9.4.0)\n",
            "Requirement already satisfied: pyparsing>=2.3.1 in /usr/local/lib/python3.10/dist-packages (from matplotlib->catboost) (3.1.1)\n",
            "Requirement already satisfied: tenacity>=6.2.0 in /usr/local/lib/python3.10/dist-packages (from plotly->catboost) (8.2.3)\n"
          ]
        }
      ]
    },
    {
      "cell_type": "code",
      "source": [
        "from catboost import Pool, CatBoostClassifier"
      ],
      "metadata": {
        "id": "FkVQTMTCVc5l"
      },
      "execution_count": null,
      "outputs": []
    },
    {
      "cell_type": "code",
      "source": [
        "df2.info()"
      ],
      "metadata": {
        "colab": {
          "base_uri": "https://localhost:8080/"
        },
        "id": "vZAtiR4xqrbc",
        "outputId": "bbc42d28-e6ed-4d21-f8cd-5d7c827bb287"
      },
      "execution_count": null,
      "outputs": [
        {
          "output_type": "stream",
          "name": "stdout",
          "text": [
            "<class 'pandas.core.frame.DataFrame'>\n",
            "Int64Index: 3189 entries, 0 to 4926\n",
            "Data columns (total 15 columns):\n",
            " #   Column         Non-Null Count  Dtype\n",
            "---  ------         --------------  -----\n",
            " 0   EDAD           3189 non-null   int64\n",
            " 1   CREA           3189 non-null   int64\n",
            " 2   IMC            3189 non-null   int64\n",
            " 3   ETIO_ERC       3189 non-null   int64\n",
            " 4   Sexo           3189 non-null   int64\n",
            " 5   G_POB          3189 non-null   int64\n",
            " 6   COLES          3189 non-null   int64\n",
            " 7   TA             3189 non-null   int64\n",
            " 8   DX_ERC         3189 non-null   int64\n",
            " 9   ALB/CREA       3189 non-null   int64\n",
            " 10  TIEMP_SERVI    3189 non-null   int64\n",
            " 11  PROG_ERC       3189 non-null   int64\n",
            " 12  ANTAGONISTA    3189 non-null   int64\n",
            " 13  RECIBIO_TRANS  3189 non-null   int64\n",
            " 14  estadio        3189 non-null   int64\n",
            "dtypes: int64(15)\n",
            "memory usage: 398.6 KB\n"
          ]
        }
      ]
    },
    {
      "cell_type": "code",
      "source": [
        "cat_features = list(range(0, X.shape[1]))\n",
        "print(cat_features)"
      ],
      "metadata": {
        "colab": {
          "base_uri": "https://localhost:8080/"
        },
        "id": "HFSOBOCZX7Nn",
        "outputId": "e6f80764-0d24-4999-f543-f8d5546f07a8"
      },
      "execution_count": null,
      "outputs": [
        {
          "output_type": "stream",
          "name": "stdout",
          "text": [
            "[0, 1, 2, 3, 4, 5, 6, 7, 8, 9, 10, 11, 12, 13]\n"
          ]
        }
      ]
    },
    {
      "cell_type": "code",
      "source": [
        "from sklearn.model_selection import train_test_split\n",
        "\n",
        "X_train, X_val, y_train, y_val = train_test_split(X, y, test_size=0.2, random_state=0)"
      ],
      "metadata": {
        "id": "Vne4aPdRX_DC"
      },
      "execution_count": null,
      "outputs": []
    },
    {
      "cell_type": "code",
      "source": [
        "from catboost import CatBoostClassifier\n",
        "\n",
        "clf = CatBoostClassifier(\n",
        "    iterations=5,\n",
        "    learning_rate=0.1,\n",
        "    #loss_function='CrossEntropy'\n",
        ")\n",
        "\n",
        "\n",
        "clf.fit(X_train, y_train,\n",
        "        cat_features=cat_features,\n",
        "        eval_set=(X_val, y_val),\n",
        "        verbose=False\n",
        ")\n",
        "\n",
        "print('CatBoost model is fitted: ' + str(clf.is_fitted()))\n",
        "print('CatBoost model parameters:')\n",
        "print(clf.get_params())"
      ],
      "metadata": {
        "colab": {
          "base_uri": "https://localhost:8080/"
        },
        "id": "Anc5RmaeZgVR",
        "outputId": "a056922a-824d-4dfa-e188-f35a88c13e8b"
      },
      "execution_count": null,
      "outputs": [
        {
          "output_type": "stream",
          "name": "stdout",
          "text": [
            "CatBoost model is fitted: True\n",
            "CatBoost model parameters:\n",
            "{'iterations': 5, 'learning_rate': 0.1}\n"
          ]
        }
      ]
    },
    {
      "cell_type": "code",
      "source": [
        "from catboost import CatBoostClassifier\n",
        "clf = CatBoostClassifier(\n",
        "    iterations=10,\n",
        "#     verbose=5,\n",
        ")\n",
        "\n",
        "clf.fit(\n",
        "    X_train, y_train,\n",
        "    cat_features=cat_features,\n",
        "    eval_set=(X_val, y_val),\n",
        ")"
      ],
      "metadata": {
        "colab": {
          "base_uri": "https://localhost:8080/"
        },
        "id": "GTnvHU4zcj6H",
        "outputId": "628ff478-d78b-4d0a-d8eb-4e5e254a08f4"
      },
      "execution_count": null,
      "outputs": [
        {
          "output_type": "stream",
          "name": "stdout",
          "text": [
            "Learning rate set to 0.5\n",
            "0:\tlearn: 1.1942262\ttest: 1.2106234\tbest: 1.2106234 (0)\ttotal: 52.2ms\tremaining: 470ms\n",
            "1:\tlearn: 1.0448357\ttest: 1.0492412\tbest: 1.0492412 (1)\ttotal: 122ms\tremaining: 489ms\n",
            "2:\tlearn: 0.9533760\ttest: 0.9539530\tbest: 0.9539530 (2)\ttotal: 180ms\tremaining: 420ms\n",
            "3:\tlearn: 0.8787887\ttest: 0.8702266\tbest: 0.8702266 (3)\ttotal: 235ms\tremaining: 353ms\n",
            "4:\tlearn: 0.8363775\ttest: 0.8294075\tbest: 0.8294075 (4)\ttotal: 287ms\tremaining: 287ms\n",
            "5:\tlearn: 0.8105814\ttest: 0.8055353\tbest: 0.8055353 (5)\ttotal: 349ms\tremaining: 233ms\n",
            "6:\tlearn: 0.7793468\ttest: 0.7760493\tbest: 0.7760493 (6)\ttotal: 411ms\tremaining: 176ms\n",
            "7:\tlearn: 0.7526280\ttest: 0.7539936\tbest: 0.7539936 (7)\ttotal: 477ms\tremaining: 119ms\n",
            "8:\tlearn: 0.7321044\ttest: 0.7342841\tbest: 0.7342841 (8)\ttotal: 573ms\tremaining: 63.6ms\n",
            "9:\tlearn: 0.7120391\ttest: 0.7226020\tbest: 0.7226020 (9)\ttotal: 677ms\tremaining: 0us\n",
            "\n",
            "bestTest = 0.7226019927\n",
            "bestIteration = 9\n",
            "\n"
          ]
        },
        {
          "output_type": "execute_result",
          "data": {
            "text/plain": [
              "<catboost.core.CatBoostClassifier at 0x7c646e82f850>"
            ]
          },
          "metadata": {},
          "execution_count": 57
        }
      ]
    },
    {
      "cell_type": "code",
      "source": [
        "from catboost import CatBoostClassifier, Pool\n",
        "\n",
        "# Crear conjuntos de datos de CatBoost\n",
        "train_dataset = Pool(data=X_train,\n",
        "                     label=y_train,\n",
        "                     cat_features=cat_features)\n",
        "\n",
        "val_dataset = Pool(data=X_val,\n",
        "                   label=y_val,\n",
        "                   cat_features=cat_features)\n",
        "\n",
        "# Inicializar el modelo de CatBoostClassifier\n",
        "model = CatBoostClassifier(iterations=10,\n",
        "                           learning_rate=1,\n",
        "                           depth=2,\n",
        "                           loss_function='MultiClass')\n",
        "\n",
        "# Ajustar el modelo con los datos de entrenamiento\n",
        "model.fit(train_dataset, eval_set=val_dataset, early_stopping_rounds=10, verbose=100)\n",
        "\n"
      ],
      "metadata": {
        "colab": {
          "base_uri": "https://localhost:8080/"
        },
        "id": "KaZimqV3e59b",
        "outputId": "eb6e74e3-1661-49f8-a626-22c1a037b27b"
      },
      "execution_count": null,
      "outputs": [
        {
          "output_type": "stream",
          "name": "stdout",
          "text": [
            "0:\tlearn: 1.1173544\ttest: 1.1250623\tbest: 1.1250623 (0)\ttotal: 33.7ms\tremaining: 304ms\n",
            "9:\tlearn: 0.7975916\ttest: 0.7974690\tbest: 0.7974690 (9)\ttotal: 264ms\tremaining: 0us\n",
            "\n",
            "bestTest = 0.7974689861\n",
            "bestIteration = 9\n",
            "\n"
          ]
        },
        {
          "output_type": "execute_result",
          "data": {
            "text/plain": [
              "<catboost.core.CatBoostClassifier at 0x7c646e82cf40>"
            ]
          },
          "metadata": {},
          "execution_count": 58
        }
      ]
    },
    {
      "cell_type": "code",
      "source": [
        "# Obtener predicciones para el conjunto de validación\n",
        "preds_class = model.predict(val_dataset)\n",
        "preds_proba = model.predict_proba(val_dataset)\n",
        "preds_raw = model.predict(val_dataset, prediction_type='RawFormulaVal')\n"
      ],
      "metadata": {
        "id": "V5K8EOUCiBPs"
      },
      "execution_count": null,
      "outputs": []
    },
    {
      "cell_type": "code",
      "source": [
        "pip install tabulate\n"
      ],
      "metadata": {
        "colab": {
          "base_uri": "https://localhost:8080/"
        },
        "id": "SXBoU0Z4uaXB",
        "outputId": "6c620b3d-6ee3-4b83-d0b6-7cc27329a2f1"
      },
      "execution_count": null,
      "outputs": [
        {
          "output_type": "stream",
          "name": "stdout",
          "text": [
            "Requirement already satisfied: tabulate in /usr/local/lib/python3.10/dist-packages (0.9.0)\n"
          ]
        }
      ]
    },
    {
      "cell_type": "code",
      "source": [
        "from sklearn.metrics import accuracy_score, classification_report, confusion_matrix\n",
        "import seaborn as sns\n",
        "import matplotlib.pyplot as plt\n",
        "from tabulate import tabulate\n",
        "\n",
        "# Calcular la precisión del modelo\n",
        "accuracy = accuracy_score(y_val, preds_class)\n",
        "\n",
        "# Mostrar reporte de clasificación (precision, recall, f1-score, support)\n",
        "print(\"Reporte de Clasificación:\")\n",
        "class_report = classification_report(y_val, preds_class, target_names=['Estadio 1', 'Estadio 2', 'Estadio 3', 'Estadio 4','Estadio 5'])\n",
        "print(class_report)\n",
        "\n",
        "# Calcular y mostrar la matriz de confusión\n",
        "conf_matrix = confusion_matrix(y_val, preds_class)\n",
        "plt.figure(figsize=(8, 6))\n",
        "sns.heatmap(conf_matrix, annot=True, fmt='g', cmap='Blues', xticklabels=model.classes_, yticklabels=model.classes_)\n",
        "plt.xlabel('Etiquetas Predichas')\n",
        "plt.ylabel('Etiquetas Verdaderas')\n",
        "plt.title('Matriz de Confusión')\n",
        "plt.show()\n",
        "\n",
        "# Mostrar la precisión del modelo\n",
        "print(\"Precisión del Modelo:\", accuracy)\n",
        "\n",
        "import numpy as np\n",
        "# Suponiendo que 'y_true' son los valores reales y 'y_pred' son las predicciones del modelo en el conjunto de validación\n",
        "residuals = y_test - y_pred\n",
        "variance = np.mean(residuals**2)\n",
        "print(\"variance del Modelo:\", variance)\n",
        "\n",
        "\n",
        "bias = np.mean(y_pred - y_test)\n",
        "print(\"sesgo del Modelo:\", bias)"
      ],
      "metadata": {
        "colab": {
          "base_uri": "https://localhost:8080/",
          "height": 966
        },
        "id": "q3bh0uIPudaW",
        "outputId": "65eab777-dfb9-40cb-80ef-e0b4e251d559"
      },
      "execution_count": null,
      "outputs": [
        {
          "output_type": "stream",
          "name": "stdout",
          "text": [
            "Reporte de Clasificación:\n",
            "              precision    recall  f1-score   support\n",
            "\n",
            "   Estadio 1       0.70      0.69      0.69       161\n",
            "   Estadio 2       0.69      0.66      0.67       265\n",
            "   Estadio 3       0.66      0.70      0.68       184\n",
            "   Estadio 4       0.45      0.52      0.48        27\n",
            "   Estadio 5       0.00      0.00      0.00         1\n",
            "\n",
            "    accuracy                           0.67       638\n",
            "   macro avg       0.50      0.51      0.51       638\n",
            "weighted avg       0.67      0.67      0.67       638\n",
            "\n"
          ]
        },
        {
          "output_type": "stream",
          "name": "stderr",
          "text": [
            "/usr/local/lib/python3.10/dist-packages/sklearn/metrics/_classification.py:1344: UndefinedMetricWarning: Precision and F-score are ill-defined and being set to 0.0 in labels with no predicted samples. Use `zero_division` parameter to control this behavior.\n",
            "  _warn_prf(average, modifier, msg_start, len(result))\n",
            "/usr/local/lib/python3.10/dist-packages/sklearn/metrics/_classification.py:1344: UndefinedMetricWarning: Precision and F-score are ill-defined and being set to 0.0 in labels with no predicted samples. Use `zero_division` parameter to control this behavior.\n",
            "  _warn_prf(average, modifier, msg_start, len(result))\n",
            "/usr/local/lib/python3.10/dist-packages/sklearn/metrics/_classification.py:1344: UndefinedMetricWarning: Precision and F-score are ill-defined and being set to 0.0 in labels with no predicted samples. Use `zero_division` parameter to control this behavior.\n",
            "  _warn_prf(average, modifier, msg_start, len(result))\n"
          ]
        },
        {
          "output_type": "display_data",
          "data": {
            "text/plain": [
              "<Figure size 800x600 with 2 Axes>"
            ],
            "image/png": "[encoded data removed]"
          },
          "metadata": {}
        },
        {
          "output_type": "stream",
          "name": "stdout",
          "text": [
            "Precisión del Modelo: 0.670846394984326\n",
            "variance del Modelo: 0.23719958202716823\n",
            "sesgo del Modelo: -0.030303030303030304\n"
          ]
        }
      ]
    },
    {
      "cell_type": "markdown",
      "source": [
        "# **corn-ordinal-neuralnet**"
      ],
      "metadata": {
        "id": "O04Bw63QFRbJ"
      }
    },
    {
      "cell_type": "code",
      "source": [
        "import pandas as pd\n",
        "import numpy as np\n",
        "\n",
        "df2= pd.read_csv('/content/ERC 2023_FINAL.csv',sep=\";\",encoding='latin-1')\n",
        "\n",
        "df2 = df.dropna(subset=['TASA_FILTRACION'])"
      ],
      "metadata": {
        "id": "_IW_FAQL5fkz"
      },
      "execution_count": null,
      "outputs": []
    },
    {
      "cell_type": "code",
      "source": [
        "import pandas as pd\n",
        "\n",
        "def crear_columna_estadio(df2):\n",
        "    \"\"\"\n",
        "    Crea una columna llamada \"estadio\" con los valores de la variable \"TASAFILTRACION\" clasificados en cuatro categorías.\n",
        "\n",
        "    Args:\n",
        "      df: Un DataFrame de pandas.\n",
        "\n",
        "    Returns:\n",
        "      El DataFrame original con una nueva columna llamada \"estadio\".\n",
        "    \"\"\"\n",
        "    # Crear una función para asignar una categoría a cada valor de TASAFILTRACION\n",
        "    def clasificar_estadio(TASA_FILTRACION):\n",
        "        if TASA_FILTRACION >= 90:\n",
        "            return \"estadio 1\"\n",
        "        elif TASA_FILTRACION >= 60:\n",
        "            return \"estadio 2\"\n",
        "        elif TASA_FILTRACION >= 30:\n",
        "            return \"estadio 3\"\n",
        "        elif TASA_FILTRACION >= 15:\n",
        "            return \"estadio 4\"\n",
        "        else:\n",
        "            return \"estadio 5\"\n",
        "\n",
        "    # Agregar la columna\n",
        "    df[\"estadio\"] = df[\"TASA_FILTRACION\"].apply(clasificar_estadio)\n",
        "\n",
        "    return df"
      ],
      "metadata": {
        "id": "N1mZUEl75l-N"
      },
      "execution_count": null,
      "outputs": []
    },
    {
      "cell_type": "code",
      "source": [
        "data = crear_columna_estadio(df2)"
      ],
      "metadata": {
        "id": "nfgiBj4C5oMP"
      },
      "execution_count": null,
      "outputs": []
    },
    {
      "cell_type": "code",
      "source": [
        "df2"
      ],
      "metadata": {
        "colab": {
          "base_uri": "https://localhost:8080/",
          "height": 739
        },
        "id": "nFhAVW5kSwvc",
        "outputId": "c6daa123-863c-4ddb-9d71-53047850d417"
      },
      "execution_count": null,
      "outputs": [
        {
          "output_type": "execute_result",
          "data": {
            "text/plain": [
              "                      TIPO_REG    DAT_BARN  EDAD Sexo AFILIACION COD_EPS  \\\n",
              "0                          HTA  30/08/1949    74    M          P  RES003   \n",
              "1                          HTA  21/09/1935    88    M          P  RES003   \n",
              "2                     HTA-DIAB  20/12/1934    89    M          P  RES003   \n",
              "3                          HTA  13/08/1936    87    M          P  RES003   \n",
              "4                          HTA  20/05/1939    84    M          P  RES003   \n",
              "...                        ...         ...   ...  ...        ...     ...   \n",
              "4745                       HTA  30/11/1968    55    M          P  RES003   \n",
              "4746                       HTA  30/01/1969    54    M          P  RES003   \n",
              "4747  NO HTA/DIAB CON DAÑO REL  18/11/1961    62    M          P  RES003   \n",
              "4748  NO HTA/DIAB CON DAÑO REL  24/07/1963    60    M          P  RES003   \n",
              "4926                      DIAB  11/07/1997    26    M          P  RES003   \n",
              "\n",
              "     COD_ETNICA               G_POB  MUN.        DATE_  ...  COST_TRANS  \\\n",
              "0       Ninguna        Adulto Mayor  50001   2/05/1988  ...         NaN   \n",
              "1       Ninguna        Adulto Mayor  50001   1/07/1979  ...         NaN   \n",
              "2       Ninguna        Adulto Mayor  50001   1/05/1990  ...         NaN   \n",
              "3       Ninguna        Adulto Mayor  50001  16/06/1961  ...         NaN   \n",
              "4       Ninguna        Adulto Mayor  50001   1/03/1960  ...         NaN   \n",
              "...         ...                 ...    ...         ...  ...         ...   \n",
              "4745    Ninguna  Trabajador Urbano   11001   1/04/2012  ...         NaN   \n",
              "4746    Ninguna                Otro  11001  31/08/2011  ...         NaN   \n",
              "4747    Ninguna                Otro  11001   1/11/2018  ...         NaN   \n",
              "4748    Ninguna                Otro  11001   1/07/2024  ...         NaN   \n",
              "4926    Ninguna                Otro  25572  21/12/2016  ...         NaN   \n",
              "\n",
              "     TIEMP_SERVI  COST_TOTAL COD EPS  NOV_REPORAMTE  CAU_MUERTE DAT_MUERTE  \\\n",
              "0             12    794113.0     NaN            NaN         NaN        NaN   \n",
              "1             12         NaN     NaN            7.0         NaN        NaN   \n",
              "2             10   2304515.0     NaN            NaN         NaN        NaN   \n",
              "3             12   1336759.0     NaN            NaN         NaN        NaN   \n",
              "4              8   1336759.0     NaN            NaN         NaN        NaN   \n",
              "...          ...         ...     ...            ...         ...        ...   \n",
              "4745          12    794113.0     NaN            NaN         NaN        NaN   \n",
              "4746          12   1336759.0     NaN            NaN         NaN        NaN   \n",
              "4747          12    250000.0     NaN            NaN         NaN        NaN   \n",
              "4748          12    250000.0     NaN            NaN         NaN        NaN   \n",
              "4926           6    714078.0     NaN            NaN         NaN        NaN   \n",
              "\n",
              "          CUI   DAT_CORTE    estadio  \n",
              "0       57959  30/06/2023  estadio 2  \n",
              "1      507499  30/06/2023  estadio 3  \n",
              "2      175624  30/06/2023  estadio 3  \n",
              "3      399569  30/06/2023  estadio 3  \n",
              "4      403006  30/06/2023  estadio 3  \n",
              "...       ...         ...        ...  \n",
              "4745  3634652  30/06/2023  estadio 2  \n",
              "4746   399824  30/06/2023  estadio 3  \n",
              "4747  2863534  30/06/2023  estadio 3  \n",
              "4748   317487  30/06/2023  estadio 2  \n",
              "4926  3454106  30/06/2023  estadio 1  \n",
              "\n",
              "[3189 rows x 115 columns]"
            ],
            "text/html": [
              "\n",
              "  <div id=\"df-94ee11fa-1c61-4a0c-9783-9fa74ca9e06e\" class=\"colab-df-container\">\n",
              "    <div>\n",
              "<style scoped>\n",
              "    .dataframe tbody tr th:only-of-type {\n",
              "        vertical-align: middle;\n",
              "    }\n",
              "\n",
              "    .dataframe tbody tr th {\n",
              "        vertical-align: top;\n",
              "    }\n",
              "\n",
              "    .dataframe thead th {\n",
              "        text-align: right;\n",
              "    }\n",
              "</style>\n",
              "<table border=\"1\" class=\"dataframe\">\n",
              "  <thead>\n",
              "    <tr style=\"text-align: right;\">\n",
              "      <th></th>\n",
              "      <th>TIPO_REG</th>\n",
              "      <th>DAT_BARN</th>\n",
              "      <th>EDAD</th>\n",
              "      <th>Sexo</th>\n",
              "      <th>AFILIACION</th>\n",
              "      <th>COD_EPS</th>\n",
              "      <th>COD_ETNICA</th>\n",
              "      <th>G_POB</th>\n",
              "      <th>MUN.</th>\n",
              "      <th>DATE_</th>\n",
              "      <th>...</th>\n",
              "      <th>COST_TRANS</th>\n",
              "      <th>TIEMP_SERVI</th>\n",
              "      <th>COST_TOTAL</th>\n",
              "      <th>COD EPS</th>\n",
              "      <th>NOV_REPORAMTE</th>\n",
              "      <th>CAU_MUERTE</th>\n",
              "      <th>DAT_MUERTE</th>\n",
              "      <th>CUI</th>\n",
              "      <th>DAT_CORTE</th>\n",
              "      <th>estadio</th>\n",
              "    </tr>\n",
              "  </thead>\n",
              "  <tbody>\n",
              "    <tr>\n",
              "      <th>0</th>\n",
              "      <td>HTA</td>\n",
              "      <td>30/08/1949</td>\n",
              "      <td>74</td>\n",
              "      <td>M</td>\n",
              "      <td>P</td>\n",
              "      <td>RES003</td>\n",
              "      <td>Ninguna</td>\n",
              "      <td>Adulto Mayor</td>\n",
              "      <td>50001</td>\n",
              "      <td>2/05/1988</td>\n",
              "      <td>...</td>\n",
              "      <td>NaN</td>\n",
              "      <td>12</td>\n",
              "      <td>794113.0</td>\n",
              "      <td>NaN</td>\n",
              "      <td>NaN</td>\n",
              "      <td>NaN</td>\n",
              "      <td>NaN</td>\n",
              "      <td>57959</td>\n",
              "      <td>30/06/2023</td>\n",
              "      <td>estadio 2</td>\n",
              "    </tr>\n",
              "    <tr>\n",
              "      <th>1</th>\n",
              "      <td>HTA</td>\n",
              "      <td>21/09/1935</td>\n",
              "      <td>88</td>\n",
              "      <td>M</td>\n",
              "      <td>P</td>\n",
              "      <td>RES003</td>\n",
              "      <td>Ninguna</td>\n",
              "      <td>Adulto Mayor</td>\n",
              "      <td>50001</td>\n",
              "      <td>1/07/1979</td>\n",
              "      <td>...</td>\n",
              "      <td>NaN</td>\n",
              "      <td>12</td>\n",
              "      <td>NaN</td>\n",
              "      <td>NaN</td>\n",
              "      <td>7.0</td>\n",
              "      <td>NaN</td>\n",
              "      <td>NaN</td>\n",
              "      <td>507499</td>\n",
              "      <td>30/06/2023</td>\n",
              "      <td>estadio 3</td>\n",
              "    </tr>\n",
              "    <tr>\n",
              "      <th>2</th>\n",
              "      <td>HTA-DIAB</td>\n",
              "      <td>20/12/1934</td>\n",
              "      <td>89</td>\n",
              "      <td>M</td>\n",
              "      <td>P</td>\n",
              "      <td>RES003</td>\n",
              "      <td>Ninguna</td>\n",
              "      <td>Adulto Mayor</td>\n",
              "      <td>50001</td>\n",
              "      <td>1/05/1990</td>\n",
              "      <td>...</td>\n",
              "      <td>NaN</td>\n",
              "      <td>10</td>\n",
              "      <td>2304515.0</td>\n",
              "      <td>NaN</td>\n",
              "      <td>NaN</td>\n",
              "      <td>NaN</td>\n",
              "      <td>NaN</td>\n",
              "      <td>175624</td>\n",
              "      <td>30/06/2023</td>\n",
              "      <td>estadio 3</td>\n",
              "    </tr>\n",
              "    <tr>\n",
              "      <th>3</th>\n",
              "      <td>HTA</td>\n",
              "      <td>13/08/1936</td>\n",
              "      <td>87</td>\n",
              "      <td>M</td>\n",
              "      <td>P</td>\n",
              "      <td>RES003</td>\n",
              "      <td>Ninguna</td>\n",
              "      <td>Adulto Mayor</td>\n",
              "      <td>50001</td>\n",
              "      <td>16/06/1961</td>\n",
              "      <td>...</td>\n",
              "      <td>NaN</td>\n",
              "      <td>12</td>\n",
              "      <td>1336759.0</td>\n",
              "      <td>NaN</td>\n",
              "      <td>NaN</td>\n",
              "      <td>NaN</td>\n",
              "      <td>NaN</td>\n",
              "      <td>399569</td>\n",
              "      <td>30/06/2023</td>\n",
              "      <td>estadio 3</td>\n",
              "    </tr>\n",
              "    <tr>\n",
              "      <th>4</th>\n",
              "      <td>HTA</td>\n",
              "      <td>20/05/1939</td>\n",
              "      <td>84</td>\n",
              "      <td>M</td>\n",
              "      <td>P</td>\n",
              "      <td>RES003</td>\n",
              "      <td>Ninguna</td>\n",
              "      <td>Adulto Mayor</td>\n",
              "      <td>50001</td>\n",
              "      <td>1/03/1960</td>\n",
              "      <td>...</td>\n",
              "      <td>NaN</td>\n",
              "      <td>8</td>\n",
              "      <td>1336759.0</td>\n",
              "      <td>NaN</td>\n",
              "      <td>NaN</td>\n",
              "      <td>NaN</td>\n",
              "      <td>NaN</td>\n",
              "      <td>403006</td>\n",
              "      <td>30/06/2023</td>\n",
              "      <td>estadio 3</td>\n",
              "    </tr>\n",
              "    <tr>\n",
              "      <th>...</th>\n",
              "      <td>...</td>\n",
              "      <td>...</td>\n",
              "      <td>...</td>\n",
              "      <td>...</td>\n",
              "      <td>...</td>\n",
              "      <td>...</td>\n",
              "      <td>...</td>\n",
              "      <td>...</td>\n",
              "      <td>...</td>\n",
              "      <td>...</td>\n",
              "      <td>...</td>\n",
              "      <td>...</td>\n",
              "      <td>...</td>\n",
              "      <td>...</td>\n",
              "      <td>...</td>\n",
              "      <td>...</td>\n",
              "      <td>...</td>\n",
              "      <td>...</td>\n",
              "      <td>...</td>\n",
              "      <td>...</td>\n",
              "      <td>...</td>\n",
              "    </tr>\n",
              "    <tr>\n",
              "      <th>4745</th>\n",
              "      <td>HTA</td>\n",
              "      <td>30/11/1968</td>\n",
              "      <td>55</td>\n",
              "      <td>M</td>\n",
              "      <td>P</td>\n",
              "      <td>RES003</td>\n",
              "      <td>Ninguna</td>\n",
              "      <td>Trabajador Urbano</td>\n",
              "      <td>11001</td>\n",
              "      <td>1/04/2012</td>\n",
              "      <td>...</td>\n",
              "      <td>NaN</td>\n",
              "      <td>12</td>\n",
              "      <td>794113.0</td>\n",
              "      <td>NaN</td>\n",
              "      <td>NaN</td>\n",
              "      <td>NaN</td>\n",
              "      <td>NaN</td>\n",
              "      <td>3634652</td>\n",
              "      <td>30/06/2023</td>\n",
              "      <td>estadio 2</td>\n",
              "    </tr>\n",
              "    <tr>\n",
              "      <th>4746</th>\n",
              "      <td>HTA</td>\n",
              "      <td>30/01/1969</td>\n",
              "      <td>54</td>\n",
              "      <td>M</td>\n",
              "      <td>P</td>\n",
              "      <td>RES003</td>\n",
              "      <td>Ninguna</td>\n",
              "      <td>Otro</td>\n",
              "      <td>11001</td>\n",
              "      <td>31/08/2011</td>\n",
              "      <td>...</td>\n",
              "      <td>NaN</td>\n",
              "      <td>12</td>\n",
              "      <td>1336759.0</td>\n",
              "      <td>NaN</td>\n",
              "      <td>NaN</td>\n",
              "      <td>NaN</td>\n",
              "      <td>NaN</td>\n",
              "      <td>399824</td>\n",
              "      <td>30/06/2023</td>\n",
              "      <td>estadio 3</td>\n",
              "    </tr>\n",
              "    <tr>\n",
              "      <th>4747</th>\n",
              "      <td>NO HTA/DIAB CON DAÑO REL</td>\n",
              "      <td>18/11/1961</td>\n",
              "      <td>62</td>\n",
              "      <td>M</td>\n",
              "      <td>P</td>\n",
              "      <td>RES003</td>\n",
              "      <td>Ninguna</td>\n",
              "      <td>Otro</td>\n",
              "      <td>11001</td>\n",
              "      <td>1/11/2018</td>\n",
              "      <td>...</td>\n",
              "      <td>NaN</td>\n",
              "      <td>12</td>\n",
              "      <td>250000.0</td>\n",
              "      <td>NaN</td>\n",
              "      <td>NaN</td>\n",
              "      <td>NaN</td>\n",
              "      <td>NaN</td>\n",
              "      <td>2863534</td>\n",
              "      <td>30/06/2023</td>\n",
              "      <td>estadio 3</td>\n",
              "    </tr>\n",
              "    <tr>\n",
              "      <th>4748</th>\n",
              "      <td>NO HTA/DIAB CON DAÑO REL</td>\n",
              "      <td>24/07/1963</td>\n",
              "      <td>60</td>\n",
              "      <td>M</td>\n",
              "      <td>P</td>\n",
              "      <td>RES003</td>\n",
              "      <td>Ninguna</td>\n",
              "      <td>Otro</td>\n",
              "      <td>11001</td>\n",
              "      <td>1/07/2024</td>\n",
              "      <td>...</td>\n",
              "      <td>NaN</td>\n",
              "      <td>12</td>\n",
              "      <td>250000.0</td>\n",
              "      <td>NaN</td>\n",
              "      <td>NaN</td>\n",
              "      <td>NaN</td>\n",
              "      <td>NaN</td>\n",
              "      <td>317487</td>\n",
              "      <td>30/06/2023</td>\n",
              "      <td>estadio 2</td>\n",
              "    </tr>\n",
              "    <tr>\n",
              "      <th>4926</th>\n",
              "      <td>DIAB</td>\n",
              "      <td>11/07/1997</td>\n",
              "      <td>26</td>\n",
              "      <td>M</td>\n",
              "      <td>P</td>\n",
              "      <td>RES003</td>\n",
              "      <td>Ninguna</td>\n",
              "      <td>Otro</td>\n",
              "      <td>25572</td>\n",
              "      <td>21/12/2016</td>\n",
              "      <td>...</td>\n",
              "      <td>NaN</td>\n",
              "      <td>6</td>\n",
              "      <td>714078.0</td>\n",
              "      <td>NaN</td>\n",
              "      <td>NaN</td>\n",
              "      <td>NaN</td>\n",
              "      <td>NaN</td>\n",
              "      <td>3454106</td>\n",
              "      <td>30/06/2023</td>\n",
              "      <td>estadio 1</td>\n",
              "    </tr>\n",
              "  </tbody>\n",
              "</table>\n",
              "<p>3189 rows × 115 columns</p>\n",
              "</div>\n",
              "    <div class=\"colab-df-buttons\">\n",
              "\n",
              "  <div class=\"colab-df-container\">\n",
              "    <button class=\"colab-df-convert\" onclick=\"convertToInteractive('df-94ee11fa-1c61-4a0c-9783-9fa74ca9e06e')\"\n",
              "            title=\"Convert this dataframe to an interactive table.\"\n",
              "            style=\"display:none;\">\n",
              "\n",
              "  <svg xmlns=\"http://www.w3.org/2000/svg\" height=\"24px\" viewBox=\"0 -960 960 960\">\n",
              "    <path d=\"M120-120v-720h720v720H120Zm60-500h600v-160H180v160Zm220 220h160v-160H400v160Zm0 220h160v-160H400v160ZM180-400h160v-160H180v160Zm440 0h160v-160H620v160ZM180-180h160v-160H180v160Zm440 0h160v-160H620v160Z\"/>\n",
              "  </svg>\n",
              "    </button>\n",
              "\n",
              "  <style>\n",
              "    .colab-df-container {\n",
              "      display:flex;\n",
              "      gap: 12px;\n",
              "    }\n",
              "\n",
              "    .colab-df-convert {\n",
              "      background-color: #E8F0FE;\n",
              "      border: none;\n",
              "      border-radius: 50%;\n",
              "      cursor: pointer;\n",
              "      display: none;\n",
              "      fill: #1967D2;\n",
              "      height: 32px;\n",
              "      padding: 0 0 0 0;\n",
              "      width: 32px;\n",
              "    }\n",
              "\n",
              "    .colab-df-convert:hover {\n",
              "      background-color: #E2EBFA;\n",
              "      box-shadow: 0px 1px 2px rgba(60, 64, 67, 0.3), 0px 1px 3px 1px rgba(60, 64, 67, 0.15);\n",
              "      fill: #174EA6;\n",
              "    }\n",
              "\n",
              "    .colab-df-buttons div {\n",
              "      margin-bottom: 4px;\n",
              "    }\n",
              "\n",
              "    [theme=dark] .colab-df-convert {\n",
              "      background-color: #3B4455;\n",
              "      fill: #D2E3FC;\n",
              "    }\n",
              "\n",
              "    [theme=dark] .colab-df-convert:hover {\n",
              "      background-color: #434B5C;\n",
              "      box-shadow: 0px 1px 3px 1px rgba(0, 0, 0, 0.15);\n",
              "      filter: drop-shadow(0px 1px 2px rgba(0, 0, 0, 0.3));\n",
              "      fill: #FFFFFF;\n",
              "    }\n",
              "  </style>\n",
              "\n",
              "    <script>\n",
              "      const buttonEl =\n",
              "        document.querySelector('#df-94ee11fa-1c61-4a0c-9783-9fa74ca9e06e button.colab-df-convert');\n",
              "      buttonEl.style.display =\n",
              "        google.colab.kernel.accessAllowed ? 'block' : 'none';\n",
              "\n",
              "      async function convertToInteractive(key) {\n",
              "        const element = document.querySelector('#df-94ee11fa-1c61-4a0c-9783-9fa74ca9e06e');\n",
              "        const dataTable =\n",
              "          await google.colab.kernel.invokeFunction('convertToInteractive',\n",
              "                                                    [key], {});\n",
              "        if (!dataTable) return;\n",
              "\n",
              "        const docLinkHtml = 'Like what you see? Visit the ' +\n",
              "          '<a target=\"_blank\" href=https://colab.research.google.com/notebooks/data_table.ipynb>data table notebook</a>'\n",
              "          + ' to learn more about interactive tables.';\n",
              "        element.innerHTML = '';\n",
              "        dataTable['output_type'] = 'display_data';\n",
              "        await google.colab.output.renderOutput(dataTable, element);\n",
              "        const docLink = document.createElement('div');\n",
              "        docLink.innerHTML = docLinkHtml;\n",
              "        element.appendChild(docLink);\n",
              "      }\n",
              "    </script>\n",
              "  </div>\n",
              "\n",
              "\n",
              "<div id=\"df-db0240b1-861d-4229-88ff-8b93666e573b\">\n",
              "  <button class=\"colab-df-quickchart\" onclick=\"quickchart('df-db0240b1-861d-4229-88ff-8b93666e573b')\"\n",
              "            title=\"Suggest charts\"\n",
              "            style=\"display:none;\">\n",
              "\n",
              "<svg xmlns=\"http://www.w3.org/2000/svg\" height=\"24px\"viewBox=\"0 0 24 24\"\n",
              "     width=\"24px\">\n",
              "    <g>\n",
              "        <path d=\"M19 3H5c-1.1 0-2 .9-2 2v14c0 1.1.9 2 2 2h14c1.1 0 2-.9 2-2V5c0-1.1-.9-2-2-2zM9 17H7v-7h2v7zm4 0h-2V7h2v10zm4 0h-2v-4h2v4z\"/>\n",
              "    </g>\n",
              "</svg>\n",
              "  </button>\n",
              "\n",
              "<style>\n",
              "  .colab-df-quickchart {\n",
              "      --bg-color: #E8F0FE;\n",
              "      --fill-color: #1967D2;\n",
              "      --hover-bg-color: #E2EBFA;\n",
              "      --hover-fill-color: #174EA6;\n",
              "      --disabled-fill-color: #AAA;\n",
              "      --disabled-bg-color: #DDD;\n",
              "  }\n",
              "\n",
              "  [theme=dark] .colab-df-quickchart {\n",
              "      --bg-color: #3B4455;\n",
              "      --fill-color: #D2E3FC;\n",
              "      --hover-bg-color: #434B5C;\n",
              "      --hover-fill-color: #FFFFFF;\n",
              "      --disabled-bg-color: #3B4455;\n",
              "      --disabled-fill-color: #666;\n",
              "  }\n",
              "\n",
              "  .colab-df-quickchart {\n",
              "    background-color: var(--bg-color);\n",
              "    border: none;\n",
              "    border-radius: 50%;\n",
              "    cursor: pointer;\n",
              "    display: none;\n",
              "    fill: var(--fill-color);\n",
              "    height: 32px;\n",
              "    padding: 0;\n",
              "    width: 32px;\n",
              "  }\n",
              "\n",
              "  .colab-df-quickchart:hover {\n",
              "    background-color: var(--hover-bg-color);\n",
              "    box-shadow: 0 1px 2px rgba(60, 64, 67, 0.3), 0 1px 3px 1px rgba(60, 64, 67, 0.15);\n",
              "    fill: var(--button-hover-fill-color);\n",
              "  }\n",
              "\n",
              "  .colab-df-quickchart-complete:disabled,\n",
              "  .colab-df-quickchart-complete:disabled:hover {\n",
              "    background-color: var(--disabled-bg-color);\n",
              "    fill: var(--disabled-fill-color);\n",
              "    box-shadow: none;\n",
              "  }\n",
              "\n",
              "  .colab-df-spinner {\n",
              "    border: 2px solid var(--fill-color);\n",
              "    border-color: transparent;\n",
              "    border-bottom-color: var(--fill-color);\n",
              "    animation:\n",
              "      spin 1s steps(1) infinite;\n",
              "  }\n",
              "\n",
              "  @keyframes spin {\n",
              "    0% {\n",
              "      border-color: transparent;\n",
              "      border-bottom-color: var(--fill-color);\n",
              "      border-left-color: var(--fill-color);\n",
              "    }\n",
              "    20% {\n",
              "      border-color: transparent;\n",
              "      border-left-color: var(--fill-color);\n",
              "      border-top-color: var(--fill-color);\n",
              "    }\n",
              "    30% {\n",
              "      border-color: transparent;\n",
              "      border-left-color: var(--fill-color);\n",
              "      border-top-color: var(--fill-color);\n",
              "      border-right-color: var(--fill-color);\n",
              "    }\n",
              "    40% {\n",
              "      border-color: transparent;\n",
              "      border-right-color: var(--fill-color);\n",
              "      border-top-color: var(--fill-color);\n",
              "    }\n",
              "    60% {\n",
              "      border-color: transparent;\n",
              "      border-right-color: var(--fill-color);\n",
              "    }\n",
              "    80% {\n",
              "      border-color: transparent;\n",
              "      border-right-color: var(--fill-color);\n",
              "      border-bottom-color: var(--fill-color);\n",
              "    }\n",
              "    90% {\n",
              "      border-color: transparent;\n",
              "      border-bottom-color: var(--fill-color);\n",
              "    }\n",
              "  }\n",
              "</style>\n",
              "\n",
              "  <script>\n",
              "    async function quickchart(key) {\n",
              "      const quickchartButtonEl =\n",
              "        document.querySelector('#' + key + ' button');\n",
              "      quickchartButtonEl.disabled = true;  // To prevent multiple clicks.\n",
              "      quickchartButtonEl.classList.add('colab-df-spinner');\n",
              "      try {\n",
              "        const charts = await google.colab.kernel.invokeFunction(\n",
              "            'suggestCharts', [key], {});\n",
              "      } catch (error) {\n",
              "        console.error('Error during call to suggestCharts:', error);\n",
              "      }\n",
              "      quickchartButtonEl.classList.remove('colab-df-spinner');\n",
              "      quickchartButtonEl.classList.add('colab-df-quickchart-complete');\n",
              "    }\n",
              "    (() => {\n",
              "      let quickchartButtonEl =\n",
              "        document.querySelector('#df-db0240b1-861d-4229-88ff-8b93666e573b button');\n",
              "      quickchartButtonEl.style.display =\n",
              "        google.colab.kernel.accessAllowed ? 'block' : 'none';\n",
              "    })();\n",
              "  </script>\n",
              "</div>\n",
              "    </div>\n",
              "  </div>\n"
            ]
          },
          "metadata": {},
          "execution_count": 218
        }
      ]
    },
    {
      "cell_type": "code",
      "source": [
        "# transformacion de las variables categóricas en valores numéricos\n",
        "label_encoder = LabelEncoder()\n",
        "df2['estadio'] = label_encoder.fit_transform(df2['estadio'])\n",
        "#df2['CREA '] = label_encoder.fit_transform(df2['CREA '])\n",
        "df2['Sexo'] = label_encoder.fit_transform(df2['Sexo'])\n",
        "df2['G_POB'] = label_encoder.fit_transform(df2['G_POB'])\n",
        "df2['ETIO_ERC'] = label_encoder.fit_transform(df2['ETIO_ERC'])\n",
        "#df2['TA'] = label_encoder.fit_transform(df2['TA'])\n",
        "df2['ANTAGONISTA'] = label_encoder.fit_transform(df2['ANTAGONISTA'])\n",
        "#df2['COLES'] = label_encoder.fit_transform(df2['COLES'])\n",
        "#df2['ALB/CREA'] = label_encoder.fit_transform(df2['ALB/CREA'])\n",
        "df2['PROG_ERC'] = label_encoder.fit_transform(df2['PROG_ERC'])"
      ],
      "metadata": {
        "id": "iu_7VFEvmT-P"
      },
      "execution_count": null,
      "outputs": []
    },
    {
      "cell_type": "code",
      "source": [
        "df2.fillna(0, inplace=True)"
      ],
      "metadata": {
        "id": "-y_IWjbpT6mJ"
      },
      "execution_count": null,
      "outputs": []
    },
    {
      "cell_type": "code",
      "source": [
        "df.info()"
      ],
      "metadata": {
        "colab": {
          "base_uri": "https://localhost:8080/"
        },
        "id": "jwYEg6chxFWB",
        "outputId": "89ccec47-462f-447d-af20-839edde9fe1d"
      },
      "execution_count": null,
      "outputs": [
        {
          "output_type": "stream",
          "name": "stdout",
          "text": [
            "<class 'pandas.core.frame.DataFrame'>\n",
            "Int64Index: 3189 entries, 0 to 4926\n",
            "Columns: 115 entries, TIPO_REG to estadio\n",
            "dtypes: float64(75), int64(11), object(29)\n",
            "memory usage: 2.8+ MB\n"
          ]
        }
      ]
    },
    {
      "cell_type": "code",
      "source": [
        "from sklearn.preprocessing import LabelEncoder\n",
        "\n",
        "label_encoder = LabelEncoder()\n",
        "\n",
        "df2['estadio'] = label_encoder.fit_transform(df2['estadio'])\n",
        "\n",
        "data_labels = df2[\"estadio\"]\n",
        "data_features = df2.loc[:, ['EDAD',\n",
        "  'CREA ',\n",
        "  'IMC',\n",
        "  'ETIO_ERC',\n",
        "  'Sexo',\n",
        "  'G_POB',\n",
        "  'COLES',\n",
        "  'TA',\n",
        "  'DX_ERC',\n",
        "  'ALB/CREA',\n",
        "  'TIEMP_SERVI',\n",
        "  'PROG_ERC',\n",
        "  'ANTAGONISTA',\n",
        "  'RECIBIO_TRANS']]\n",
        "\n",
        "df2.head"
      ],
      "metadata": {
        "id": "FgOPOb7R5p47",
        "colab": {
          "base_uri": "https://localhost:8080/"
        },
        "outputId": "1f947785-5d02-42db-ad16-580c4409340b"
      },
      "execution_count": null,
      "outputs": [
        {
          "output_type": "execute_result",
          "data": {
            "text/plain": [
              "<bound method NDFrame.head of                       TIPO_REG    DAT_BARN  EDAD  Sexo AFILIACION COD_EPS  \\\n",
              "0                          HTA  30/08/1949    74     1          P  RES003   \n",
              "1                          HTA  21/09/1935    88     1          P  RES003   \n",
              "2                     HTA-DIAB  20/12/1934    89     1          P  RES003   \n",
              "3                          HTA  13/08/1936    87     1          P  RES003   \n",
              "4                          HTA  20/05/1939    84     1          P  RES003   \n",
              "...                        ...         ...   ...   ...        ...     ...   \n",
              "4745                       HTA  30/11/1968    55     1          P  RES003   \n",
              "4746                       HTA  30/01/1969    54     1          P  RES003   \n",
              "4747  NO HTA/DIAB CON DAÑO REL  18/11/1961    62     1          P  RES003   \n",
              "4748  NO HTA/DIAB CON DAÑO REL  24/07/1963    60     1          P  RES003   \n",
              "4926                      DIAB  11/07/1997    26     1          P  RES003   \n",
              "\n",
              "     COD_ETNICA  G_POB  MUN.        DATE_  ...  COST_TRANS TIEMP_SERVI  \\\n",
              "0       Ninguna      0  50001   2/05/1988  ...         0.0          12   \n",
              "1       Ninguna      0  50001   1/07/1979  ...         0.0          12   \n",
              "2       Ninguna      0  50001   1/05/1990  ...         0.0          10   \n",
              "3       Ninguna      0  50001  16/06/1961  ...         0.0          12   \n",
              "4       Ninguna      0  50001   1/03/1960  ...         0.0           8   \n",
              "...         ...    ...    ...         ...  ...         ...         ...   \n",
              "4745    Ninguna     10  11001   1/04/2012  ...         0.0          12   \n",
              "4746    Ninguna      6  11001  31/08/2011  ...         0.0          12   \n",
              "4747    Ninguna      6  11001   1/11/2018  ...         0.0          12   \n",
              "4748    Ninguna      6  11001   1/07/2024  ...         0.0          12   \n",
              "4926    Ninguna      6  25572  21/12/2016  ...         0.0           6   \n",
              "\n",
              "      COST_TOTAL COD EPS  NOV_REPORAMTE  CAU_MUERTE DAT_MUERTE      CUI  \\\n",
              "0       794113.0     0.0            0.0         0.0          0    57959   \n",
              "1            0.0     0.0            7.0         0.0          0   507499   \n",
              "2      2304515.0     0.0            0.0         0.0          0   175624   \n",
              "3      1336759.0     0.0            0.0         0.0          0   399569   \n",
              "4      1336759.0     0.0            0.0         0.0          0   403006   \n",
              "...          ...     ...            ...         ...        ...      ...   \n",
              "4745    794113.0     0.0            0.0         0.0          0  3634652   \n",
              "4746   1336759.0     0.0            0.0         0.0          0   399824   \n",
              "4747    250000.0     0.0            0.0         0.0          0  2863534   \n",
              "4748    250000.0     0.0            0.0         0.0          0   317487   \n",
              "4926    714078.0     0.0            0.0         0.0          0  3454106   \n",
              "\n",
              "       DAT_CORTE  estadio  \n",
              "0     30/06/2023        1  \n",
              "1     30/06/2023        2  \n",
              "2     30/06/2023        2  \n",
              "3     30/06/2023        2  \n",
              "4     30/06/2023        2  \n",
              "...          ...      ...  \n",
              "4745  30/06/2023        1  \n",
              "4746  30/06/2023        2  \n",
              "4747  30/06/2023        2  \n",
              "4748  30/06/2023        1  \n",
              "4926  30/06/2023        0  \n",
              "\n",
              "[3189 rows x 115 columns]>"
            ]
          },
          "metadata": {},
          "execution_count": 222
        }
      ]
    },
    {
      "cell_type": "code",
      "source": [
        "data_features.info()"
      ],
      "metadata": {
        "id": "f6eDTPRYlxBm",
        "colab": {
          "base_uri": "https://localhost:8080/"
        },
        "outputId": "758a3042-90f2-4ac2-f56e-f423790e6101"
      },
      "execution_count": null,
      "outputs": [
        {
          "output_type": "stream",
          "name": "stdout",
          "text": [
            "<class 'pandas.core.frame.DataFrame'>\n",
            "Int64Index: 3189 entries, 0 to 4926\n",
            "Data columns (total 14 columns):\n",
            " #   Column         Non-Null Count  Dtype  \n",
            "---  ------         --------------  -----  \n",
            " 0   EDAD           3189 non-null   int64  \n",
            " 1   CREA           3189 non-null   float64\n",
            " 2   IMC            3189 non-null   int64  \n",
            " 3   ETIO_ERC       3189 non-null   int64  \n",
            " 4   Sexo           3189 non-null   int64  \n",
            " 5   G_POB          3189 non-null   int64  \n",
            " 6   COLES          3189 non-null   float64\n",
            " 7   TA             3189 non-null   float64\n",
            " 8   DX_ERC         3189 non-null   int64  \n",
            " 9   ALB/CREA       3189 non-null   float64\n",
            " 10  TIEMP_SERVI    3189 non-null   int64  \n",
            " 11  PROG_ERC       3189 non-null   int64  \n",
            " 12  ANTAGONISTA    3189 non-null   int64  \n",
            " 13  RECIBIO_TRANS  3189 non-null   int64  \n",
            "dtypes: float64(4), int64(10)\n",
            "memory usage: 373.7 KB\n"
          ]
        }
      ]
    },
    {
      "cell_type": "code",
      "source": [
        "print('Number of features:', data_features.shape[1])\n",
        "print('Number of examples:', data_features.shape[0])\n",
        "print('Labels:', np.unique(data_labels.values))\n",
        "print('Label distribution:', np.bincount(data_labels))"
      ],
      "metadata": {
        "id": "4JdIFXfI5xM0",
        "colab": {
          "base_uri": "https://localhost:8080/"
        },
        "outputId": "911ffbcb-3254-42a6-a517-591202390bfc"
      },
      "execution_count": null,
      "outputs": [
        {
          "output_type": "stream",
          "name": "stdout",
          "text": [
            "Number of features: 14\n",
            "Number of examples: 3189\n",
            "Labels: [0 1 2 3 4]\n",
            "Label distribution: [ 793 1270  984  122   20]\n"
          ]
        }
      ]
    },
    {
      "cell_type": "code",
      "source": [
        "avg_prediction = np.median(data_labels.values)  # median minimizes MAE\n",
        "baseline_mae = np.mean(np.abs(data_labels.values - avg_prediction))\n",
        "print(f'Baseline MAE: {baseline_mae:.2f}')"
      ],
      "metadata": {
        "colab": {
          "base_uri": "https://localhost:8080/"
        },
        "id": "VTFEVd4k5y_r",
        "outputId": "67484ee2-5d33-49c9-d481-4240eded8abd"
      },
      "execution_count": null,
      "outputs": [
        {
          "output_type": "stream",
          "name": "stdout",
          "text": [
            "Baseline MAE: 0.65\n"
          ]
        }
      ]
    },
    {
      "cell_type": "code",
      "source": [
        "from torch.utils.data import Dataset\n",
        "\n",
        "\n",
        "class MyDataset(Dataset):\n",
        "\n",
        "    def __init__(self, feature_array, label_array, dtype=np.float32):\n",
        "        self.features = feature_array.astype(dtype)\n",
        "        self.labels = label_array\n",
        "\n",
        "    def __getitem__(self, index):\n",
        "        inputs = self.features[index]\n",
        "        label = self.labels[index]\n",
        "        return inputs, label\n",
        "\n",
        "    def __len__(self):\n",
        "        return self.features.shape[0]"
      ],
      "metadata": {
        "id": "YF8ZfCKmyO8h"
      },
      "execution_count": null,
      "outputs": []
    },
    {
      "cell_type": "code",
      "source": [
        "from sklearn.model_selection import train_test_split\n",
        "\n",
        "\n",
        "X_train, X_test, y_train, y_test = train_test_split(\n",
        "    data_features.values,\n",
        "    data_labels.values,\n",
        "    test_size=0.2,\n",
        "    random_state=1,\n",
        "    stratify=data_labels.values)"
      ],
      "metadata": {
        "id": "o7QJE5iByYBd"
      },
      "execution_count": null,
      "outputs": []
    },
    {
      "cell_type": "code",
      "source": [
        "from sklearn.preprocessing import StandardScaler\n",
        "\n",
        "\n",
        "sc = StandardScaler()\n",
        "X_train_std = sc.fit_transform(X_train)\n",
        "X_test_std = sc.transform(X_test)"
      ],
      "metadata": {
        "id": "n_iKtjHKy9PC"
      },
      "execution_count": null,
      "outputs": []
    },
    {
      "cell_type": "code",
      "source": [
        "import torch\n",
        "\n",
        "\n",
        "##########################\n",
        "### SETTINGS\n",
        "##########################\n",
        "\n",
        "# Hyperparameters\n",
        "random_seed = 1\n",
        "learning_rate = 0.001\n",
        "num_epochs = 100\n",
        "batch_size = 128\n",
        "\n",
        "# Architecture\n",
        "NUM_CLASSES = 5\n",
        "\n",
        "from torch.utils.data import Dataset\n",
        "\n",
        "DEVICE = torch.device(\"cuda:0\" if torch.cuda.is_available() else \"cpu\")\n",
        "print('Training on', DEVICE)\n",
        "\n",
        "class MyDataset(Dataset):\n",
        "\n",
        "    def __init__(self, feature_array, label_array, dtype=np.float32):\n",
        "\n",
        "        self.features = feature_array.astype(np.float32)\n",
        "        self.labels = label_array\n",
        "\n",
        "    def __getitem__(self, index):\n",
        "        inputs = self.features[index]\n",
        "        label = self.labels[index]\n",
        "        return inputs, label\n",
        "\n",
        "    def __len__(self):\n",
        "        return self.labels.shape[0]\n",
        "import torch\n",
        "from torch.utils.data import DataLoader\n",
        "\n",
        "\n",
        "# Note transforms.ToTensor() scales input images\n",
        "# to 0-1 range\n",
        "train_dataset = MyDataset(X_train_std, y_train)\n",
        "test_dataset = MyDataset(X_test_std, y_test)\n",
        "\n",
        "\n",
        "train_loader = DataLoader(dataset=train_dataset,\n",
        "                          batch_size=batch_size,\n",
        "                          shuffle=True, # want to shuffle the dataset\n",
        "                          num_workers=0) # number processes/CPUs to use\n",
        "\n",
        "test_loader = DataLoader(dataset=test_dataset,\n",
        "                         batch_size=batch_size,\n",
        "                         shuffle=False,\n",
        "                         num_workers=0)\n",
        "# Checking the dataset\n",
        "for inputs, labels in train_loader:\n",
        "    print('Input batch dimensions:', inputs.shape)\n",
        "    print('Input label dimensions:', labels.shape)\n",
        "    break\n"
      ],
      "metadata": {
        "colab": {
          "base_uri": "https://localhost:8080/"
        },
        "id": "8nBOmYASzHs1",
        "outputId": "7f77e771-aa89-4e74-a0a3-9864888ac605"
      },
      "execution_count": null,
      "outputs": [
        {
          "output_type": "stream",
          "name": "stdout",
          "text": [
            "Training on cpu\n",
            "Input batch dimensions: torch.Size([128, 14])\n",
            "Input label dimensions: torch.Size([128])\n"
          ]
        }
      ]
    },
    {
      "cell_type": "code",
      "source": [
        "class MLP(torch.nn.Module):\n",
        "\n",
        "    def __init__(self, in_features, num_classes, num_hidden_1=300, num_hidden_2=300,num_hidden_3=300):\n",
        "        super().__init__()\n",
        "\n",
        "        self.my_network = torch.nn.Sequential(\n",
        "\n",
        "            # 1st hidden layer\n",
        "            torch.nn.Linear(in_features, num_hidden_1, bias=False),\n",
        "            torch.nn.LeakyReLU(),\n",
        "            torch.nn.Dropout(0.2),\n",
        "            torch.nn.BatchNorm1d(num_hidden_1),\n",
        "\n",
        "            # 2nd hidden layer\n",
        "            torch.nn.Linear(num_hidden_1, num_hidden_2, bias=False),\n",
        "            torch.nn.LeakyReLU(),\n",
        "            torch.nn.Dropout(0.2),\n",
        "            torch.nn.BatchNorm1d(num_hidden_2),\n",
        "\n",
        "                        # 3nd hidden layer\n",
        "            torch.nn.Linear(num_hidden_2, num_hidden_3, bias=False),\n",
        "            torch.nn.LeakyReLU(),\n",
        "            torch.nn.Dropout(0.2),\n",
        "            torch.nn.BatchNorm1d(num_hidden_3),\n",
        "\n",
        "            ### Specify CORN layer\n",
        "            torch.nn.Linear(num_hidden_3, (num_classes))\n",
        "            ###--------------------------------------------------------------------###\n",
        "        )\n",
        "\n",
        "    def forward(self, x):\n",
        "        logits = self.my_network(x)\n",
        "        return logits\n",
        "\n",
        "\n",
        "\n",
        "torch.manual_seed(random_seed)\n",
        "model = MLP(in_features=14, num_classes=NUM_CLASSES)\n",
        "model.to(DEVICE)\n",
        "\n",
        "optimizer = torch.optim.Adam(model.parameters(), lr=learning_rate)"
      ],
      "metadata": {
        "id": "rgLAtNwtzOPW"
      },
      "execution_count": null,
      "outputs": []
    },
    {
      "cell_type": "code",
      "source": [
        "pip install coral_pytorch"
      ],
      "metadata": {
        "colab": {
          "base_uri": "https://localhost:8080/"
        },
        "id": "avrJSBVKzXhl",
        "outputId": "c59b1fd1-685e-470d-ccd0-413021e0a97d"
      },
      "execution_count": null,
      "outputs": [
        {
          "output_type": "stream",
          "name": "stdout",
          "text": [
            "Requirement already satisfied: coral_pytorch in /usr/local/lib/python3.10/dist-packages (1.4.0)\n",
            "Requirement already satisfied: setuptools in /usr/local/lib/python3.10/dist-packages (from coral_pytorch) (67.7.2)\n"
          ]
        }
      ]
    },
    {
      "cell_type": "code",
      "source": [
        "import coral_pytorch"
      ],
      "metadata": {
        "id": "a_KPRrUhzUlg"
      },
      "execution_count": null,
      "outputs": []
    },
    {
      "cell_type": "code",
      "source": [
        "from coral_pytorch.losses import corn_loss\n",
        "\n",
        "\n",
        "for epoch in range(num_epochs):\n",
        "\n",
        "    model = model.train()\n",
        "    for batch_idx, (features, class_labels) in enumerate(train_loader):\n",
        "\n",
        "        class_labels = class_labels.to(DEVICE)\n",
        "        features = features.to(DEVICE)\n",
        "        logits = model(features)\n",
        "\n",
        "        #### CORN loss\n",
        "        loss = corn_loss(logits, class_labels, NUM_CLASSES)\n",
        "        ###--------------------------------------------------------------------###\n",
        "\n",
        "        optimizer.zero_grad()\n",
        "        loss.backward()\n",
        "        optimizer.step()\n",
        "\n",
        "        ### LOGGING\n",
        "        if not batch_idx % 200:\n",
        "            print ('Epoch: %03d/%03d | Batch %03d/%03d | Cost: %.4f'\n",
        "                   %(epoch+1, num_epochs, batch_idx,\n",
        "                     len(train_loader), loss))"
      ],
      "metadata": {
        "colab": {
          "base_uri": "https://localhost:8080/"
        },
        "id": "981iVTiWzkEL",
        "outputId": "e8ffa567-26ba-4ebb-f3e1-38a2163330cb"
      },
      "execution_count": null,
      "outputs": [
        {
          "output_type": "stream",
          "name": "stdout",
          "text": [
            "Epoch: 001/100 | Batch 000/020 | Cost: 0.7095\n",
            "Epoch: 002/100 | Batch 000/020 | Cost: 0.4382\n",
            "Epoch: 003/100 | Batch 000/020 | Cost: 0.3910\n",
            "Epoch: 004/100 | Batch 000/020 | Cost: 0.3337\n",
            "Epoch: 005/100 | Batch 000/020 | Cost: 0.2874\n",
            "Epoch: 006/100 | Batch 000/020 | Cost: 0.3196\n",
            "Epoch: 007/100 | Batch 000/020 | Cost: 0.2692\n",
            "Epoch: 008/100 | Batch 000/020 | Cost: 0.2316\n",
            "Epoch: 009/100 | Batch 000/020 | Cost: 0.2480\n",
            "Epoch: 010/100 | Batch 000/020 | Cost: 0.1898\n",
            "Epoch: 011/100 | Batch 000/020 | Cost: 0.2563\n",
            "Epoch: 012/100 | Batch 000/020 | Cost: 0.2637\n",
            "Epoch: 013/100 | Batch 000/020 | Cost: 0.1934\n",
            "Epoch: 014/100 | Batch 000/020 | Cost: 0.1935\n",
            "Epoch: 015/100 | Batch 000/020 | Cost: 0.2347\n",
            "Epoch: 016/100 | Batch 000/020 | Cost: 0.2093\n",
            "Epoch: 017/100 | Batch 000/020 | Cost: 0.2026\n",
            "Epoch: 018/100 | Batch 000/020 | Cost: 0.2306\n",
            "Epoch: 019/100 | Batch 000/020 | Cost: 0.1813\n",
            "Epoch: 020/100 | Batch 000/020 | Cost: 0.1705\n",
            "Epoch: 021/100 | Batch 000/020 | Cost: 0.2111\n",
            "Epoch: 022/100 | Batch 000/020 | Cost: 0.1723\n",
            "Epoch: 023/100 | Batch 000/020 | Cost: 0.1484\n",
            "Epoch: 024/100 | Batch 000/020 | Cost: 0.1909\n",
            "Epoch: 025/100 | Batch 000/020 | Cost: 0.1811\n",
            "Epoch: 026/100 | Batch 000/020 | Cost: 0.1396\n",
            "Epoch: 027/100 | Batch 000/020 | Cost: 0.1924\n",
            "Epoch: 028/100 | Batch 000/020 | Cost: 0.1419\n",
            "Epoch: 029/100 | Batch 000/020 | Cost: 0.1650\n",
            "Epoch: 030/100 | Batch 000/020 | Cost: 0.1965\n",
            "Epoch: 031/100 | Batch 000/020 | Cost: 0.2069\n",
            "Epoch: 032/100 | Batch 000/020 | Cost: 0.1574\n",
            "Epoch: 033/100 | Batch 000/020 | Cost: 0.1240\n",
            "Epoch: 034/100 | Batch 000/020 | Cost: 0.2096\n",
            "Epoch: 035/100 | Batch 000/020 | Cost: 0.1323\n",
            "Epoch: 036/100 | Batch 000/020 | Cost: 0.1535\n",
            "Epoch: 037/100 | Batch 000/020 | Cost: 0.0910\n",
            "Epoch: 038/100 | Batch 000/020 | Cost: 0.1515\n",
            "Epoch: 039/100 | Batch 000/020 | Cost: 0.2131\n",
            "Epoch: 040/100 | Batch 000/020 | Cost: 0.1287\n",
            "Epoch: 041/100 | Batch 000/020 | Cost: 0.1567\n",
            "Epoch: 042/100 | Batch 000/020 | Cost: 0.1205\n",
            "Epoch: 043/100 | Batch 000/020 | Cost: 0.1492\n",
            "Epoch: 044/100 | Batch 000/020 | Cost: 0.1830\n",
            "Epoch: 045/100 | Batch 000/020 | Cost: 0.1235\n",
            "Epoch: 046/100 | Batch 000/020 | Cost: 0.1506\n",
            "Epoch: 047/100 | Batch 000/020 | Cost: 0.1598\n",
            "Epoch: 048/100 | Batch 000/020 | Cost: 0.1679\n",
            "Epoch: 049/100 | Batch 000/020 | Cost: 0.1369\n",
            "Epoch: 050/100 | Batch 000/020 | Cost: 0.2047\n",
            "Epoch: 051/100 | Batch 000/020 | Cost: 0.2386\n",
            "Epoch: 052/100 | Batch 000/020 | Cost: 0.1778\n",
            "Epoch: 053/100 | Batch 000/020 | Cost: 0.1897\n",
            "Epoch: 054/100 | Batch 000/020 | Cost: 0.1586\n",
            "Epoch: 055/100 | Batch 000/020 | Cost: 0.1195\n",
            "Epoch: 056/100 | Batch 000/020 | Cost: 0.1371\n",
            "Epoch: 057/100 | Batch 000/020 | Cost: 0.1067\n",
            "Epoch: 058/100 | Batch 000/020 | Cost: 0.1217\n",
            "Epoch: 059/100 | Batch 000/020 | Cost: 0.1290\n",
            "Epoch: 060/100 | Batch 000/020 | Cost: 0.1199\n",
            "Epoch: 061/100 | Batch 000/020 | Cost: 0.1228\n",
            "Epoch: 062/100 | Batch 000/020 | Cost: 0.1268\n",
            "Epoch: 063/100 | Batch 000/020 | Cost: 0.1272\n",
            "Epoch: 064/100 | Batch 000/020 | Cost: 0.1118\n",
            "Epoch: 065/100 | Batch 000/020 | Cost: 0.1487\n",
            "Epoch: 066/100 | Batch 000/020 | Cost: 0.1110\n",
            "Epoch: 067/100 | Batch 000/020 | Cost: 0.1448\n",
            "Epoch: 068/100 | Batch 000/020 | Cost: 0.1096\n",
            "Epoch: 069/100 | Batch 000/020 | Cost: 0.0936\n",
            "Epoch: 070/100 | Batch 000/020 | Cost: 0.1035\n",
            "Epoch: 071/100 | Batch 000/020 | Cost: 0.1408\n",
            "Epoch: 072/100 | Batch 000/020 | Cost: 0.1089\n",
            "Epoch: 073/100 | Batch 000/020 | Cost: 0.1878\n",
            "Epoch: 074/100 | Batch 000/020 | Cost: 0.0892\n",
            "Epoch: 075/100 | Batch 000/020 | Cost: 0.0958\n",
            "Epoch: 076/100 | Batch 000/020 | Cost: 0.1058\n",
            "Epoch: 077/100 | Batch 000/020 | Cost: 0.1202\n",
            "Epoch: 078/100 | Batch 000/020 | Cost: 0.1650\n",
            "Epoch: 079/100 | Batch 000/020 | Cost: 0.1637\n",
            "Epoch: 080/100 | Batch 000/020 | Cost: 0.1125\n",
            "Epoch: 081/100 | Batch 000/020 | Cost: 0.1172\n",
            "Epoch: 082/100 | Batch 000/020 | Cost: 0.1819\n",
            "Epoch: 083/100 | Batch 000/020 | Cost: 0.1365\n",
            "Epoch: 084/100 | Batch 000/020 | Cost: 0.1303\n",
            "Epoch: 085/100 | Batch 000/020 | Cost: 0.1335\n",
            "Epoch: 086/100 | Batch 000/020 | Cost: 0.1092\n",
            "Epoch: 087/100 | Batch 000/020 | Cost: 0.0776\n",
            "Epoch: 088/100 | Batch 000/020 | Cost: 0.1119\n",
            "Epoch: 089/100 | Batch 000/020 | Cost: 0.1003\n",
            "Epoch: 090/100 | Batch 000/020 | Cost: 0.0662\n",
            "Epoch: 091/100 | Batch 000/020 | Cost: 0.1319\n",
            "Epoch: 092/100 | Batch 000/020 | Cost: 0.0831\n",
            "Epoch: 093/100 | Batch 000/020 | Cost: 0.1393\n",
            "Epoch: 094/100 | Batch 000/020 | Cost: 0.0806\n",
            "Epoch: 095/100 | Batch 000/020 | Cost: 0.0956\n",
            "Epoch: 096/100 | Batch 000/020 | Cost: 0.0729\n",
            "Epoch: 097/100 | Batch 000/020 | Cost: 0.1088\n",
            "Epoch: 098/100 | Batch 000/020 | Cost: 0.1176\n",
            "Epoch: 099/100 | Batch 000/020 | Cost: 0.0953\n",
            "Epoch: 100/100 | Batch 000/020 | Cost: 0.0919\n"
          ]
        }
      ]
    },
    {
      "cell_type": "code",
      "source": [
        "from coral_pytorch.dataset import corn_label_from_logits\n",
        "\n",
        "\n",
        "def compute_mae_and_mse(model, data_loader, device):\n",
        "\n",
        "    with torch.no_grad():\n",
        "\n",
        "        mae, mse, acc, num_examples = 0., 0., 0., 0\n",
        "\n",
        "        for i, (features, targets) in enumerate(data_loader):\n",
        "\n",
        "            features = features.to(device)\n",
        "            targets = targets.float().to(device)\n",
        "\n",
        "            logits = model(features)\n",
        "            predicted_labels = corn_label_from_logits(logits).float()\n",
        "\n",
        "            num_examples += targets.size(0)\n",
        "            mae += torch.sum(torch.abs(predicted_labels - targets))\n",
        "            mse += torch.sum((predicted_labels - targets)**2)\n",
        "\n",
        "        mae = mae / num_examples\n",
        "        mse = mse / num_examples\n",
        "        return mae, mse\n",
        "train_mae, train_mse = compute_mae_and_mse(model, train_loader, DEVICE)\n",
        "test_mae, test_mse = compute_mae_and_mse(model, test_loader, DEVICE)\n",
        "print(f'Mean absolute error (train/test): {train_mae:.2f} | {test_mae:.2f}')\n",
        "print(f'Mean squared error (train/test): {train_mse:.2f} | {test_mse:.2f}')"
      ],
      "metadata": {
        "id": "nQZYHrUb1a6E",
        "colab": {
          "base_uri": "https://localhost:8080/"
        },
        "outputId": "8f40953a-82c0-4c03-d1a3-692b1e5dcc4d"
      },
      "execution_count": null,
      "outputs": [
        {
          "output_type": "stream",
          "name": "stdout",
          "text": [
            "Mean absolute error (train/test): 0.09 | 0.26\n",
            "Mean squared error (train/test): 0.09 | 0.29\n"
          ]
        }
      ]
    },
    {
      "cell_type": "code",
      "source": [
        "def compute_accuracy(model, data_loader, device):\n",
        "\n",
        "    with torch.no_grad():\n",
        "\n",
        "        acc, num_examples = 0., 0\n",
        "\n",
        "        for i, (features, targets) in enumerate(data_loader):\n",
        "\n",
        "            features = features.to(device)\n",
        "            targets = targets.float().to(device)\n",
        "\n",
        "            logits = model(features)\n",
        "            predicted_labels = corn_label_from_logits(logits).float()\n",
        "\n",
        "            num_examples += targets.size(0)\n",
        "            acc += torch.sum(predicted_labels == targets)\n",
        "\n",
        "        acc = acc / num_examples\n",
        "\n",
        "        return acc\n"
      ],
      "metadata": {
        "id": "Yf76mVNT1lbk"
      },
      "execution_count": null,
      "outputs": []
    },
    {
      "cell_type": "code",
      "source": [
        "train_acc = compute_accuracy(model, train_loader, DEVICE)\n",
        "test_acc = compute_accuracy(model, test_loader, DEVICE)\n"
      ],
      "metadata": {
        "id": "xvvQxbsE1rVn"
      },
      "execution_count": null,
      "outputs": []
    },
    {
      "cell_type": "code",
      "source": [
        "print(f'Accuracy (train/test): {train_acc:.2f} | {test_acc:.2f}')\n"
      ],
      "metadata": {
        "id": "1sen1gsl1wXX",
        "colab": {
          "base_uri": "https://localhost:8080/"
        },
        "outputId": "82d2c4d8-a469-4b54-c84c-6ec15eaac2f4"
      },
      "execution_count": null,
      "outputs": [
        {
          "output_type": "stream",
          "name": "stdout",
          "text": [
            "Accuracy (train/test): 0.91 | 0.75\n"
          ]
        }
      ]
    },
    {
      "cell_type": "code",
      "source": [],
      "metadata": {
        "id": "1EyMuANI7kWh"
      },
      "execution_count": null,
      "outputs": []
    },
    {
      "cell_type": "code",
      "source": [
        "from sklearn.metrics import classification_report, confusion_matrix\n",
        "import numpy as np\n",
        "import torch\n",
        "import seaborn as sns\n",
        "import matplotlib.pyplot as plt\n",
        "\n",
        "def compute_metrics(model, data_loader, device):\n",
        "    with torch.no_grad():\n",
        "        all_targets = []\n",
        "        all_predictions = []\n",
        "\n",
        "        for i, (features, targets) in enumerate(data_loader):\n",
        "            features = features.to(device)\n",
        "            targets = targets.float().to(device)\n",
        "\n",
        "            logits = model(features)\n",
        "            predicted_labels = corn_label_from_logits(logits).float()\n",
        "\n",
        "            all_targets.extend(targets.cpu().numpy())\n",
        "            all_predictions.extend(predicted_labels.cpu().numpy())\n",
        "\n",
        "        # Convertir las listas en arrays de NumPy\n",
        "        all_targets = np.array(all_targets)\n",
        "        all_predictions = np.array(all_predictions)\n",
        "\n",
        "        # Filtrar las instancias correspondientes a 'Estadio 5'\n",
        "        mask = all_targets != 5  # 4 corresponds to 'Estadio 5'\n",
        "        filtered_targets = all_targets[mask]\n",
        "        filtered_predictions = all_predictions[mask]\n",
        "\n",
        "        # Definir los nombres de las clases excluyendo 'Estadio 5'\n",
        "        class_names = ['Estadio 1', 'Estadio 2', 'Estadio 3', 'Estadio 4','Estadio 5']\n",
        "\n",
        "        # Calcular el reporte de clasificación con los nombres de las clases\n",
        "        report = classification_report(filtered_targets, filtered_predictions, target_names=class_names, labels=[0, 1, 2, 3, 4])\n",
        "\n",
        "        # Imprimir el reporte de métricas\n",
        "        print(\"Reporte de Métricas en el Conjunto de Prueba:\")\n",
        "        print(report)\n",
        "\n",
        "        # Calcular y mostrar la matriz de confusión\n",
        "        cm = confusion_matrix(filtered_targets, filtered_predictions, labels=[0, 1, 2, 3, 4])\n",
        "        plt.figure(figsize=(8, 6))\n",
        "        sns.heatmap(cm, annot=True, fmt=\"d\", cmap=\"Blues\", xticklabels=class_names, yticklabels=class_names)\n",
        "        plt.title(\"Matriz de Confusión\")\n",
        "        plt.xlabel(\"Predicted\")\n",
        "        plt.ylabel(\"True\")\n",
        "        plt.show()\n",
        "\n",
        "# Obtener el reporte de métricas en el conjunto de prueba y mostrar la matriz de confusión\n",
        "compute_metrics(model, test_loader, DEVICE)\n",
        "\n",
        "\n",
        "\n",
        "import numpy as np\n",
        "# Suponiendo que 'y_true' son los valores reales y 'y_pred' son las predicciones del modelo en el conjunto de validación\n",
        "residuals = y_test - y_pred\n",
        "variance = np.mean(residuals**2)\n",
        "print(\"variance del Modelo:\", variance)\n",
        "\n",
        "\n",
        "bias = np.mean(y_pred - y_test)\n",
        "print(\"sesgo del Modelo:\", bias)\n"
      ],
      "metadata": {
        "colab": {
          "base_uri": "https://localhost:8080/",
          "height": 244
        },
        "id": "JCcJwaeVnSBL",
        "outputId": "d06022c2-e9c0-4023-ac48-f9f38b2d4a5f"
      },
      "execution_count": null,
      "outputs": [
        {
          "output_type": "error",
          "ename": "ValueError",
          "evalue": "ignored",
          "traceback": [
            "\u001b[0;31m---------------------------------------------------------------------------\u001b[0m",
            "\u001b[0;31mValueError\u001b[0m                                Traceback (most recent call last)",
            "\u001b[0;32m<ipython-input-214-61b4fc821ca4>\u001b[0m in \u001b[0;36m<cell line: 54>\u001b[0;34m()\u001b[0m\n\u001b[1;32m     52\u001b[0m \u001b[0;32mimport\u001b[0m \u001b[0mnumpy\u001b[0m \u001b[0;32mas\u001b[0m \u001b[0mnp\u001b[0m\u001b[0;34m\u001b[0m\u001b[0;34m\u001b[0m\u001b[0m\n\u001b[1;32m     53\u001b[0m \u001b[0;31m# Suponiendo que 'y_true' son los valores reales y 'y_pred' son las predicciones del modelo en el conjunto de validación\u001b[0m\u001b[0;34m\u001b[0m\u001b[0;34m\u001b[0m\u001b[0m\n\u001b[0;32m---> 54\u001b[0;31m \u001b[0mresiduals\u001b[0m \u001b[0;34m=\u001b[0m \u001b[0my_test\u001b[0m \u001b[0;34m-\u001b[0m \u001b[0my_pred\u001b[0m\u001b[0;34m\u001b[0m\u001b[0;34m\u001b[0m\u001b[0m\n\u001b[0m\u001b[1;32m     55\u001b[0m \u001b[0mvariance\u001b[0m \u001b[0;34m=\u001b[0m \u001b[0mnp\u001b[0m\u001b[0;34m.\u001b[0m\u001b[0mmean\u001b[0m\u001b[0;34m(\u001b[0m\u001b[0mresiduals\u001b[0m\u001b[0;34m**\u001b[0m\u001b[0;36m2\u001b[0m\u001b[0;34m)\u001b[0m\u001b[0;34m\u001b[0m\u001b[0;34m\u001b[0m\u001b[0m\n\u001b[1;32m     56\u001b[0m \u001b[0mprint\u001b[0m\u001b[0;34m(\u001b[0m\u001b[0;34m\"variance del Modelo:\"\u001b[0m\u001b[0;34m,\u001b[0m \u001b[0mvariance\u001b[0m\u001b[0;34m)\u001b[0m\u001b[0;34m\u001b[0m\u001b[0;34m\u001b[0m\u001b[0m\n",
            "\u001b[0;31mValueError\u001b[0m: operands could not be broadcast together with shapes (638,) (957,) "
          ]
        }
      ]
    },
    {
      "cell_type": "markdown",
      "source": [
        "**Redes Neuronales Feedforward**"
      ],
      "metadata": {
        "id": "XuKSCUJpL86a"
      }
    },
    {
      "cell_type": "code",
      "source": [
        "import tensorflow as tf\n",
        "from tensorflow.keras.models import Sequential\n",
        "from tensorflow.keras.layers import Dense\n",
        "from tensorflow.keras.layers import Dense, Dropout\n",
        "\n",
        "from sklearn.preprocessing import LabelEncoder\n",
        "\n",
        "model = Sequential()\n",
        "model.add(Dense(units=128, activation='relu', input_dim=X_train.shape[1]))\n",
        "model.add(Dense(units=64, activation='relu'))\n",
        "model.add(Dense(units=32, activation='relu'))\n",
        "model.add(Dropout(0.3))\n",
        "model.add(Dense(units=5, activation='softmax'))\n",
        "\n",
        "# Compile the model\n",
        "model.compile(loss='sparse_categorical_crossentropy',\n",
        "              optimizer='adam',\n",
        "              metrics=['accuracy'])\n",
        "\n",
        "# Train the model\n",
        "model.fit(X_train, y_train, epochs=50, batch_size=32)  # You can adjust the number of epochs and batch size as needed\n"
      ],
      "metadata": {
        "id": "L7NFfPmOMSR5",
        "colab": {
          "base_uri": "https://localhost:8080/"
        },
        "outputId": "f6cf2a30-5746-423d-9434-7c84081f3c99"
      },
      "execution_count": null,
      "outputs": [
        {
          "output_type": "stream",
          "name": "stdout",
          "text": [
            "Epoch 1/50\n",
            "70/70 [==============================] - 3s 6ms/step - loss: 2.5776 - accuracy: 0.3490\n",
            "Epoch 2/50\n",
            "70/70 [==============================] - 0s 7ms/step - loss: 1.3717 - accuracy: 0.3934\n",
            "Epoch 3/50\n",
            "70/70 [==============================] - 0s 6ms/step - loss: 1.2682 - accuracy: 0.4225\n",
            "Epoch 4/50\n",
            "70/70 [==============================] - 0s 5ms/step - loss: 1.1792 - accuracy: 0.4525\n",
            "Epoch 5/50\n",
            "70/70 [==============================] - 0s 5ms/step - loss: 1.1882 - accuracy: 0.4830\n",
            "Epoch 6/50\n",
            "70/70 [==============================] - 0s 4ms/step - loss: 1.1087 - accuracy: 0.5112\n",
            "Epoch 7/50\n",
            "70/70 [==============================] - 1s 9ms/step - loss: 1.0848 - accuracy: 0.4978\n",
            "Epoch 8/50\n",
            "70/70 [==============================] - 1s 8ms/step - loss: 1.0629 - accuracy: 0.5206\n",
            "Epoch 9/50\n",
            "70/70 [==============================] - 0s 4ms/step - loss: 1.0220 - accuracy: 0.5314\n",
            "Epoch 10/50\n",
            "70/70 [==============================] - 0s 2ms/step - loss: 1.0182 - accuracy: 0.5466\n",
            "Epoch 11/50\n",
            "70/70 [==============================] - 0s 2ms/step - loss: 1.0176 - accuracy: 0.5663\n",
            "Epoch 12/50\n",
            "70/70 [==============================] - 0s 2ms/step - loss: 1.0178 - accuracy: 0.5520\n",
            "Epoch 13/50\n",
            "70/70 [==============================] - 0s 2ms/step - loss: 1.0062 - accuracy: 0.5753\n",
            "Epoch 14/50\n",
            "70/70 [==============================] - 0s 2ms/step - loss: 0.9987 - accuracy: 0.5547\n",
            "Epoch 15/50\n",
            "70/70 [==============================] - 0s 2ms/step - loss: 0.9942 - accuracy: 0.5685\n",
            "Epoch 16/50\n",
            "70/70 [==============================] - 0s 2ms/step - loss: 0.9884 - accuracy: 0.5645\n",
            "Epoch 17/50\n",
            "70/70 [==============================] - 0s 3ms/step - loss: 0.9632 - accuracy: 0.5878\n",
            "Epoch 18/50\n",
            "70/70 [==============================] - 0s 2ms/step - loss: 0.9935 - accuracy: 0.5677\n",
            "Epoch 19/50\n",
            "70/70 [==============================] - 0s 2ms/step - loss: 0.9598 - accuracy: 0.5784\n",
            "Epoch 20/50\n",
            "70/70 [==============================] - 0s 2ms/step - loss: 0.9657 - accuracy: 0.5896\n",
            "Epoch 21/50\n",
            "70/70 [==============================] - 0s 2ms/step - loss: 0.9838 - accuracy: 0.5712\n",
            "Epoch 22/50\n",
            "70/70 [==============================] - 0s 2ms/step - loss: 0.9676 - accuracy: 0.5753\n",
            "Epoch 23/50\n",
            "70/70 [==============================] - 0s 3ms/step - loss: 0.9518 - accuracy: 0.5977\n",
            "Epoch 24/50\n",
            "70/70 [==============================] - 0s 2ms/step - loss: 0.9542 - accuracy: 0.6035\n",
            "Epoch 25/50\n",
            "70/70 [==============================] - 0s 2ms/step - loss: 0.9573 - accuracy: 0.5968\n",
            "Epoch 26/50\n",
            "70/70 [==============================] - 0s 2ms/step - loss: 0.9528 - accuracy: 0.5829\n",
            "Epoch 27/50\n",
            "70/70 [==============================] - 0s 2ms/step - loss: 0.9465 - accuracy: 0.5936\n",
            "Epoch 28/50\n",
            "70/70 [==============================] - 0s 2ms/step - loss: 0.9280 - accuracy: 0.5990\n",
            "Epoch 29/50\n",
            "70/70 [==============================] - 0s 3ms/step - loss: 0.9466 - accuracy: 0.5945\n",
            "Epoch 30/50\n",
            "70/70 [==============================] - 0s 2ms/step - loss: 0.9272 - accuracy: 0.6084\n",
            "Epoch 31/50\n",
            "70/70 [==============================] - 0s 2ms/step - loss: 0.9188 - accuracy: 0.6030\n",
            "Epoch 32/50\n",
            "70/70 [==============================] - 0s 2ms/step - loss: 0.9224 - accuracy: 0.6084\n",
            "Epoch 33/50\n",
            "70/70 [==============================] - 0s 2ms/step - loss: 0.9446 - accuracy: 0.5833\n",
            "Epoch 34/50\n",
            "70/70 [==============================] - 0s 2ms/step - loss: 0.9364 - accuracy: 0.6022\n",
            "Epoch 35/50\n",
            "70/70 [==============================] - 0s 2ms/step - loss: 0.9523 - accuracy: 0.6102\n",
            "Epoch 36/50\n",
            "70/70 [==============================] - 0s 3ms/step - loss: 0.9194 - accuracy: 0.6008\n",
            "Epoch 37/50\n",
            "70/70 [==============================] - 0s 4ms/step - loss: 0.9010 - accuracy: 0.6080\n",
            "Epoch 38/50\n",
            "70/70 [==============================] - 0s 4ms/step - loss: 0.9272 - accuracy: 0.6039\n",
            "Epoch 39/50\n",
            "70/70 [==============================] - 0s 4ms/step - loss: 0.8953 - accuracy: 0.6169\n",
            "Epoch 40/50\n",
            "70/70 [==============================] - 0s 4ms/step - loss: 0.8998 - accuracy: 0.6147\n",
            "Epoch 41/50\n",
            "70/70 [==============================] - 0s 3ms/step - loss: 0.8851 - accuracy: 0.6326\n",
            "Epoch 42/50\n",
            "70/70 [==============================] - 0s 3ms/step - loss: 0.8726 - accuracy: 0.6187\n",
            "Epoch 43/50\n",
            "70/70 [==============================] - 0s 3ms/step - loss: 0.8845 - accuracy: 0.6174\n",
            "Epoch 44/50\n",
            "70/70 [==============================] - 0s 3ms/step - loss: 0.8903 - accuracy: 0.6205\n",
            "Epoch 45/50\n",
            "70/70 [==============================] - 0s 3ms/step - loss: 0.8589 - accuracy: 0.6295\n",
            "Epoch 46/50\n",
            "70/70 [==============================] - 0s 3ms/step - loss: 0.8604 - accuracy: 0.6402\n",
            "Epoch 47/50\n",
            "70/70 [==============================] - 0s 3ms/step - loss: 0.8451 - accuracy: 0.6192\n",
            "Epoch 48/50\n",
            "70/70 [==============================] - 0s 3ms/step - loss: 0.8719 - accuracy: 0.6366\n",
            "Epoch 49/50\n",
            "70/70 [==============================] - 0s 4ms/step - loss: 0.8559 - accuracy: 0.6429\n",
            "Epoch 50/50\n",
            "70/70 [==============================] - 0s 3ms/step - loss: 0.8417 - accuracy: 0.6456\n"
          ]
        },
        {
          "output_type": "execute_result",
          "data": {
            "text/plain": [
              "<keras.src.callbacks.History at 0x7c636fd037c0>"
            ]
          },
          "metadata": {},
          "execution_count": 182
        }
      ]
    },
    {
      "cell_type": "code",
      "source": [
        "history = model.fit(X, y, epochs=50, verbose=1)\n",
        "\n",
        "# Evaluar el modelo\n",
        "loss, accuracy = model.evaluate(X, y)\n",
        "print(f'Pérdida: {loss:.4f}')\n",
        "print(f'Precisión: {accuracy*100:.2f}%')\n",
        "\n",
        "# Visualizar la pérdida durante el entrenamiento\n",
        "plt.plot(history.history['loss'])\n",
        "plt.title('Pérdida durante el entrenamiento')\n",
        "plt.xlabel('Época')\n",
        "plt.ylabel('Pérdida')\n",
        "plt.show()"
      ],
      "metadata": {
        "id": "jAtQZ7bmP3v4",
        "colab": {
          "base_uri": "https://localhost:8080/",
          "height": 1000
        },
        "outputId": "68081f7e-9dd2-4563-fe84-03d6e56afe7b"
      },
      "execution_count": null,
      "outputs": [
        {
          "output_type": "stream",
          "name": "stdout",
          "text": [
            "Epoch 1/50\n",
            "100/100 [==============================] - 0s 2ms/step - loss: 0.8761 - accuracy: 0.6287\n",
            "Epoch 2/50\n",
            "100/100 [==============================] - 0s 2ms/step - loss: 0.8408 - accuracy: 0.6482\n",
            "Epoch 3/50\n",
            "100/100 [==============================] - 0s 2ms/step - loss: 0.8279 - accuracy: 0.6557\n",
            "Epoch 4/50\n",
            "100/100 [==============================] - 0s 2ms/step - loss: 0.8241 - accuracy: 0.6466\n",
            "Epoch 5/50\n",
            "100/100 [==============================] - 0s 3ms/step - loss: 0.8406 - accuracy: 0.6419\n",
            "Epoch 6/50\n",
            "100/100 [==============================] - 0s 2ms/step - loss: 0.8073 - accuracy: 0.6485\n",
            "Epoch 7/50\n",
            "100/100 [==============================] - 0s 2ms/step - loss: 0.8130 - accuracy: 0.6548\n",
            "Epoch 8/50\n",
            "100/100 [==============================] - 0s 4ms/step - loss: 0.8170 - accuracy: 0.6541\n",
            "Epoch 9/50\n",
            "100/100 [==============================] - 0s 4ms/step - loss: 0.8077 - accuracy: 0.6626\n",
            "Epoch 10/50\n",
            "100/100 [==============================] - 0s 3ms/step - loss: 0.8199 - accuracy: 0.6488\n",
            "Epoch 11/50\n",
            "100/100 [==============================] - 0s 3ms/step - loss: 0.8045 - accuracy: 0.6576\n",
            "Epoch 12/50\n",
            "100/100 [==============================] - 0s 4ms/step - loss: 0.7925 - accuracy: 0.6654\n",
            "Epoch 13/50\n",
            "100/100 [==============================] - 0s 4ms/step - loss: 0.7925 - accuracy: 0.6598\n",
            "Epoch 14/50\n",
            "100/100 [==============================] - 0s 3ms/step - loss: 0.7966 - accuracy: 0.6689\n",
            "Epoch 15/50\n",
            "100/100 [==============================] - 0s 3ms/step - loss: 0.7727 - accuracy: 0.6786\n",
            "Epoch 16/50\n",
            "100/100 [==============================] - 0s 3ms/step - loss: 0.7676 - accuracy: 0.6748\n",
            "Epoch 17/50\n",
            "100/100 [==============================] - 0s 3ms/step - loss: 0.7891 - accuracy: 0.6720\n",
            "Epoch 18/50\n",
            "100/100 [==============================] - 0s 3ms/step - loss: 0.7624 - accuracy: 0.6773\n",
            "Epoch 19/50\n",
            "100/100 [==============================] - 0s 3ms/step - loss: 0.7857 - accuracy: 0.6685\n",
            "Epoch 20/50\n",
            "100/100 [==============================] - 0s 2ms/step - loss: 0.7525 - accuracy: 0.6908\n",
            "Epoch 21/50\n",
            "100/100 [==============================] - 0s 2ms/step - loss: 0.7620 - accuracy: 0.6745\n",
            "Epoch 22/50\n",
            "100/100 [==============================] - 0s 2ms/step - loss: 0.7756 - accuracy: 0.6682\n",
            "Epoch 23/50\n",
            "100/100 [==============================] - 0s 2ms/step - loss: 0.7372 - accuracy: 0.6924\n",
            "Epoch 24/50\n",
            "100/100 [==============================] - 0s 2ms/step - loss: 0.7735 - accuracy: 0.6745\n",
            "Epoch 25/50\n",
            "100/100 [==============================] - 0s 2ms/step - loss: 0.7344 - accuracy: 0.7005\n",
            "Epoch 26/50\n",
            "100/100 [==============================] - 0s 2ms/step - loss: 0.7416 - accuracy: 0.6955\n",
            "Epoch 27/50\n",
            "100/100 [==============================] - 0s 2ms/step - loss: 0.7347 - accuracy: 0.6939\n",
            "Epoch 28/50\n",
            "100/100 [==============================] - 0s 2ms/step - loss: 0.7474 - accuracy: 0.6946\n",
            "Epoch 29/50\n",
            "100/100 [==============================] - 0s 2ms/step - loss: 0.7199 - accuracy: 0.7008\n",
            "Epoch 30/50\n",
            "100/100 [==============================] - 0s 2ms/step - loss: 0.7090 - accuracy: 0.7096\n",
            "Epoch 31/50\n",
            "100/100 [==============================] - 0s 2ms/step - loss: 0.7218 - accuracy: 0.6999\n",
            "Epoch 32/50\n",
            "100/100 [==============================] - 0s 2ms/step - loss: 0.7174 - accuracy: 0.7118\n",
            "Epoch 33/50\n",
            "100/100 [==============================] - 0s 2ms/step - loss: 0.7159 - accuracy: 0.7084\n",
            "Epoch 34/50\n",
            "100/100 [==============================] - 0s 2ms/step - loss: 0.7089 - accuracy: 0.7081\n",
            "Epoch 35/50\n",
            "100/100 [==============================] - 0s 2ms/step - loss: 0.6803 - accuracy: 0.7197\n",
            "Epoch 36/50\n",
            "100/100 [==============================] - 0s 2ms/step - loss: 0.6856 - accuracy: 0.7253\n",
            "Epoch 37/50\n",
            "100/100 [==============================] - 0s 2ms/step - loss: 0.6945 - accuracy: 0.7065\n",
            "Epoch 38/50\n",
            "100/100 [==============================] - 0s 2ms/step - loss: 0.7156 - accuracy: 0.7012\n",
            "Epoch 39/50\n",
            "100/100 [==============================] - 0s 2ms/step - loss: 0.6749 - accuracy: 0.7212\n",
            "Epoch 40/50\n",
            "100/100 [==============================] - 0s 2ms/step - loss: 0.6646 - accuracy: 0.7397\n",
            "Epoch 41/50\n",
            "100/100 [==============================] - 0s 2ms/step - loss: 0.7135 - accuracy: 0.6936\n",
            "Epoch 42/50\n",
            "100/100 [==============================] - 0s 2ms/step - loss: 0.6714 - accuracy: 0.7225\n",
            "Epoch 43/50\n",
            "100/100 [==============================] - 0s 2ms/step - loss: 0.6874 - accuracy: 0.7153\n",
            "Epoch 44/50\n",
            "100/100 [==============================] - 0s 2ms/step - loss: 0.6813 - accuracy: 0.7215\n",
            "Epoch 45/50\n",
            "100/100 [==============================] - 0s 2ms/step - loss: 0.6636 - accuracy: 0.7241\n",
            "Epoch 46/50\n",
            "100/100 [==============================] - 0s 2ms/step - loss: 0.6722 - accuracy: 0.7259\n",
            "Epoch 47/50\n",
            "100/100 [==============================] - 0s 2ms/step - loss: 0.6426 - accuracy: 0.7360\n",
            "Epoch 48/50\n",
            "100/100 [==============================] - 0s 2ms/step - loss: 0.6571 - accuracy: 0.7319\n",
            "Epoch 49/50\n",
            "100/100 [==============================] - 0s 2ms/step - loss: 0.6636 - accuracy: 0.7234\n",
            "Epoch 50/50\n",
            "100/100 [==============================] - 0s 2ms/step - loss: 0.6850 - accuracy: 0.7137\n",
            "100/100 [==============================] - 0s 2ms/step - loss: 0.6355 - accuracy: 0.7375\n",
            "Pérdida: 0.6355\n",
            "Precisión: 73.75%\n"
          ]
        },
        {
          "output_type": "display_data",
          "data": {
            "text/plain": [
              "<Figure size 640x480 with 1 Axes>"
            ],
            "image/png": "[encoded data removed]"
          },
          "metadata": {}
        }
      ]
    },
    {
      "cell_type": "code",
      "source": [
        "from sklearn.metrics import accuracy_score, classification_report, confusion_matrix\n",
        "import seaborn as sns\n",
        "import matplotlib.pyplot as plt\n",
        "\n",
        "# Obtener predicciones del conjunto de prueba\n",
        "y_pred_probs = model.predict(X_test)\n",
        "y_pred_labels = np.argmax(y_pred_probs, axis=1)\n",
        "\n",
        "\n",
        "# Asegúrate de que y_test tenga la misma longitud que y_pred\n",
        "y_test_subset = y_test[:len(y_pred)]\n",
        "# Definir un mapeo de renombre de clases\n",
        "class_mapping = {\n",
        "    0: 'Estadio 1',\n",
        "    1: 'Estadio 2',\n",
        "    2: 'Estadio 3',\n",
        "    3: 'Estadio 4',\n",
        "    4: 'Estadio 5'\n",
        "}\n",
        "\n",
        "# Aplicar el renombre de clases a las etiquetas reales y predichas\n",
        "y_test_mapped = [class_mapping[cl] for cl in y_test]\n",
        "y_pred_mapped = [class_mapping[cl] for cl in y_pred_labels]\n",
        "\n",
        "# Calcular y mostrar la precisión del modelo\n",
        "accuracy = accuracy_score(y_test_mapped, y_pred_mapped)\n",
        "print(\"Precisión del Modelo: %.2f%%\" % (accuracy * 100.0))\n",
        "\n",
        "# Mostrar el reporte de clasificación con nombres de clases personalizados\n",
        "print('Reporte de Clasificación:')\n",
        "print(classification_report(y_test_mapped, y_pred_mapped))\n",
        "\n",
        "# Calcular y mostrar la matriz de confusión con nombres de clases personalizados\n",
        "conf_matrix = confusion_matrix(y_test_mapped, y_pred_mapped)\n",
        "plt.figure(figsize=(8, 6))\n",
        "sns.heatmap(conf_matrix, annot=True, fmt='g', cmap='Blues', xticklabels=class_mapping.values(), yticklabels=class_mapping.values())\n",
        "plt.xlabel('Etiquetas Predichas')\n",
        "plt.ylabel('Etiquetas Verdaderas')\n",
        "plt.title('Matriz de Confusión')\n",
        "plt.show()\n",
        "\n",
        "import numpy as np\n",
        "# Suponiendo que 'y_true' son los valores reales y 'y_pred' son las predicciones del modelo en el conjunto de validación\n",
        "residuals = y_test - y_pred\n",
        "variance = np.mean(residuals**2)\n",
        "print(\"variance del Modelo:\", variance)\n",
        "\n",
        "\n",
        "bias = np.mean(y_pred - y_test)\n",
        "print(\"sesgo del Modelo:\", bias)\n"
      ],
      "metadata": {
        "id": "7UQYqZvM1s_o",
        "colab": {
          "base_uri": "https://localhost:8080/",
          "height": 859
        },
        "outputId": "4263b5c8-2674-4694-9391-ec1dd08c41ec"
      },
      "execution_count": null,
      "outputs": [
        {
          "output_type": "stream",
          "name": "stdout",
          "text": [
            "30/30 [==============================] - 0s 1ms/step\n",
            "Precisión del Modelo: 73.67%\n",
            "Reporte de Clasificación:\n",
            "              precision    recall  f1-score   support\n",
            "\n",
            "   Estadio 1       0.74      0.82      0.78       240\n",
            "   Estadio 2       0.69      0.80      0.74       401\n",
            "   Estadio 3       0.83      0.60      0.70       278\n",
            "   Estadio 4       1.00      0.44      0.62        36\n",
            "   Estadio 5       1.00      0.50      0.67         2\n",
            "\n",
            "    accuracy                           0.74       957\n",
            "   macro avg       0.85      0.64      0.70       957\n",
            "weighted avg       0.75      0.74      0.73       957\n",
            "\n"
          ]
        },
        {
          "output_type": "display_data",
          "data": {
            "text/plain": [
              "<Figure size 800x600 with 2 Axes>"
            ],
            "image/png": "[encoded data removed]"
          },
          "metadata": {}
        },
        {
          "output_type": "stream",
          "name": "stdout",
          "text": [
            "variance del Modelo: 0.49320794148380354\n",
            "sesgo del Modelo: 0.08150470219435736\n"
          ]
        }
      ]
    },
    {
      "cell_type": "markdown",
      "source": [
        "**Maquinas de soporte vectorial (SVM)**"
      ],
      "metadata": {
        "id": "CBBh79Wq1DKq"
      }
    },
    {
      "cell_type": "code",
      "source": [
        "#Se utiliza la clase 'SVC' se usan para problemas de clasificacion se emplea el método fit,\n",
        "#se entrena ajustado a los datos de entrenamiento, esto  implica que el modelo ajusta\n",
        "#los parámetros para aprender la relación entre las características de entrada (X) y las etiquetas de salida (y) en el conjunto de entrenamiento.\n",
        "from sklearn.svm import SVC # \"Support vector classifier\"\n",
        "from sklearn.metrics import accuracy_score, recall_score, f1_score\n",
        "from sklearn.metrics import confusion_matrix\n",
        "model = SVC()\n",
        "model.fit(X_train, y_train)"
      ],
      "metadata": {
        "id": "25D4us761KJh",
        "colab": {
          "base_uri": "https://localhost:8080/",
          "height": 75
        },
        "outputId": "604a79fc-c083-407f-fb08-e1fef9beaf1f"
      },
      "execution_count": null,
      "outputs": [
        {
          "output_type": "execute_result",
          "data": {
            "text/plain": [
              "SVC()"
            ],
            "text/html": [
              "<style>#sk-container-id-4 {color: black;background-color: white;}#sk-container-id-4 pre{padding: 0;}#sk-container-id-4 div.sk-toggleable {background-color: white;}#sk-container-id-4 label.sk-toggleable__label {cursor: pointer;display: block;width: 100%;margin-bottom: 0;padding: 0.3em;box-sizing: border-box;text-align: center;}#sk-container-id-4 label.sk-toggleable__label-arrow:before {content: \"▸\";float: left;margin-right: 0.25em;color: #696969;}#sk-container-id-4 label.sk-toggleable__label-arrow:hover:before {color: black;}#sk-container-id-4 div.sk-estimator:hover label.sk-toggleable__label-arrow:before {color: black;}#sk-container-id-4 div.sk-toggleable__content {max-height: 0;max-width: 0;overflow: hidden;text-align: left;background-color: #f0f8ff;}#sk-container-id-4 div.sk-toggleable__content pre {margin: 0.2em;color: black;border-radius: 0.25em;background-color: #f0f8ff;}#sk-container-id-4 input.sk-toggleable__control:checked~div.sk-toggleable__content {max-height: 200px;max-width: 100%;overflow: auto;}#sk-container-id-4 input.sk-toggleable__control:checked~label.sk-toggleable__label-arrow:before {content: \"▾\";}#sk-container-id-4 div.sk-estimator input.sk-toggleable__control:checked~label.sk-toggleable__label {background-color: #d4ebff;}#sk-container-id-4 div.sk-label input.sk-toggleable__control:checked~label.sk-toggleable__label {background-color: #d4ebff;}#sk-container-id-4 input.sk-hidden--visually {border: 0;clip: rect(1px 1px 1px 1px);clip: rect(1px, 1px, 1px, 1px);height: 1px;margin: -1px;overflow: hidden;padding: 0;position: absolute;width: 1px;}#sk-container-id-4 div.sk-estimator {font-family: monospace;background-color: #f0f8ff;border: 1px dotted black;border-radius: 0.25em;box-sizing: border-box;margin-bottom: 0.5em;}#sk-container-id-4 div.sk-estimator:hover {background-color: #d4ebff;}#sk-container-id-4 div.sk-parallel-item::after {content: \"\";width: 100%;border-bottom: 1px solid gray;flex-grow: 1;}#sk-container-id-4 div.sk-label:hover label.sk-toggleable__label {background-color: #d4ebff;}#sk-container-id-4 div.sk-serial::before {content: \"\";position: absolute;border-left: 1px solid gray;box-sizing: border-box;top: 0;bottom: 0;left: 50%;z-index: 0;}#sk-container-id-4 div.sk-serial {display: flex;flex-direction: column;align-items: center;background-color: white;padding-right: 0.2em;padding-left: 0.2em;position: relative;}#sk-container-id-4 div.sk-item {position: relative;z-index: 1;}#sk-container-id-4 div.sk-parallel {display: flex;align-items: stretch;justify-content: center;background-color: white;position: relative;}#sk-container-id-4 div.sk-item::before, #sk-container-id-4 div.sk-parallel-item::before {content: \"\";position: absolute;border-left: 1px solid gray;box-sizing: border-box;top: 0;bottom: 0;left: 50%;z-index: -1;}#sk-container-id-4 div.sk-parallel-item {display: flex;flex-direction: column;z-index: 1;position: relative;background-color: white;}#sk-container-id-4 div.sk-parallel-item:first-child::after {align-self: flex-end;width: 50%;}#sk-container-id-4 div.sk-parallel-item:last-child::after {align-self: flex-start;width: 50%;}#sk-container-id-4 div.sk-parallel-item:only-child::after {width: 0;}#sk-container-id-4 div.sk-dashed-wrapped {border: 1px dashed gray;margin: 0 0.4em 0.5em 0.4em;box-sizing: border-box;padding-bottom: 0.4em;background-color: white;}#sk-container-id-4 div.sk-label label {font-family: monospace;font-weight: bold;display: inline-block;line-height: 1.2em;}#sk-container-id-4 div.sk-label-container {text-align: center;}#sk-container-id-4 div.sk-container {/* jupyter's `normalize.less` sets `[hidden] { display: none; }` but bootstrap.min.css set `[hidden] { display: none !important; }` so we also need the `!important` here to be able to override the default hidden behavior on the sphinx rendered scikit-learn.org. See: https://github.com/scikit-learn/scikit-learn/issues/21755 */display: inline-block !important;position: relative;}#sk-container-id-4 div.sk-text-repr-fallback {display: none;}</style><div id=\"sk-container-id-4\" class=\"sk-top-container\"><div class=\"sk-text-repr-fallback\"><pre>SVC()</pre><b>In a Jupyter environment, please rerun this cell to show the HTML representation or trust the notebook. <br />On GitHub, the HTML representation is unable to render, please try loading this page with nbviewer.org.</b></div><div class=\"sk-container\" hidden><div class=\"sk-item\"><div class=\"sk-estimator sk-toggleable\"><input class=\"sk-toggleable__control sk-hidden--visually\" id=\"sk-estimator-id-4\" type=\"checkbox\" checked><label for=\"sk-estimator-id-4\" class=\"sk-toggleable__label sk-toggleable__label-arrow\">SVC</label><div class=\"sk-toggleable__content\"><pre>SVC()</pre></div></div></div></div></div>"
            ]
          },
          "metadata": {},
          "execution_count": 175
        }
      ]
    },
    {
      "cell_type": "code",
      "source": [
        "# Realizar predicciones en el conjunto de prueba\n",
        "y_pred = model.predict(X_test)"
      ],
      "metadata": {
        "id": "UT8HSvLC2xHR"
      },
      "execution_count": null,
      "outputs": []
    },
    {
      "cell_type": "code",
      "source": [
        "model.predict(X_train)"
      ],
      "metadata": {
        "id": "4ayvlCTcM-sB",
        "colab": {
          "base_uri": "https://localhost:8080/"
        },
        "outputId": "f7817266-4331-40af-b04c-06026498dc27"
      },
      "execution_count": null,
      "outputs": [
        {
          "output_type": "execute_result",
          "data": {
            "text/plain": [
              "array([1, 1, 1, ..., 2, 2, 1])"
            ]
          },
          "metadata": {},
          "execution_count": 177
        }
      ]
    },
    {
      "cell_type": "code",
      "source": [
        "y_pred = model.predict(X_test)"
      ],
      "metadata": {
        "id": "crSRti-SNLLS"
      },
      "execution_count": null,
      "outputs": []
    },
    {
      "cell_type": "code",
      "source": [
        "cm = confusion_matrix(y_test, y_pred)"
      ],
      "metadata": {
        "id": "7jdyDvACNRbS"
      },
      "execution_count": null,
      "outputs": []
    },
    {
      "cell_type": "code",
      "source": [
        "cm_df = pd.DataFrame(cm,\n",
        "                     index = ['Estadio1','Estadio2','Estadio3','Estadio4','Estadio5'],\n",
        "                     columns = [['Estadio1','Estadio2','Estadio3','Estadio4','Estadio5']])"
      ],
      "metadata": {
        "id": "jdye_FyKNama"
      },
      "execution_count": null,
      "outputs": []
    },
    {
      "cell_type": "code",
      "source": [
        "from sklearn.metrics import accuracy_score, classification_report, confusion_matrix\n",
        "import seaborn as sns\n",
        "import matplotlib.pyplot as plt\n",
        "\n",
        "# Obtener predicciones para el conjunto de entrenamiento\n",
        "preds = model.predict(X_train)\n",
        "\n",
        "# Definir un mapeo de renombre de clases\n",
        "class_mapping = {\n",
        "    0: 'Estadio 1',\n",
        "    1: 'Estadio 2',\n",
        "    2: 'Estadio 3',\n",
        "    3: 'Estadio 4',\n",
        "    4: 'Estadio 5'\n",
        "}\n",
        "\n",
        "# Aplicar el renombre de clases a las etiquetas reales y predichas\n",
        "y_train_mapped = [class_mapping[cl] for cl in y_train]\n",
        "preds_mapped = [class_mapping[cl] for cl in preds]\n",
        "\n",
        "# Calcular la precisión del modelo\n",
        "accuracy = accuracy_score(y_train_mapped, preds_mapped)\n",
        "\n",
        "# Mostrar reporte de clasificación (precision, recall, f1-score, support) con nombres de clases personalizados\n",
        "print(\"Reporte de Clasificación:\\n\", classification_report(y_train_mapped, preds_mapped))\n",
        "\n",
        "# Calcular y mostrar la matriz de confusión con nombres de clases personalizados\n",
        "conf_matrix = confusion_matrix(y_train_mapped, preds_mapped)\n",
        "plt.figure(figsize=(8, 6))\n",
        "sns.heatmap(conf_matrix, annot=True, fmt='g', cmap='Blues', xticklabels=class_mapping.values(), yticklabels=class_mapping.values())\n",
        "plt.xlabel('Etiquetas Predichas')\n",
        "plt.ylabel('Etiquetas Verdaderas')\n",
        "plt.title('Matriz de Confusión')\n",
        "plt.show()\n",
        "\n",
        "# Mostrar la precisión del modelo\n",
        "print(\"Precisión del Modelo:\", accuracy)\n",
        "\n",
        "import numpy as np\n",
        "# Suponiendo que 'y_true' son los valores reales y 'y_pred' son las predicciones del modelo en el conjunto de validación\n",
        "residuals = y_test - y_pred\n",
        "variance = np.mean(residuals**2)\n",
        "print(\"variance del Modelo:\", variance)\n",
        "\n",
        "\n",
        "bias = np.mean(y_pred - y_test)\n",
        "print(\"sesgo del Modelo:\", bias)"
      ],
      "metadata": {
        "id": "NFjFEjtk0xqh",
        "colab": {
          "base_uri": "https://localhost:8080/",
          "height": 966
        },
        "outputId": "4e314a29-4478-4210-dfe4-feee0e34726f"
      },
      "execution_count": null,
      "outputs": [
        {
          "output_type": "stream",
          "name": "stderr",
          "text": [
            "/usr/local/lib/python3.10/dist-packages/sklearn/metrics/_classification.py:1344: UndefinedMetricWarning: Precision and F-score are ill-defined and being set to 0.0 in labels with no predicted samples. Use `zero_division` parameter to control this behavior.\n",
            "  _warn_prf(average, modifier, msg_start, len(result))\n",
            "/usr/local/lib/python3.10/dist-packages/sklearn/metrics/_classification.py:1344: UndefinedMetricWarning: Precision and F-score are ill-defined and being set to 0.0 in labels with no predicted samples. Use `zero_division` parameter to control this behavior.\n",
            "  _warn_prf(average, modifier, msg_start, len(result))\n",
            "/usr/local/lib/python3.10/dist-packages/sklearn/metrics/_classification.py:1344: UndefinedMetricWarning: Precision and F-score are ill-defined and being set to 0.0 in labels with no predicted samples. Use `zero_division` parameter to control this behavior.\n",
            "  _warn_prf(average, modifier, msg_start, len(result))\n"
          ]
        },
        {
          "output_type": "stream",
          "name": "stdout",
          "text": [
            "Reporte de Clasificación:\n",
            "               precision    recall  f1-score   support\n",
            "\n",
            "   Estadio 1       0.76      0.44      0.55       553\n",
            "   Estadio 2       0.53      0.72      0.61       869\n",
            "   Estadio 3       0.61      0.63      0.62       706\n",
            "   Estadio 4       1.00      0.03      0.07        86\n",
            "   Estadio 5       0.00      0.00      0.00        18\n",
            "\n",
            "    accuracy                           0.59      2232\n",
            "   macro avg       0.58      0.36      0.37      2232\n",
            "weighted avg       0.62      0.59      0.57      2232\n",
            "\n"
          ]
        },
        {
          "output_type": "display_data",
          "data": {
            "text/plain": [
              "<Figure size 800x600 with 2 Axes>"
            ],
            "image/png": "[encoded data removed]"
          },
          "metadata": {}
        },
        {
          "output_type": "stream",
          "name": "stdout",
          "text": [
            "Precisión del Modelo: 0.5887096774193549\n",
            "variance del Modelo: 0.49320794148380354\n",
            "sesgo del Modelo: 0.08150470219435736\n"
          ]
        }
      ]
    }
  ]
}